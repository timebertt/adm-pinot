{
 "cells": [
  {
   "cell_type": "code",
   "execution_count": null,
   "id": "geographic-comfort",
   "metadata": {},
   "outputs": [],
   "source": [
    "import names\n",
    "import random\n",
    "import pgeocode\n",
    "import csv\n",
    "import requests\n",
    "import json\n",
    "import pgeocode"
   ]
  },
  {
   "cell_type": "markdown",
   "id": "tired-mercy",
   "metadata": {},
   "source": [
    "## Generate Pinot Table (Prerequisite: Schema has already been created)"
   ]
  },
  {
   "cell_type": "code",
   "execution_count": null,
   "id": "nutritional-falls",
   "metadata": {},
   "outputs": [],
   "source": [
    "v_path_to_table_config = \"trips/trips_realtime_table_config.json\""
   ]
  },
  {
   "cell_type": "code",
   "execution_count": null,
   "id": "cheap-bumper",
   "metadata": {},
   "outputs": [],
   "source": [
    "response = requests.post('http://pinot-controller.pinot:9000/tables', json=json.load(open(v_path_to_table_config)))\n",
    "print(response)\n",
    "print(response.text)"
   ]
  },
  {
   "cell_type": "markdown",
   "id": "different-university",
   "metadata": {},
   "source": [
    "## Kafka Create Topic "
   ]
  },
  {
   "cell_type": "code",
   "execution_count": null,
   "id": "governing-devil",
   "metadata": {},
   "outputs": [],
   "source": [
    "from kafka.admin import KafkaAdminClient, NewTopic\n",
    "\n",
    "admin_client = KafkaAdminClient(\n",
    "    bootstrap_servers=\"pinot-kafka.pinot:9092\", \n",
    "    client_id='test'\n",
    ")"
   ]
  },
  {
   "cell_type": "code",
   "execution_count": null,
   "id": "knowing-single",
   "metadata": {},
   "outputs": [],
   "source": [
    "# deletion of Kafka Topic fails\n",
    "# admin_client.delete_topics(topics=[\"trips_generated_data\"])"
   ]
  },
  {
   "cell_type": "code",
   "execution_count": null,
   "id": "binding-relationship",
   "metadata": {},
   "outputs": [],
   "source": [
    "# trips_generated_data created on 27th March 2021, wrong data (multiple times same records)\n",
    "# admin_client.create_topics(new_topics=[NewTopic(name=\"trips_generated_data\", num_partitions=1, replication_factor=1)], validate_only=False)"
   ]
  },
  {
   "cell_type": "markdown",
   "id": "supreme-omega",
   "metadata": {},
   "source": [
    "## Kafka Producer - Generate Data"
   ]
  },
  {
   "cell_type": "code",
   "execution_count": null,
   "id": "level-rabbit",
   "metadata": {},
   "outputs": [],
   "source": [
    "#Choose random city of file containing German cities with postcode\n",
    "\n",
    "geocode_file = open('./pgeocode_data/DE.txt')\n",
    "# skip first line (header)\n",
    "geocode_file.readline()\n",
    "geocode_list = list(csv.reader(geocode_file))\n",
    "\n",
    "def choose_random_city():\n",
    "    return random.choice(geocode_list)\n",
    "    \n",
    "# Generation of License Plate    \n",
    "def generate_license_plate():\n",
    "    #create a pool of letters to choose from\n",
    "    letters = 'ABCDEFGHIJKLMNOPQRSTUVWXYZ'\n",
    "    numbers = '0123456789'\n",
    "\n",
    "    #create a program loop\n",
    "\n",
    "     #generate 3 randomly chosen letters, L1, L2, L3\n",
    "    L1 = random.choice(letters)\n",
    "    L2 = random.choice(letters)\n",
    "    L3 = random.choice(letters)\n",
    "    L4 = random.choice(letters)\n",
    "     #generate 4 randomly chosen numbers, N1, N2, N3, N4\n",
    "    N1 = random.choice(numbers)\n",
    "    N2 = random.choice(numbers)\n",
    "  \n",
    "        #combine it together into one print function\n",
    "    return(L1+L2+'-'+L3+L4+'-'+N1+N2)\n",
    "\n",
    "# Calculation of price based on distance between start city and end destination\n",
    "def calculate_price(v_distance):\n",
    "    v_multiplicator=round(random.uniform(0.8, 2.0),2)\n",
    "    v_price=round(v_distance*v_multiplicator,2)\n",
    "    return(v_price)\n",
    "    "
   ]
  },
  {
   "cell_type": "code",
   "execution_count": null,
   "id": "abstract-range",
   "metadata": {},
   "outputs": [],
   "source": [
    "dist = pgeocode.GeoDistance('de')"
   ]
  },
  {
   "cell_type": "code",
   "execution_count": null,
   "id": "worst-webmaster",
   "metadata": {},
   "outputs": [],
   "source": [
    "from kafka import KafkaProducer\n",
    "\n",
    "producer = KafkaProducer(bootstrap_servers=['pinot-kafka.pinot:9092'], value_serializer=lambda v: json.dumps(v).encode('utf-8'))"
   ]
  },
  {
   "cell_type": "code",
   "execution_count": null,
   "id": "animal-profit",
   "metadata": {},
   "outputs": [],
   "source": [
    "# Generate data\n",
    "for i in range(50000):\n",
    "    v_start_location=choose_random_city()\n",
    "    v_end_location=choose_random_city()\n",
    "    #if travelling in one postcode area\n",
    "    if v_start_location[1] == v_start_location[2]:\n",
    "        v_distance=random(0.5,6)\n",
    "    else:\n",
    "        v_distance=dist.query_postal_code(v_start_location[1], v_end_location[1])\n",
    "    v_requesttime = random.randint(1585263600000,1616847444944);\n",
    "    v_waiting_time_millis = random.randint(1,3600000)\n",
    "    v_trip_time = round((v_distance/random.randint(45,60)) * 60 *60*1000)\n",
    "    record = {\n",
    "        \"rider_name\": names.get_full_name(),\n",
    "        \"driver_name\": names.get_full_name(),\n",
    "        \"license_plate\":generate_license_plate(),\n",
    "        \"start_location\":v_start_location[2],\n",
    "        \"start_zip_code\":v_start_location[1],\n",
    "        \"start_location_state\":v_start_location[3],\n",
    "        \"end_location\":v_end_location[2],\n",
    "        \"end_zip_code\":v_end_location[1],\n",
    "        \"end_location_state\":v_end_location[3],\n",
    "        \"rider_is_premium\":random.randint(0, 1),\n",
    "        \"count\":1,\n",
    "        \"payment_amount\": calculate_price(v_distance),\n",
    "        \"payment_tip_amount\": random.randint(5,50),\n",
    "        \"trip_wait_time_millis\":v_waiting_time_millis,\n",
    "        \"rider_rating\":random.randint(0,5),\n",
    "        \"driver_rating\":random.randint(0,5),\n",
    "        \"trip_start_time_millis\": v_requesttime+v_waiting_time_millis,\n",
    "        \"request_time_millis\":v_requesttime,\n",
    "        \"trip_end_time_millis\": v_requesttime+v_waiting_time_millis+v_trip_time\n",
    "    }\n",
    "    if i % 50 == 0:\n",
    "        print(f'{i} records generated')\n",
    "    producer.send('trips_gendata', value=record)\n"
   ]
  },
  {
   "cell_type": "code",
   "execution_count": null,
   "id": "quality-insight",
   "metadata": {},
   "outputs": [],
   "source": []
  }
 ],
 "metadata": {
  "kernelspec": {
   "display_name": "Python 3",
   "language": "python",
   "name": "python3"
  },
  "language_info": {
   "codemirror_mode": {
    "name": "ipython",
    "version": 3
   },
   "file_extension": ".py",
   "mimetype": "text/x-python",
   "name": "python",
   "nbconvert_exporter": "python",
   "pygments_lexer": "ipython3",
   "version": "3.8.8"
  }
 },
 "nbformat": 4,
 "nbformat_minor": 5
}
