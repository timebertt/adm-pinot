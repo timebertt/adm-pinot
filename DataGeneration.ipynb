{
 "cells": [
  {
   "cell_type": "code",
   "execution_count": 149,
   "id": "gross-operations",
   "metadata": {},
   "outputs": [],
   "source": [
    "import names\n",
    "import random\n",
    "import pgeocode\n",
    "import csv\n",
    "import requests\n",
    "import json\n",
    "import pgeocode"
   ]
  },
  {
   "cell_type": "markdown",
   "id": "retained-tongue",
   "metadata": {},
   "source": [
    "## Generate Pinot Table (Prerequisite: Schema has already been created)"
   ]
  },
  {
   "cell_type": "code",
   "execution_count": 144,
   "id": "patent-velvet",
   "metadata": {},
   "outputs": [],
   "source": [
    "v_path_to_table_config = \"trips/trips_realtime_table_config.json\""
   ]
  },
  {
   "cell_type": "code",
   "execution_count": 146,
   "id": "attempted-cigarette",
   "metadata": {},
   "outputs": [
    {
     "name": "stdout",
     "output_type": "stream",
     "text": [
      "<Response [200]>\n",
      "{\"status\":\"Table trips_new_generated_data4_REALTIME succesfully added\"}\n"
     ]
    }
   ],
   "source": [
    "response = requests.post('http://pinot-controller.pinot:9000/tables', json=json.load(open(v_path_to_table_config)))\n",
    "print(response)\n",
    "print(response.text)"
   ]
  },
  {
   "cell_type": "markdown",
   "id": "figured-vanilla",
   "metadata": {},
   "source": [
    "## Kafka Create Topic "
   ]
  },
  {
   "cell_type": "code",
   "execution_count": 127,
   "id": "strange-bedroom",
   "metadata": {},
   "outputs": [],
   "source": [
    "from kafka.admin import KafkaAdminClient, NewTopic\n",
    "\n",
    "admin_client = KafkaAdminClient(\n",
    "    bootstrap_servers=\"pinot-kafka.pinot:9092\", \n",
    "    client_id='test'\n",
    ")"
   ]
  },
  {
   "cell_type": "code",
   "execution_count": 147,
   "id": "empty-howard",
   "metadata": {},
   "outputs": [],
   "source": [
    "# deletion of Kafka Topic fails\n",
    "# admin_client.delete_topics(topics=[\"trips_generated_data\"])"
   ]
  },
  {
   "cell_type": "code",
   "execution_count": 138,
   "id": "taken-apple",
   "metadata": {},
   "outputs": [
    {
     "ename": "TopicAlreadyExistsError",
     "evalue": "[Error 36] TopicAlreadyExistsError: Request 'CreateTopicsRequest_v3(create_topic_requests=[(topic='trips_generated_data', num_partitions=1, replication_factor=1, replica_assignment=[], configs=[])], timeout=30000, validate_only=False)' failed with response 'CreateTopicsResponse_v3(throttle_time_ms=0, topic_errors=[(topic='trips_generated_data', error_code=36, error_message=\"Topic 'trips_generated_data' already exists.\")])'.",
     "output_type": "error",
     "traceback": [
      "\u001b[0;31m---------------------------------------------------------------------------\u001b[0m",
      "\u001b[0;31mTopicAlreadyExistsError\u001b[0m                   Traceback (most recent call last)",
      "\u001b[0;32m<ipython-input-138-1e1fb3e6674d>\u001b[0m in \u001b[0;36m<module>\u001b[0;34m\u001b[0m\n\u001b[0;32m----> 1\u001b[0;31m \u001b[0madmin_client\u001b[0m\u001b[0;34m.\u001b[0m\u001b[0mcreate_topics\u001b[0m\u001b[0;34m(\u001b[0m\u001b[0mnew_topics\u001b[0m\u001b[0;34m=\u001b[0m\u001b[0;34m[\u001b[0m\u001b[0mNewTopic\u001b[0m\u001b[0;34m(\u001b[0m\u001b[0mname\u001b[0m\u001b[0;34m=\u001b[0m\u001b[0;34m\"trips_generated_data\"\u001b[0m\u001b[0;34m,\u001b[0m \u001b[0mnum_partitions\u001b[0m\u001b[0;34m=\u001b[0m\u001b[0;36m1\u001b[0m\u001b[0;34m,\u001b[0m \u001b[0mreplication_factor\u001b[0m\u001b[0;34m=\u001b[0m\u001b[0;36m1\u001b[0m\u001b[0;34m)\u001b[0m\u001b[0;34m]\u001b[0m\u001b[0;34m,\u001b[0m \u001b[0mvalidate_only\u001b[0m\u001b[0;34m=\u001b[0m\u001b[0;32mFalse\u001b[0m\u001b[0;34m)\u001b[0m\u001b[0;34m\u001b[0m\u001b[0;34m\u001b[0m\u001b[0m\n\u001b[0m",
      "\u001b[0;32m/opt/conda/lib/python3.8/site-packages/kafka/admin/client.py\u001b[0m in \u001b[0;36mcreate_topics\u001b[0;34m(self, new_topics, timeout_ms, validate_only)\u001b[0m\n\u001b[1;32m    459\u001b[0m         \u001b[0;31m# TODO convert structs to a more pythonic interface\u001b[0m\u001b[0;34m\u001b[0m\u001b[0;34m\u001b[0m\u001b[0;34m\u001b[0m\u001b[0m\n\u001b[1;32m    460\u001b[0m         \u001b[0;31m# TODO raise exceptions if errors\u001b[0m\u001b[0;34m\u001b[0m\u001b[0;34m\u001b[0m\u001b[0;34m\u001b[0m\u001b[0m\n\u001b[0;32m--> 461\u001b[0;31m         \u001b[0;32mreturn\u001b[0m \u001b[0mself\u001b[0m\u001b[0;34m.\u001b[0m\u001b[0m_send_request_to_controller\u001b[0m\u001b[0;34m(\u001b[0m\u001b[0mrequest\u001b[0m\u001b[0;34m)\u001b[0m\u001b[0;34m\u001b[0m\u001b[0;34m\u001b[0m\u001b[0m\n\u001b[0m\u001b[1;32m    462\u001b[0m \u001b[0;34m\u001b[0m\u001b[0m\n\u001b[1;32m    463\u001b[0m     \u001b[0;32mdef\u001b[0m \u001b[0mdelete_topics\u001b[0m\u001b[0;34m(\u001b[0m\u001b[0mself\u001b[0m\u001b[0;34m,\u001b[0m \u001b[0mtopics\u001b[0m\u001b[0;34m,\u001b[0m \u001b[0mtimeout_ms\u001b[0m\u001b[0;34m=\u001b[0m\u001b[0;32mNone\u001b[0m\u001b[0;34m)\u001b[0m\u001b[0;34m:\u001b[0m\u001b[0;34m\u001b[0m\u001b[0;34m\u001b[0m\u001b[0m\n",
      "\u001b[0;32m/opt/conda/lib/python3.8/site-packages/kafka/admin/client.py\u001b[0m in \u001b[0;36m_send_request_to_controller\u001b[0;34m(self, request)\u001b[0m\n\u001b[1;32m    405\u001b[0m                     \u001b[0;32mbreak\u001b[0m\u001b[0;34m\u001b[0m\u001b[0;34m\u001b[0m\u001b[0m\n\u001b[1;32m    406\u001b[0m                 \u001b[0;32melif\u001b[0m \u001b[0merror_type\u001b[0m \u001b[0;32mis\u001b[0m \u001b[0;32mnot\u001b[0m \u001b[0mErrors\u001b[0m\u001b[0;34m.\u001b[0m\u001b[0mNoError\u001b[0m\u001b[0;34m:\u001b[0m\u001b[0;34m\u001b[0m\u001b[0;34m\u001b[0m\u001b[0m\n\u001b[0;32m--> 407\u001b[0;31m                     raise error_type(\n\u001b[0m\u001b[1;32m    408\u001b[0m                         \u001b[0;34m\"Request '{}' failed with response '{}'.\"\u001b[0m\u001b[0;34m\u001b[0m\u001b[0;34m\u001b[0m\u001b[0m\n\u001b[1;32m    409\u001b[0m                         .format(request, response))\n",
      "\u001b[0;31mTopicAlreadyExistsError\u001b[0m: [Error 36] TopicAlreadyExistsError: Request 'CreateTopicsRequest_v3(create_topic_requests=[(topic='trips_generated_data', num_partitions=1, replication_factor=1, replica_assignment=[], configs=[])], timeout=30000, validate_only=False)' failed with response 'CreateTopicsResponse_v3(throttle_time_ms=0, topic_errors=[(topic='trips_generated_data', error_code=36, error_message=\"Topic 'trips_generated_data' already exists.\")])'."
     ]
    }
   ],
   "source": [
    "# trips_generated_data created on 27th March 2021, wrong data (multiple times same records)\n",
    "# admin_client.create_topics(new_topics=[NewTopic(name=\"trips_generated_data\", num_partitions=1, replication_factor=1)], validate_only=False)"
   ]
  },
  {
   "cell_type": "markdown",
   "id": "treated-american",
   "metadata": {},
   "source": [
    "## Kafka Producer - Generate Data"
   ]
  },
  {
   "cell_type": "code",
   "execution_count": 129,
   "id": "confident-compatibility",
   "metadata": {},
   "outputs": [],
   "source": [
    "#Choose random city of file containing German cities with postcode\n",
    "def choose_random_city():\n",
    "    with open('./pgeocode_data/DE.txt') as f:\n",
    "        reader = csv.reader(f)\n",
    "        chosen_row = random.choice(list(reader))\n",
    "        return(chosen_row)\n",
    "    \n",
    "# Generation of License Plate    \n",
    "def generate_license_plate():\n",
    "    #create a pool of letters to choose from\n",
    "    letters = 'ABCDEFGHIJKLMNOPQRSTUVWXYZ'\n",
    "    numbers = '0123456789'\n",
    "\n",
    "    #create a program loop\n",
    "\n",
    "     #generate 3 randomly chosen letters, L1, L2, L3\n",
    "    L1 = random.choice(letters)\n",
    "    L2 = random.choice(letters)\n",
    "    L3 = random.choice(letters)\n",
    "    L4 = random.choice(letters)\n",
    "     #generate 4 randomly chosen numbers, N1, N2, N3, N4\n",
    "    N1 = random.choice(numbers)\n",
    "    N2 = random.choice(numbers)\n",
    "  \n",
    "        #combine it together into one print function\n",
    "    return(L1+L2+'-'+L3+L4+'-'+N1+N2)\n",
    "\n",
    "# Calculation of price based on distance between start city and end destination\n",
    "def calculate_price(v_distance):\n",
    "    v_multiplicator=round(random.uniform(0.8, 2.0),2)\n",
    "    v_price=round(v_distance*v_multiplicator,2)\n",
    "    return(v_price)\n",
    "    "
   ]
  },
  {
   "cell_type": "code",
   "execution_count": 130,
   "id": "matched-turkish",
   "metadata": {},
   "outputs": [],
   "source": [
    "dist = pgeocode.GeoDistance('de')"
   ]
  },
  {
   "cell_type": "code",
   "execution_count": 131,
   "id": "exposed-desert",
   "metadata": {},
   "outputs": [],
   "source": [
    "from kafka import KafkaProducer\n",
    "\n",
    "producer = KafkaProducer(bootstrap_servers=['pinot-kafka.pinot:9092'], value_serializer=lambda v: json.dumps(v).encode('utf-8'))"
   ]
  },
  {
   "cell_type": "code",
   "execution_count": 143,
   "id": "indie-roller",
   "metadata": {},
   "outputs": [
    {
     "name": "stdout",
     "output_type": "stream",
     "text": [
      "235.13529364233915\n",
      "{'rider_name': 'Robert Davidson', 'driver_name': 'Ernesto Tennill', 'license_plate': 'VX-QB-65', 'start_location': 'Erlangen', 'start_zip_code': '91054', 'end_location': 'Fluorn-Winzeln', 'end_zip_code': '78737', 'rider_is_premium': 0, 'count': 1, 'payment_amount': 213.97, 'payment_tip_amount': 48, 'trip_wait_time_millis': 1660594, 'rider_rating': 0, 'driver_rating': 1, 'trip_start_time_millis': 1614997228408, 'request_time_millis': 1614995567814, 'trip_end_time_millis': 1615006192199}\n",
      "106.77284728146931\n",
      "{'rider_name': 'Israel Norman', 'driver_name': 'Stephanie Worcester', 'license_plate': 'VS-VW-16', 'start_location': 'Schnega', 'start_zip_code': '29465', 'end_location': 'Hamburg Blankenese', 'end_zip_code': '22589', 'rider_is_premium': 0, 'count': 1, 'payment_amount': 124.92, 'payment_tip_amount': 12, 'trip_wait_time_millis': 420994, 'rider_rating': 1, 'driver_rating': 4, 'trip_start_time_millis': 1600287647850, 'request_time_millis': 1600287226856, 'trip_end_time_millis': 1600295947656}\n",
      "315.5019342760589\n",
      "{'rider_name': 'Earnestine Petty', 'driver_name': 'Malisa Cluff', 'license_plate': 'NB-ZN-84', 'start_location': 'Regensburg', 'start_zip_code': '93047', 'end_location': 'Cattenstedt', 'end_zip_code': '38889', 'rider_is_premium': 0, 'count': 1, 'payment_amount': 615.23, 'payment_tip_amount': 24, 'trip_wait_time_millis': 1253361, 'rider_rating': 3, 'driver_rating': 0, 'trip_start_time_millis': 1605112778041, 'request_time_millis': 1605111524680, 'trip_end_time_millis': 1605120781426}\n",
      "511.5959630981176\n",
      "{'rider_name': 'Karla Miles', 'driver_name': 'Margaret Arellano', 'license_plate': 'WM-EE-62', 'start_location': 'Alsheim', 'start_zip_code': '67577', 'end_location': 'Vollerwiek', 'end_zip_code': '25836', 'rider_is_premium': 1, 'count': 1, 'payment_amount': 619.03, 'payment_tip_amount': 23, 'trip_wait_time_millis': 1251027, 'rider_rating': 3, 'driver_rating': 1, 'trip_start_time_millis': 1592362296669, 'request_time_millis': 1592361045642, 'trip_end_time_millis': 1592370024075}\n",
      "489.5932918753838\n",
      "{'rider_name': 'Karl Young', 'driver_name': 'Douglas Spencer', 'license_plate': 'GR-PM-46', 'start_location': 'Epfenbach', 'start_zip_code': '74925', 'end_location': 'Suckow', 'end_zip_code': '19376', 'rider_is_premium': 0, 'count': 1, 'payment_amount': 587.51, 'payment_tip_amount': 26, 'trip_wait_time_millis': 1216078, 'rider_rating': 5, 'driver_rating': 1, 'trip_start_time_millis': 1607564217786, 'request_time_millis': 1607563001708, 'trip_end_time_millis': 1607572836816}\n",
      "304.464316923819\n",
      "{'rider_name': 'Sarah Townsend', 'driver_name': 'Alison Pavick', 'license_plate': 'WL-MU-31', 'start_location': 'Schwaförden', 'start_zip_code': '27252', 'end_location': 'Kolverath', 'end_zip_code': '56767', 'rider_is_premium': 1, 'count': 1, 'payment_amount': 465.83, 'payment_tip_amount': 7, 'trip_wait_time_millis': 677195, 'rider_rating': 5, 'driver_rating': 5, 'trip_start_time_millis': 1607325981500, 'request_time_millis': 1607325304305, 'trip_end_time_millis': 1607335128225}\n",
      "498.73293121031736\n",
      "{'rider_name': 'Ruth Numbers', 'driver_name': 'Susanne Cavanaugh', 'license_plate': 'SP-MY-93', 'start_location': 'Ochtersum Ostochtersum', 'start_zip_code': '26489', 'end_location': 'Moritzburg', 'end_zip_code': '01468', 'rider_is_premium': 1, 'count': 1, 'payment_amount': 643.37, 'payment_tip_amount': 46, 'trip_wait_time_millis': 856964, 'rider_rating': 3, 'driver_rating': 5, 'trip_start_time_millis': 1605724424199, 'request_time_millis': 1605723567235, 'trip_end_time_millis': 1605733043229}\n",
      "425.6880922543087\n",
      "{'rider_name': 'Jenny Robledo', 'driver_name': 'Henry Roth', 'license_plate': 'MH-SP-79', 'start_location': 'Altenberg', 'start_zip_code': '01773', 'end_location': 'Deinste', 'end_zip_code': '21717', 'rider_is_premium': 1, 'count': 1, 'payment_amount': 493.8, 'payment_tip_amount': 47, 'trip_wait_time_millis': 601709, 'rider_rating': 5, 'driver_rating': 2, 'trip_start_time_millis': 1603066045301, 'request_time_millis': 1603065443592, 'trip_end_time_millis': 1603074501707}\n",
      "191.6791545879493\n",
      "{'rider_name': 'Wilfred Kent', 'driver_name': 'Lydia Sullivan', 'license_plate': 'WQ-WW-85', 'start_location': 'Stuttgart Plieningen', 'start_zip_code': '70599', 'end_location': 'Wildflecken', 'end_zip_code': '97772', 'rider_is_premium': 0, 'count': 1, 'payment_amount': 185.93, 'payment_tip_amount': 35, 'trip_wait_time_millis': 3132375, 'rider_rating': 4, 'driver_rating': 1, 'trip_start_time_millis': 1595195610705, 'request_time_millis': 1595192478330, 'trip_end_time_millis': 1595203338111}\n",
      "131.74285424539468\n",
      "{'rider_name': 'Javier Jensen', 'driver_name': 'Elvira Williams', 'license_plate': 'PM-JI-34', 'start_location': 'Lohr am Main', 'start_zip_code': '97816', 'end_location': 'Piesau', 'end_zip_code': '98739', 'rider_is_premium': 0, 'count': 1, 'payment_amount': 131.74, 'payment_tip_amount': 44, 'trip_wait_time_millis': 854267, 'rider_rating': 5, 'driver_rating': 5, 'trip_start_time_millis': 1615313432491, 'request_time_millis': 1615312578224, 'trip_end_time_millis': 1615321888897}\n"
     ]
    }
   ],
   "source": [
    "# Generate data\n",
    "for i in range(10):\n",
    "    v_start_location=choose_random_city()\n",
    "    v_end_location=choose_random_city()\n",
    "    #if travelling in one postcode area\n",
    "    if v_start_location[1] == v_start_location[2]:\n",
    "        v_distance=random(0.5,6)\n",
    "    else:\n",
    "        v_distance=dist.query_postal_code(v_start_location[1], v_end_location[1])\n",
    "    v_requesttime = random.randint(1585263600000,1616847444944);\n",
    "    v_waiting_time_millis = random.randint(1,3600000)\n",
    "    v_trip_time = round((v_distancetest/random.randint(45,60)) * 60 *60*1000)\n",
    "    record = {\n",
    "        \"rider_name\": names.get_full_name(),\n",
    "        \"driver_name\": names.get_full_name(),\n",
    "        \"license_plate\":generate_license_plate(),\n",
    "        \"start_location\":v_start_location[2],\n",
    "        \"start_zip_code\":v_start_location[1],\n",
    "        \"end_location\":v_end_location[2],\n",
    "        \"end_zip_code\":v_end_location[1],\n",
    "        \"rider_is_premium\":random.randint(0, 1),\n",
    "        \"count\":1,\n",
    "        \"payment_amount\": calculate_price(v_distance),\n",
    "        \"payment_tip_amount\": random.randint(5,50),\n",
    "        \"trip_wait_time_millis\":v_waiting_time_millis,\n",
    "        \"rider_rating\":random.randint(0,5),\n",
    "        \"driver_rating\":random.randint(0,5),\n",
    "        \"trip_start_time_millis\": v_requesttime+v_waiting_time_millis,\n",
    "        \"request_time_millis\":v_requesttime,\n",
    "        \"trip_end_time_millis\": v_requesttime+v_waiting_time_millis+v_trip_time\n",
    "    }\n",
    "    print(record)\n",
    "    producer.send('trips_generated_data', value=record)\n"
   ]
  }
 ],
 "metadata": {
  "kernelspec": {
   "display_name": "Python 3",
   "language": "python",
   "name": "python3"
  },
  "language_info": {
   "codemirror_mode": {
    "name": "ipython",
    "version": 3
   },
   "file_extension": ".py",
   "mimetype": "text/x-python",
   "name": "python",
   "nbconvert_exporter": "python",
   "pygments_lexer": "ipython3",
   "version": "3.8.8"
  }
 },
 "nbformat": 4,
 "nbformat_minor": 5
}
