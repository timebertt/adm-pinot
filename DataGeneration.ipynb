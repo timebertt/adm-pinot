{
 "cells": [
  {
   "cell_type": "code",
   "execution_count": 1,
   "id": "extended-current",
   "metadata": {},
   "outputs": [],
   "source": [
    "import names\n",
    "import time\n",
    "import random\n",
    "import pgeocode\n",
    "import csv\n",
    "import requests\n",
    "import json\n",
    "import pgeocode"
   ]
  },
  {
   "cell_type": "markdown",
   "id": "alone-northwest",
   "metadata": {},
   "source": [
    "## Generate Pinot Table (Prerequisite: Schema has already been created)"
   ]
  },
  {
   "cell_type": "code",
   "execution_count": 13,
   "id": "premium-fundamental",
   "metadata": {},
   "outputs": [],
   "source": [
    "# v_path_to_table_config = \"trips/trips_realtime_table_config.json\""
   ]
  },
  {
   "cell_type": "code",
   "execution_count": 14,
   "id": "satisfactory-timber",
   "metadata": {},
   "outputs": [],
   "source": [
    "# response = requests.post('http://pinot-controller.pinot:9000/tables', json=json.load(open(v_path_to_table_config)))\n",
    "# print(response)\n",
    "# print(response.text)"
   ]
  },
  {
   "cell_type": "markdown",
   "id": "worse-metallic",
   "metadata": {},
   "source": [
    "## Kafka Create Topic "
   ]
  },
  {
   "cell_type": "code",
   "execution_count": 15,
   "id": "fitting-offer",
   "metadata": {},
   "outputs": [],
   "source": [
    "from kafka.admin import KafkaAdminClient, NewTopic\n",
    "\n",
    "admin_client = KafkaAdminClient(\n",
    "    bootstrap_servers=\"pinot-kafka.pinot:9092\", \n",
    "    client_id='test'\n",
    ")"
   ]
  },
  {
   "cell_type": "code",
   "execution_count": 16,
   "id": "impossible-arrangement",
   "metadata": {},
   "outputs": [],
   "source": [
    "# delete old Kafka Topic\n",
    "# admin_client.delete_topics(topics=[\"trips\"])"
   ]
  },
  {
   "cell_type": "code",
   "execution_count": 17,
   "id": "musical-outreach",
   "metadata": {},
   "outputs": [],
   "source": [
    "# create new topic with settings\n",
    "# admin_client.create_topics(new_topics=[NewTopic(name=\"trips\", num_partitions=1, replication_factor=1)], validate_only=False)"
   ]
  },
  {
   "cell_type": "markdown",
   "id": "reasonable-outline",
   "metadata": {},
   "source": [
    "## Kafka Producer - Generate Data"
   ]
  },
  {
   "cell_type": "code",
   "execution_count": 18,
   "id": "yellow-separate",
   "metadata": {},
   "outputs": [],
   "source": [
    "# Choose random city of file containing German cities with postcode\n",
    "geocode_file = open('./pgeocode_data/DE.txt')\n",
    "geocode_list = list(csv.reader(geocode_file))[1:] # skip first line (header)\n",
    "random.shuffle(geocode_list)\n",
    "geocode_list = geocode_list[:1000] # take only random 1000 places to generate more overlapping data\n",
    "geocode_file.close()\n",
    "\n",
    "def choose_random_city():\n",
    "    return random.choice(geocode_list)\n",
    "\n",
    "# generate only 1000 driver/rider names to generate more overlapping data\n",
    "names_list = []\n",
    "for i in range(1000):\n",
    "    names_list.append(names.get_full_name())\n",
    "\n",
    "def choose_random_name():\n",
    "    return random.choice(names_list)\n",
    "    \n",
    "# Generation of License Plate\n",
    "# create a pool of letters to choose from\n",
    "letters = 'ABCDEFGHIJKLMNOPQRSTUVWXYZ'\n",
    "numbers = '0123456789'\n",
    "\n",
    "def generate_license_plate():\n",
    "    # generate 3 randomly chosen letters, L1, L2, L3\n",
    "    L1 = random.choice(letters)\n",
    "    L2 = random.choice(letters)\n",
    "    L3 = random.choice(letters)\n",
    "    L4 = random.choice(letters)\n",
    "    # generate 4 randomly chosen numbers, N1, N2, N3, N4\n",
    "    N1 = random.choice(numbers)\n",
    "    N2 = random.choice(numbers)\n",
    "  \n",
    "    # combine it together into one print function\n",
    "    return(L1+L2+'-'+L3+L4+'-'+N1+N2)\n",
    "\n",
    "# Calculation of price based on distance between start city and end destination\n",
    "def calculate_price(v_distance):\n",
    "    v_multiplicator=round(random.uniform(0.8, 2.0),2)\n",
    "    v_price=round(v_distance*v_multiplicator,2)\n",
    "    return(v_price)"
   ]
  },
  {
   "cell_type": "code",
   "execution_count": 19,
   "id": "driven-comedy",
   "metadata": {},
   "outputs": [],
   "source": [
    "from kafka import KafkaProducer\n",
    "\n",
    "producer = KafkaProducer(bootstrap_servers=['pinot-kafka.pinot:9092'], value_serializer=lambda v: json.dumps(v).encode('utf-8'))"
   ]
  },
  {
   "cell_type": "code",
   "execution_count": 20,
   "id": "south-exclusion",
   "metadata": {},
   "outputs": [
    {
     "name": "stdout",
     "output_type": "stream",
     "text": [
      "0 records generated\n",
      "5000 records generated\n",
      "10000 records generated\n",
      "15000 records generated\n",
      "20000 records generated\n",
      "25000 records generated\n",
      "30000 records generated\n",
      "35000 records generated\n",
      "40000 records generated\n",
      "45000 records generated\n",
      "50000 records generated\n",
      "55000 records generated\n",
      "60000 records generated\n",
      "65000 records generated\n",
      "70000 records generated\n",
      "75000 records generated\n",
      "80000 records generated\n",
      "85000 records generated\n",
      "90000 records generated\n",
      "95000 records generated\n",
      "100000 records generated\n",
      "105000 records generated\n",
      "110000 records generated\n",
      "115000 records generated\n",
      "120000 records generated\n",
      "125000 records generated\n",
      "130000 records generated\n",
      "135000 records generated\n",
      "140000 records generated\n",
      "145000 records generated\n",
      "150000 records generated\n",
      "155000 records generated\n",
      "160000 records generated\n",
      "165000 records generated\n",
      "170000 records generated\n",
      "175000 records generated\n",
      "180000 records generated\n",
      "185000 records generated\n",
      "190000 records generated\n",
      "195000 records generated\n",
      "200000 records generated\n",
      "205000 records generated\n",
      "210000 records generated\n",
      "215000 records generated\n",
      "220000 records generated\n",
      "225000 records generated\n",
      "230000 records generated\n",
      "235000 records generated\n",
      "240000 records generated\n",
      "245000 records generated\n",
      "250000 records generated\n",
      "255000 records generated\n",
      "260000 records generated\n",
      "265000 records generated\n",
      "270000 records generated\n",
      "275000 records generated\n",
      "280000 records generated\n",
      "285000 records generated\n",
      "290000 records generated\n",
      "295000 records generated\n",
      "300000 records generated\n",
      "305000 records generated\n",
      "done, 308636 records generated, let's do some fancy analytical queries!\n"
     ]
    }
   ],
   "source": [
    "# begin generating trips data at current time\n",
    "start_timestamp_ms = time.time_ns() // 1000000\n",
    "\n",
    "# Generate data\n",
    "num_records = 300000 + random.randint(5000,10000)\n",
    "for i in range(num_records):\n",
    "    v_start_location = choose_random_city()\n",
    "    v_end_location = choose_random_city()\n",
    "    v_distance = random.randint(5,1000)\n",
    "\n",
    "    # add random jitter, in large system our event stream is probably also not strictly sorted\n",
    "    v_requesttime = start_timestamp_ms + i*1000 + random.randint(0,100);\n",
    "\n",
    "    v_waiting_time_millis = random.randint(1,3600000)\n",
    "    v_trip_time = round((v_distance/random.randint(45,60)) * 60 *60*1000)\n",
    "\n",
    "    record = {\n",
    "        \"rider_name\": choose_random_name(),\n",
    "        \"driver_name\": choose_random_name(),\n",
    "        \"license_plate\": generate_license_plate(),\n",
    "        \"start_location\": v_start_location[2],\n",
    "        \"start_zip_code\": v_start_location[1],\n",
    "        \"start_location_state\": v_start_location[3],\n",
    "        \"end_location\": v_end_location[2],\n",
    "        \"end_zip_code\": v_end_location[1],\n",
    "        \"end_location_state\": v_end_location[3],\n",
    "        \"rider_is_premium\": random.randint(0, 1),\n",
    "        \"count\": 1,\n",
    "        \"payment_amount\": calculate_price(v_distance),\n",
    "        \"payment_tip_amount\": random.randint(5,50),\n",
    "        \"trip_wait_time_millis\": v_waiting_time_millis,\n",
    "        \"rider_rating\": random.randint(0,5),\n",
    "        \"driver_rating\": random.randint(0,5),\n",
    "        \"trip_start_time_millis\": v_requesttime+v_waiting_time_millis,\n",
    "        \"request_time_millis\": v_requesttime,\n",
    "        \"trip_end_time_millis\": v_requesttime+v_waiting_time_millis+v_trip_time\n",
    "    }\n",
    "\n",
    "    producer.send('trips', value=record)\n",
    "    \n",
    "    if i % 10000 == 0:\n",
    "        print(f'{i} records generated')\n",
    "print(f\"done, {num_records} records generated, let's do some fancy analytical queries!\")"
   ]
  },
  {
   "cell_type": "code",
   "execution_count": null,
   "id": "stock-honor",
   "metadata": {},
   "outputs": [],
   "source": []
  }
 ],
 "metadata": {
  "kernelspec": {
   "display_name": "Python 3",
   "language": "python",
   "name": "python3"
  },
  "language_info": {
   "codemirror_mode": {
    "name": "ipython",
    "version": 3
   },
   "file_extension": ".py",
   "mimetype": "text/x-python",
   "name": "python",
   "nbconvert_exporter": "python",
   "pygments_lexer": "ipython3",
   "version": "3.8.8"
  }
 },
 "nbformat": 4,
 "nbformat_minor": 5
}
