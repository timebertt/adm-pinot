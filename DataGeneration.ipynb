{
 "cells": [
  {
   "cell_type": "code",
   "execution_count": 66,
   "id": "important-individual",
   "metadata": {},
   "outputs": [],
   "source": [
    "import names\n",
    "import time\n",
    "import random\n",
    "import pgeocode\n",
    "import csv\n",
    "import requests\n",
    "import json\n",
    "import pgeocode"
   ]
  },
  {
   "cell_type": "markdown",
   "id": "automotive-advance",
   "metadata": {},
   "source": [
    "## Generate Pinot Table (Prerequisite: Schema has already been created)"
   ]
  },
  {
   "cell_type": "code",
   "execution_count": 85,
   "id": "corporate-guess",
   "metadata": {},
   "outputs": [],
   "source": [
    "v_path_to_table_config = \"trips/trips_realtime_table_config.json\""
   ]
  },
  {
   "cell_type": "code",
   "execution_count": 86,
   "id": "freelance-louisiana",
   "metadata": {},
   "outputs": [
    {
     "name": "stdout",
     "output_type": "stream",
     "text": [
      "<Response [200]>\n",
      "{\"status\":\"Table trips_REALTIME succesfully added\"}\n"
     ]
    }
   ],
   "source": [
    "response = requests.post('http://pinot-controller.pinot:9000/tables', json=json.load(open(v_path_to_table_config)))\n",
    "print(response)\n",
    "print(response.text)"
   ]
  },
  {
   "cell_type": "markdown",
   "id": "seventh-swing",
   "metadata": {},
   "source": [
    "## Kafka Create Topic "
   ]
  },
  {
   "cell_type": "code",
   "execution_count": 105,
   "id": "passing-jersey",
   "metadata": {},
   "outputs": [],
   "source": [
    "from kafka.admin import KafkaAdminClient, NewTopic\n",
    "\n",
    "admin_client = KafkaAdminClient(\n",
    "    bootstrap_servers=\"pinot-kafka.pinot:9092\", \n",
    "    client_id='test'\n",
    ")"
   ]
  },
  {
   "cell_type": "code",
   "execution_count": 106,
   "id": "hourly-bonus",
   "metadata": {},
   "outputs": [
    {
     "data": {
      "text/plain": [
       "DeleteTopicsResponse_v3(throttle_time_ms=0, topic_error_codes=[(topic='trips', error_code=0)])"
      ]
     },
     "execution_count": 106,
     "metadata": {},
     "output_type": "execute_result"
    }
   ],
   "source": [
    "# delete old Kafka Topic\n",
    "admin_client.delete_topics(topics=[\"trips\"])"
   ]
  },
  {
   "cell_type": "code",
   "execution_count": 107,
   "id": "overall-repository",
   "metadata": {},
   "outputs": [],
   "source": [
    "# create new topic with settings\n",
    "# admin_client.create_topics(new_topics=[NewTopic(name=\"trips\", num_partitions=1, replication_factor=1)], validate_only=False)"
   ]
  },
  {
   "cell_type": "markdown",
   "id": "liked-details",
   "metadata": {},
   "source": [
    "## Kafka Producer - Generate Data"
   ]
  },
  {
   "cell_type": "code",
   "execution_count": 108,
   "id": "marked-peripheral",
   "metadata": {},
   "outputs": [],
   "source": [
    "# Choose random city of file containing German cities with postcode\n",
    "geocode_file = open('./pgeocode_data/DE.txt')\n",
    "geocode_list = list(csv.reader(geocode_file))[1:] # skip first line (header)\n",
    "random.shuffle(geocode_list)\n",
    "geocode_list = geocode_list[:1000] # take only random 1000 places to generate more overlapping data\n",
    "geocode_file.close()\n",
    "\n",
    "def choose_random_city():\n",
    "    return random.choice(geocode_list)\n",
    "\n",
    "# generate only 1000 driver/rider names to generate more overlapping data\n",
    "names_list = []\n",
    "for i in range(1000):\n",
    "    names_list.append(names.get_full_name())\n",
    "\n",
    "def choose_random_name():\n",
    "    return random.choice(names_list)\n",
    "    \n",
    "# Generation of License Plate\n",
    "# create a pool of letters to choose from\n",
    "letters = 'ABCDEFGHIJKLMNOPQRSTUVWXYZ'\n",
    "numbers = '0123456789'\n",
    "\n",
    "def generate_license_plate():\n",
    "    # generate 3 randomly chosen letters, L1, L2, L3\n",
    "    L1 = random.choice(letters)\n",
    "    L2 = random.choice(letters)\n",
    "    L3 = random.choice(letters)\n",
    "    L4 = random.choice(letters)\n",
    "    # generate 4 randomly chosen numbers, N1, N2, N3, N4\n",
    "    N1 = random.choice(numbers)\n",
    "    N2 = random.choice(numbers)\n",
    "  \n",
    "    # combine it together into one print function\n",
    "    return(L1+L2+'-'+L3+L4+'-'+N1+N2)\n",
    "\n",
    "# Calculation of price based on distance between start city and end destination\n",
    "def calculate_price(v_distance):\n",
    "    v_multiplicator=round(random.uniform(0.8, 2.0),2)\n",
    "    v_price=round(v_distance*v_multiplicator,2)\n",
    "    return(v_price)"
   ]
  },
  {
   "cell_type": "code",
   "execution_count": 109,
   "id": "steady-outside",
   "metadata": {},
   "outputs": [],
   "source": [
    "dist = pgeocode.GeoDistance('de')"
   ]
  },
  {
   "cell_type": "code",
   "execution_count": 110,
   "id": "invalid-running",
   "metadata": {},
   "outputs": [],
   "source": [
    "from kafka import KafkaProducer\n",
    "\n",
    "producer = KafkaProducer(bootstrap_servers=['pinot-kafka.pinot:9092'], value_serializer=lambda v: json.dumps(v).encode('utf-8'))"
   ]
  },
  {
   "cell_type": "code",
   "execution_count": 111,
   "id": "focal-bruce",
   "metadata": {},
   "outputs": [
    {
     "name": "stdout",
     "output_type": "stream",
     "text": [
      "0 records generated\n",
      "5000 records generated\n",
      "10000 records generated\n",
      "15000 records generated\n",
      "20000 records generated\n",
      "25000 records generated\n",
      "30000 records generated\n",
      "35000 records generated\n",
      "40000 records generated\n",
      "45000 records generated\n",
      "50000 records generated\n",
      "55000 records generated\n",
      "60000 records generated\n",
      "65000 records generated\n",
      "70000 records generated\n",
      "75000 records generated\n",
      "80000 records generated\n",
      "85000 records generated\n",
      "90000 records generated\n",
      "95000 records generated\n",
      "100000 records generated\n",
      "105000 records generated\n",
      "106318 records generated\n"
     ]
    }
   ],
   "source": [
    "# begin generating trips data at current time\n",
    "start_timestamp_ms = time.time_ns() // 1000000\n",
    "\n",
    "# Generate data\n",
    "num_records = 100000 + random.randint(5000,10000)\n",
    "for i in range(num_records):\n",
    "    v_start_location=choose_random_city()\n",
    "    v_end_location=choose_random_city()\n",
    "#     #if travelling in one postcode area\n",
    "#     if v_start_location[1] == v_start_location[2]:\n",
    "#         v_distance=random(0.5,6)\n",
    "#     else:\n",
    "#         v_distance=dist.query_postal_code(v_start_location[1], v_end_location[1])\n",
    "    v_distance = random.randint(5,1000)\n",
    "\n",
    "    # add random jitter, in large system our event stream is probably also not strictly sorted\n",
    "    v_requesttime = start_timestamp_ms + i*1000 + random.randint(0,100);\n",
    "\n",
    "    v_waiting_time_millis = random.randint(1,3600000)\n",
    "    v_trip_time = round((v_distance/random.randint(45,60)) * 60 *60*1000)\n",
    "\n",
    "    record = {\n",
    "        \"rider_name\": choose_random_name(),\n",
    "        \"driver_name\": choose_random_name(),\n",
    "        \"license_plate\":generate_license_plate(),\n",
    "        \"start_location\": v_start_location[2],\n",
    "        \"start_zip_code\": v_start_location[1],\n",
    "        \"start_location_state\": v_start_location[3],\n",
    "        \"end_location\": v_end_location[2],\n",
    "        \"end_zip_code\": v_end_location[1],\n",
    "        \"end_location_state\": v_end_location[3],\n",
    "        \"rider_is_premium\": random.randint(0, 1),\n",
    "        \"count\": 1,\n",
    "        \"payment_amount\": calculate_price(v_distance),\n",
    "        \"payment_tip_amount\": random.randint(5,50),\n",
    "        \"trip_wait_time_millis\": v_waiting_time_millis,\n",
    "        \"rider_rating\": random.randint(0,5),\n",
    "        \"driver_rating\": random.randint(0,5),\n",
    "        \"trip_start_time_millis\": v_requesttime+v_waiting_time_millis,\n",
    "        \"request_time_millis\": v_requesttime,\n",
    "        \"trip_end_time_millis\": v_requesttime+v_waiting_time_millis+v_trip_time\n",
    "    }\n",
    "\n",
    "    producer.send('trips', value=record)\n",
    "    \n",
    "    if i % 5000 == 0:\n",
    "        print(f'{i} records generated')\n",
    "print(f'{num_records} records generated')"
   ]
  },
  {
   "cell_type": "code",
   "execution_count": null,
   "id": "alternative-tablet",
   "metadata": {},
   "outputs": [],
   "source": []
  }
 ],
 "metadata": {
  "kernelspec": {
   "display_name": "Python 3",
   "language": "python",
   "name": "python3"
  },
  "language_info": {
   "codemirror_mode": {
    "name": "ipython",
    "version": 3
   },
   "file_extension": ".py",
   "mimetype": "text/x-python",
   "name": "python",
   "nbconvert_exporter": "python",
   "pygments_lexer": "ipython3",
   "version": "3.8.8"
  }
 },
 "nbformat": 4,
 "nbformat_minor": 5
}
