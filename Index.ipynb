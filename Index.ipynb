{
 "cells": [
  {
   "cell_type": "markdown",
   "id": "tropical-consultancy",
   "metadata": {},
   "source": [
    "# Indexes in Apache Pinot\n",
    "## Table Creation with different Index Configurations"
   ]
  },
  {
   "cell_type": "code",
   "execution_count": 1,
   "id": "educated-attribute",
   "metadata": {},
   "outputs": [
    {
     "name": "stdout",
     "output_type": "stream",
     "text": [
      "Requirement already satisfied: pandas in /opt/conda/lib/python3.8/site-packages (1.2.3)\n",
      "Requirement already satisfied: python-dateutil>=2.7.3 in /opt/conda/lib/python3.8/site-packages (from pandas) (2.8.1)\n",
      "Requirement already satisfied: pytz>=2017.3 in /opt/conda/lib/python3.8/site-packages (from pandas) (2021.1)\n",
      "Requirement already satisfied: numpy>=1.16.5 in /opt/conda/lib/python3.8/site-packages (from pandas) (1.20.1)\n",
      "Requirement already satisfied: six>=1.5 in /opt/conda/lib/python3.8/site-packages (from python-dateutil>=2.7.3->pandas) (1.15.0)\n"
     ]
    }
   ],
   "source": [
    "!pip install pandas\n",
    "import pandas\n",
    "import json\n",
    "import requests\n",
    "import copy\n",
    "import time"
   ]
  },
  {
   "cell_type": "markdown",
   "id": "linear-princeton",
   "metadata": {},
   "source": [
    "We create tables with different index configurations, these are applied to the tableIndexConfig-section of the *json_tableConfig* object. \n",
    "\n",
    "All tables in the following are real-time tables and consume data from the same Kafka topic. Therefore, all of them will contain the same data records. To ensure, that the consumption of the tables has finished, we are monitoring the timestamp when streaming data was ingested the last time to the table. Parameter *minConsumingFreshnessTimeMs* describes when the last ingestion took place. We defined: if there hasn't been any new data consumption in the last 10 seconds, the before generated data records of the Kafka topic have been consumed by the table and there are enough data records to proceed.\n",
    "(Remark: We are only checking the last updated time stamp for one specific table and assume, that there is no high time deviation for the different tables.)"
   ]
  },
  {
   "cell_type": "code",
   "execution_count": 5,
   "id": "abstract-enhancement",
   "metadata": {},
   "outputs": [
    {
     "name": "stdout",
     "output_type": "stream",
     "text": [
      "<Response [200]>\n",
      "{\"status\":\"Table trips_default_index_REALTIME succesfully added\"}\n",
      "<Response [200]>\n",
      "{\"status\":\"Table trips_rawForwardIndex_REALTIME succesfully added\"}\n",
      "<Response [200]>\n",
      "{\"status\":\"Table trips_sortedForwardIndex_REALTIME succesfully added\"}\n",
      "<Response [200]>\n",
      "{\"status\":\"Table trips_bitmapInvertedIndex_startLocation_REALTIME succesfully added\"}\n",
      "<Response [200]>\n",
      "{\"status\":\"Table trips_sortedInvertedIndex_startLocation_REALTIME succesfully added\"}\n",
      "<Response [200]>\n",
      "{\"status\":\"Table trips_starTreeIndex_REALTIME succesfully added\"}\n",
      "<Response [200]>\n",
      "{\"status\":\"Table trips_textIndex_REALTIME succesfully added\"}\n",
      "\n",
      "--Consumption of generated data for trips_starTreeIndex finished--\n",
      "\n",
      "Berg (start location) and Anthony (driver name) will be used as query variables later.\n"
     ]
    }
   ],
   "source": [
    "#Array to collect details of created tables\n",
    "table_list = []\n",
    "\n",
    "json_tableConfig = {\n",
    "  \"tableName\": \"variable_tableName\",\n",
    "  \"tableType\": \"REALTIME\",\n",
    "  \"segmentsConfig\": {\n",
    "    \"timeColumnName\": \"trip_start_time_millis\",\n",
    "    \"timeType\": \"MILLISECONDS\",\n",
    "    \"retentionTimeUnit\": \"DAYS\",\n",
    "    \"retentionTimeValue\": \"60\",\n",
    "    \"schemaName\": \"trips\",\n",
    "    \"replication\": \"1\",\n",
    "    \"replicasPerPartition\": \"1\"\n",
    "  },\n",
    "  \"tenants\": {},\n",
    "  \"tableIndexConfig\": {\n",
    "    \"loadMode\": \"MMAP\",\n",
    "    \"streamConfigs\": {\n",
    "      \"streamType\": \"kafka\",\n",
    "      \"stream.kafka.consumer.type\": \"simple\",\n",
    "      \"stream.kafka.topic.name\": \"trips\",\n",
    "      \"stream.kafka.decoder.class.name\": \"org.apache.pinot.plugin.stream.kafka.KafkaJSONMessageDecoder\",\n",
    "      \"stream.kafka.consumer.factory.class.name\": \"org.apache.pinot.plugin.stream.kafka20.KafkaConsumerFactory\",\n",
    "      \"stream.kafka.zk.broker.url\": \"pinot-kafka-zookeeper:2181\",\n",
    "      \"stream.kafka.broker.list\": \"pinot-kafka:9092\",\n",
    "      \"realtime.segment.flush.threshold.time\": \"12h\",\n",
    "      \"realtime.segment.flush.threshold.size\": \"20000\",\n",
    "      \"stream.kafka.consumer.prop.auto.offset.reset\": \"smallest\"\n",
    "    }\n",
    "  },\n",
    "  \"metadata\": {\n",
    "    \"customConfigs\": {}\n",
    "  }\n",
    "} \n",
    "\n",
    "#helper function\n",
    "def createTable(newTable_name, index_text, tableconfig_json):\n",
    "    #Input: Name of new table, index description, table configuration in json structure\n",
    "    response = requests.post('http://pinot-controller.pinot:9000/tables', json=tableconfig_json)\n",
    "    print(response)\n",
    "    print(response.text)\n",
    "    table_list.append([newTable_name, index_text])\n",
    "\n",
    "\n",
    "execution_start_time = int(round(time.time() * 1000))\n",
    "\n",
    "# Create a new table with default index for each column (no configuration required)\n",
    "newTable_defaultIndex = copy.deepcopy(json_tableConfig)\n",
    "newTable_defaultIndex[\"tableName\"] = \"trips_default_index\"\n",
    "createTable(newTable_defaultIndex[\"tableName\"], 'Default Index (Dictionary-encoded forward index with bit compression) for each column', newTable_defaultIndex)\n",
    "\n",
    "# Create a new table with raw value forward index\n",
    "newTable_rawForwardIndex = copy.deepcopy(json_tableConfig)\n",
    "newTable_rawForwardIndex[\"tableName\"] = \"trips_rawForwardIndex\"\n",
    "newTable_rawForwardIndex[\"tableIndexConfig\"][\"noDictionaryColumns\"] = [\"start_location\"]\n",
    "createTable(newTable_rawForwardIndex[\"tableName\"], 'Raw value forward index on start_location',newTable_rawForwardIndex)\n",
    "\n",
    "# Create a new table with sorted forward index with run-length encoding\n",
    "newTable_sortedForwardIndex = copy.deepcopy(json_tableConfig)\n",
    "newTable_sortedForwardIndex[\"tableName\"] = \"trips_sortedForwardIndex\"\n",
    "newTable_sortedForwardIndex[\"tableIndexConfig\"][\"sortedColumn\"] = [\"start_location\"]\n",
    "createTable(newTable_sortedForwardIndex[\"tableName\"],'Sorted forward index with run-length encoding on start location',newTable_sortedForwardIndex)\n",
    "\n",
    "# Create a new table with bitmap inverted index\n",
    "newTable_bitmapInvertedIndex2 = copy.deepcopy(json_tableConfig)\n",
    "newTable_bitmapInvertedIndex2[\"tableName\"] = \"trips_bitmapInvertedIndex_startLocation\"\n",
    "newTable_bitmapInvertedIndex2[\"tableIndexConfig\"][\"invertedIndexColumns\"] = [\"start_location\"]\n",
    "createTable(newTable_bitmapInvertedIndex2[\"tableName\"],'Bitmap inverted index on start_location',newTable_bitmapInvertedIndex2)\n",
    "\n",
    "# Create a new table with sorted inverted index\n",
    "newTable_sortedInvertedIndex2 = copy.deepcopy(json_tableConfig)\n",
    "newTable_sortedInvertedIndex2[\"tableName\"] = \"trips_sortedInvertedIndex_startLocation\"\n",
    "newTable_sortedInvertedIndex2[\"tableIndexConfig\"][\"invertedIndexColumns\"] = [\"start_location\"]\n",
    "newTable_sortedInvertedIndex2[\"tableIndexConfig\"][\"sortedColumn\"] = [\"start_location\"]\n",
    "createTable(newTable_sortedInvertedIndex2[\"tableName\"],'Sorted inverted index on start_location',newTable_sortedInvertedIndex2)\n",
    "\n",
    "# Create a new table with star tree index\n",
    "newTable_starTree1 = copy.deepcopy(json_tableConfig)\n",
    "newTable_starTree1[\"tableName\"] = \"trips_starTreeIndex\"\n",
    "newTable_starTree1[\"tableIndexConfig\"][\"starTreeIndexConfigs\"] = [{\n",
    "    \"dimensionsSplitOrder\": [\n",
    "      \"rider_is_premium\",\n",
    "      \"start_location_state\",\n",
    "      \"end_location\"\n",
    "    ],\n",
    "    \"functionColumnPairs\": [\n",
    "      \"SUM__payment_amount\",\n",
    "    ],\n",
    "    \"maxLeafRecords\": 1\n",
    "  }]\n",
    "createTable(newTable_starTree1[\"tableName\"],'Star Tree',newTable_starTree1)\n",
    "\n",
    "# Create a new table with text index\n",
    "newTable_textIndex = copy.deepcopy(json_tableConfig)\n",
    "newTable_textIndex[\"tableName\"] = \"trips_textIndex\"\n",
    "newTable_textIndex[\"tableIndexConfig\"][\"noDictionaryColumns\"] = [\n",
    "     \"driver_name\",\n",
    "     \"rider_name\"\n",
    " ]\n",
    "createTable(newTable_textIndex[\"tableName\"],'Text Index',newTable_textIndex)\n",
    "\n",
    "#Wait for tables to finish data consumption from Kafka Topic\n",
    "tableConsuming = True\n",
    "while tableConsuming:\n",
    "    response = requests.post('http://pinot-broker.pinot:8099/query/sql', json={\n",
    "            \"sql\" : \"SELECT * FROM trips_starTreeIndex\"\n",
    "        })\n",
    "    response_json=response.json()\n",
    "    if response_json['minConsumingFreshnessTimeMs']>0 and response_json['minConsumingFreshnessTimeMs']<(int(round(time.time() * 1000)) - 10000 ) or response_json['minConsumingFreshnessTimeMs']>9000000036854775807:\n",
    "        tableConsuming = False;\n",
    "        print(\"\")\n",
    "        print(\"--Consumption of generated data for trips_starTreeIndex finished--\")\n",
    "\n",
    "\n",
    "#Read value for start location and driver name to use it as variable for queries executed later\n",
    "sql_get_values = \"SELECT start_location, driver_name FROM \" + newTable_defaultIndex[\"tableName\"] \n",
    "response = requests.post('http://pinot-broker.pinot:8099/query/sql', json={\n",
    "            \"sql\" : sql_get_values\n",
    "    })\n",
    "response_json=response.json()\n",
    "startLocation = response_json['resultTable']['rows'][0][0]\n",
    "#Read the first name of the driver name\n",
    "driverName = (response_json['resultTable']['rows'][0][1]).split()[0]       \n",
    "print(\"\")\n",
    "print(\"\"+startLocation + \" (start location) and \" + driverName + \" (driver name) will be used as query variables later.\")"
   ]
  },
  {
   "cell_type": "markdown",
   "id": "responsible-conviction",
   "metadata": {},
   "source": [
    "### Table Size\n",
    "Although the tables contain the same amount of records and also the same record values, the table size differs. This is because of the different indexes. E.g. a text index on two columns consumes more space intensive compared to the raw forward index. The Star-Tree Index is allocating much space, as Pinot materializes pre-aggregations for calculations on defined metric columns."
   ]
  },
  {
   "cell_type": "code",
   "execution_count": 6,
   "id": "minimal-slovak",
   "metadata": {},
   "outputs": [
    {
     "name": "stdout",
     "output_type": "stream",
     "text": [
      "tableName: trips_default_index_REALTIME\n",
      "Index Description: Default Index (Dictionary-encoded forward index with bit compression) for each column\n",
      "reportedSizeInMB: 22.090063095092773\n",
      " \n",
      "tableName: trips_rawForwardIndex_REALTIME\n",
      "Index Description: Raw value forward index on start_location\n",
      "reportedSizeInMB: 24.462448120117188\n",
      " \n",
      "tableName: trips_sortedForwardIndex_REALTIME\n",
      "Index Description: Sorted forward index with run-length encoding on start location\n",
      "reportedSizeInMB: 20.088777542114258\n",
      " \n",
      "tableName: trips_bitmapInvertedIndex_startLocation_REALTIME\n",
      "Index Description: Bitmap inverted index on start_location\n",
      "reportedSizeInMB: 22.93588161468506\n",
      " \n",
      "tableName: trips_sortedInvertedIndex_startLocation_REALTIME\n",
      "Index Description: Sorted inverted index on start_location\n",
      "reportedSizeInMB: 20.08920669555664\n",
      " \n",
      "tableName: trips_starTreeIndex_REALTIME\n",
      "Index Description: Star Tree\n",
      "reportedSizeInMB: 39.382994651794434\n",
      " \n",
      "tableName: trips_textIndex_REALTIME\n",
      "Index Description: Text Index\n",
      "reportedSizeInMB: 36.18574619293213\n",
      " \n"
     ]
    }
   ],
   "source": [
    "for table in table_list:\n",
    "    url_getsize = 'http://pinot-controller.pinot:9000/tables/' + table[0] + '_REALTIME/size?detailed=false'\n",
    "    response = (requests.get(url_getsize)).json()\n",
    "    print('tableName: ' + response['tableName'])\n",
    "    print('Index Description: ' + table[1])\n",
    "    v_size=response['reportedSizeInBytes']/1024/1024\n",
    "    print('reportedSizeInMB: '+ str(v_size))\n",
    "    print(\" \")"
   ]
  },
  {
   "cell_type": "markdown",
   "id": "crude-smile",
   "metadata": {},
   "source": [
    "## Indexes in Apache Pinot\n",
    "\n",
    "Pinot uses the MYSQL_ANSI dialect. Executing Joins or nested Subqueries is not supported. \n",
    "For accessing multiple tables in queries, the query engine Presto is recommended. In this report, we will focus on the functionality Pinot offers.\n",
    "Pinot doesn't support data definition language. As already done, tables are created using the REST API.\n",
    "\n",
    "The function *executeSQLStatement* takes a query string and an array containing table names and index descriptions as input parameters. It executes the query on all tables which are defined in the array table_list. If *specific_tables_array* is an empty string, the query will be executed on all tables which have been created for this chapter. The top two records of the result data set are displayed once to get an insight into the result. Additionally, the function will create a dataframe listing execution metrics about the query execution for each table. Metrics of one query execution will only be appended to the dataframe if no exception occurs."
   ]
  },
  {
   "cell_type": "code",
   "execution_count": 7,
   "id": "billion-radius",
   "metadata": {},
   "outputs": [],
   "source": [
    "def executeSQLStatement(sql_statement_with_variable, specific_tables_array):\n",
    "    pandas.set_option('display.max_colwidth', None)\n",
    "    df_metrics = pandas.DataFrame(columns=['indextype','table', 'numDocsScanned',\n",
    "       'numEntriesScannedInFilter', 'numEntriesScannedPostFilter',\n",
    "       'totalDocs', 'timeUsedMs',\n",
    "       'minConsumingFreshnessTimeMs',\n",
    "       'exceptions'])\n",
    "    b_resultRecordsNotShown = True;\n",
    "    if not specific_tables_array:\n",
    "        table_list_statement = table_list\n",
    "    else:\n",
    "        table_list_statement = specific_tables_array \n",
    "    for table in table_list_statement:\n",
    "    \n",
    "        sql_statement = sql_statement_with_variable.replace(\"XX_TABLE\",table[0])\n",
    "        sql_statement = sql_statement.replace(\"XX_STARTLOCATION\",\"'\"+startLocation+\"'\")\n",
    "        sql_statement = sql_statement.replace(\"XX_DRIVERNAME\",\"'\"+driverName+\"'\") \n",
    "        response = requests.post('http://pinot-broker.pinot:8099/query/sql', json={\n",
    "            \"sql\" : sql_statement\n",
    "        })\n",
    "        response_json=response.json()\n",
    "        d = {'indextype': table[1], 'table': table[0],'numDocsScanned': [response_json['numDocsScanned']],'numDocsScanned': [response_json['numDocsScanned']],'numEntriesScannedInFilter': [response_json['numEntriesScannedInFilter']], 'numEntriesScannedPostFilter':[response_json['numEntriesScannedPostFilter']],'totalDocs':[response_json['totalDocs']],'timeUsedMs':[response_json['timeUsedMs']],'minConsumingFreshnessTimeMs':[response_json['minConsumingFreshnessTimeMs']],'exceptions':[response_json['exceptions']]}\n",
    "        df_metrics_new = pandas.DataFrame(data=d)\n",
    "        if not response_json['exceptions']:\n",
    "             df_metrics = df_metrics.append(df_metrics_new,ignore_index=True)\n",
    "       \n",
    "\n",
    "        if b_resultRecordsNotShown:\n",
    "            try:\n",
    "                if not response_json['exceptions']:\n",
    "                    columnNames = response_json['resultTable']['dataSchema']['columnNames']\n",
    "                    rows = response_json['resultTable']['rows']\n",
    "\n",
    "                    result_dataframe = pandas.DataFrame(columns=columnNames,data=rows)\n",
    "                    print(\"Top two result records of: \" + sql_statement )\n",
    "                    display(result_dataframe.head(2))\n",
    "                    b_resultRecordsNotShown = False\n",
    "            except:\n",
    "                pass\n",
    "\n",
    "    print(\"Metrics of execution of: \" + sql_statement_with_variable)\n",
    "    display(df_metrics)\n"
   ]
  },
  {
   "cell_type": "markdown",
   "id": "golden-sampling",
   "metadata": {},
   "source": [
    "### Metrics\n",
    "The main metrics of a query execution we will check are :\n",
    "- __timeUsedMs__: Total time between broker receiving the query request request and sending the response back to the client.\n",
    "- __numDocScanned__: Number of documents/records scanned while query processing. (Includes records scanned in the filter phase as well as after applying the filter.)\n",
    "- __numEntriesScannedInFilter__: It is an indicator of the latency contributed by the lookup phase. If this number is high, applying an index on the selection criteria might improve performance, especially if the column as high selectivity.\n",
    "- __numEntriesScannedPostFilter__: High number is an indicator for low selectivity. Instead of regular indices, a star-tree index could help.\n",
    "\n",
    "### Index Types\n",
    "For before created tables, we configured the following Index Types:\n",
    "\n",
    "- Forward Index\n",
    "    - __Default Index: Dictionary-encoded forward index with bit compression__: \n",
    "    Apache Pinot will use this index by default for each column if no other index is configured in the table configuration metadata. An id is assigned to each unique value of the column, afterwards a dictionary is built matching an id to the value. In the forward index, only the bit-compressed id is persisted instead of the values. This compression improves space efficiency of the storage, if there are few unique values.\n",
    "    \n",
    "    <img src=\"images/RawValueForwardIndex.png\" width=\"35%\" height=\"35%\">\n",
    "\n",
    "    \n",
    "    - __Raw Value Forward Index__: A raw value forward index is configured as a noDictionaryColumn in the table configuration file. Values instead of dictionary ids will be stored. Because of that, no dictionary lookup is required and due to the locality of values the performance of scanning large number of values is improved. \n",
    "    - __Sorted forward index with run-length encoding__: The sorted forward index is applied on top of the dictionary-encoding. For each dictionary id, a start and end document id is stored. Only one sorted column can be created for each Pinot table.\n",
    "   \n",
    "- Inverted Index: Inverted Indexes reduce the number of records which need be processed by identifying the ones which contain the search term. The inverted index is created by selecting all unique values of the column. For each value, a list of document ids which contain the value will be assigned. If we search e.g. for Hessen as a state, we can look up the inverted index for Hessen and identify the documents in which that value appears. \n",
    "    - __Bitmap inverted index__: A map from each value to a bitmap is maintained for the column which is enabled as bitmap inverted index. (E.g. Thüringen -> Doc5, Doc1) If a column is used frequently for filtering, an inverted index will improve the performance. \n",
    "    - __Sorted inverted index__: A sorted index can benefit from data locality, but can only be applied to one column.\n",
    "    \n",
    "- __Star-Tree Index__: This index is built on multiple columns and pre-aggregates results, so that less values need to be processed. This can improve the query performance, on the other hand the pre-aggregation requires more storage (table size is about twice of the size as the other tables are).\n",
    "- __Text Index__: Text Indexes in Pinot allow to do aribtrary search on STRING columns."
   ]
  },
  {
   "cell_type": "markdown",
   "id": "descending-companion",
   "metadata": {},
   "source": [
    "#### Default Index (Dictionary-encoded forward index with bit compression) vs Raw value forward index"
   ]
  },
  {
   "cell_type": "code",
   "execution_count": 8,
   "id": "settled-issue",
   "metadata": {
    "tags": []
   },
   "outputs": [
    {
     "name": "stdout",
     "output_type": "stream",
     "text": [
      "Top two result records of: select count, driver_name, driver_rating, end_location, end_location_state from trips_default_index WHERE start_location='Berg' LIMIT 300000\n"
     ]
    },
    {
     "data": {
      "text/html": [
       "<div>\n",
       "<style scoped>\n",
       "    .dataframe tbody tr th:only-of-type {\n",
       "        vertical-align: middle;\n",
       "    }\n",
       "\n",
       "    .dataframe tbody tr th {\n",
       "        vertical-align: top;\n",
       "    }\n",
       "\n",
       "    .dataframe thead th {\n",
       "        text-align: right;\n",
       "    }\n",
       "</style>\n",
       "<table border=\"1\" class=\"dataframe\">\n",
       "  <thead>\n",
       "    <tr style=\"text-align: right;\">\n",
       "      <th></th>\n",
       "      <th>count</th>\n",
       "      <th>driver_name</th>\n",
       "      <th>driver_rating</th>\n",
       "      <th>end_location</th>\n",
       "      <th>end_location_state</th>\n",
       "    </tr>\n",
       "  </thead>\n",
       "  <tbody>\n",
       "    <tr>\n",
       "      <th>0</th>\n",
       "      <td>1</td>\n",
       "      <td>Anthony Carroll</td>\n",
       "      <td>3</td>\n",
       "      <td>Ruppach-Goldhausen</td>\n",
       "      <td>Rheinland-Pfalz</td>\n",
       "    </tr>\n",
       "    <tr>\n",
       "      <th>1</th>\n",
       "      <td>1</td>\n",
       "      <td>Nichole Gleaves</td>\n",
       "      <td>4</td>\n",
       "      <td>Mühlau</td>\n",
       "      <td>Sachsen</td>\n",
       "    </tr>\n",
       "  </tbody>\n",
       "</table>\n",
       "</div>"
      ],
      "text/plain": [
       "   count      driver_name  driver_rating        end_location  \\\n",
       "0      1  Anthony Carroll              3  Ruppach-Goldhausen   \n",
       "1      1  Nichole Gleaves              4              Mühlau   \n",
       "\n",
       "  end_location_state  \n",
       "0    Rheinland-Pfalz  \n",
       "1            Sachsen  "
      ]
     },
     "metadata": {},
     "output_type": "display_data"
    },
    {
     "name": "stdout",
     "output_type": "stream",
     "text": [
      "Metrics of execution of: select count, driver_name, driver_rating, end_location, end_location_state from XX_TABLE WHERE start_location=XX_STARTLOCATION LIMIT 300000\n"
     ]
    },
    {
     "data": {
      "text/html": [
       "<div>\n",
       "<style scoped>\n",
       "    .dataframe tbody tr th:only-of-type {\n",
       "        vertical-align: middle;\n",
       "    }\n",
       "\n",
       "    .dataframe tbody tr th {\n",
       "        vertical-align: top;\n",
       "    }\n",
       "\n",
       "    .dataframe thead th {\n",
       "        text-align: right;\n",
       "    }\n",
       "</style>\n",
       "<table border=\"1\" class=\"dataframe\">\n",
       "  <thead>\n",
       "    <tr style=\"text-align: right;\">\n",
       "      <th></th>\n",
       "      <th>indextype</th>\n",
       "      <th>table</th>\n",
       "      <th>numDocsScanned</th>\n",
       "      <th>numEntriesScannedInFilter</th>\n",
       "      <th>numEntriesScannedPostFilter</th>\n",
       "      <th>totalDocs</th>\n",
       "      <th>timeUsedMs</th>\n",
       "      <th>minConsumingFreshnessTimeMs</th>\n",
       "      <th>exceptions</th>\n",
       "    </tr>\n",
       "  </thead>\n",
       "  <tbody>\n",
       "    <tr>\n",
       "      <th>0</th>\n",
       "      <td>Default Index (Dictionary-encoded forward index with bit compression) for each column</td>\n",
       "      <td>trips_default_index</td>\n",
       "      <td>286</td>\n",
       "      <td>308641</td>\n",
       "      <td>1430</td>\n",
       "      <td>308641</td>\n",
       "      <td>28</td>\n",
       "      <td>1618093100532</td>\n",
       "      <td>[]</td>\n",
       "    </tr>\n",
       "    <tr>\n",
       "      <th>1</th>\n",
       "      <td>Raw value forward index on start_location</td>\n",
       "      <td>trips_rawForwardIndex</td>\n",
       "      <td>286</td>\n",
       "      <td>308641</td>\n",
       "      <td>1430</td>\n",
       "      <td>308641</td>\n",
       "      <td>77</td>\n",
       "      <td>1618093101703</td>\n",
       "      <td>[]</td>\n",
       "    </tr>\n",
       "  </tbody>\n",
       "</table>\n",
       "</div>"
      ],
      "text/plain": [
       "                                                                               indextype  \\\n",
       "0  Default Index (Dictionary-encoded forward index with bit compression) for each column   \n",
       "1                                              Raw value forward index on start_location   \n",
       "\n",
       "                   table numDocsScanned numEntriesScannedInFilter  \\\n",
       "0    trips_default_index            286                    308641   \n",
       "1  trips_rawForwardIndex            286                    308641   \n",
       "\n",
       "  numEntriesScannedPostFilter totalDocs timeUsedMs  \\\n",
       "0                        1430    308641         28   \n",
       "1                        1430    308641         77   \n",
       "\n",
       "  minConsumingFreshnessTimeMs exceptions  \n",
       "0               1618093100532         []  \n",
       "1               1618093101703         []  "
      ]
     },
     "metadata": {},
     "output_type": "display_data"
    }
   ],
   "source": [
    "executeSQLStatement(\"select count, driver_name, driver_rating, end_location, end_location_state from XX_TABLE WHERE start_location=XX_STARTLOCATION LIMIT 300000\",[['trips_default_index', 'Default Index (Dictionary-encoded forward index with bit compression) for each column'],['trips_rawForwardIndex', 'Raw value forward index on start_location']])"
   ]
  },
  {
   "cell_type": "markdown",
   "id": "roman-clone",
   "metadata": {},
   "source": [
    "The query execution on table trips_rawForwardIndex takes more time. The main difference between the two index types is, that the index on column start_location of trips_default_index creates a dictionary. This dictionary provides compression when values of the columns occurr repeatedly. \n",
    "A dictionary index doesn't provide that advantage anymore, if a column would consists of lots of unique values."
   ]
  },
  {
   "cell_type": "markdown",
   "id": "relative-japanese",
   "metadata": {},
   "source": [
    "#### Default Index (Dictionary-encoded forward index with bit compression) vs Sorted forward index with run-length encoding"
   ]
  },
  {
   "cell_type": "code",
   "execution_count": 9,
   "id": "least-shame",
   "metadata": {},
   "outputs": [
    {
     "name": "stdout",
     "output_type": "stream",
     "text": [
      "Top two result records of: select * from trips_default_index WHERE start_location='Berg' LIMIT 300000\n"
     ]
    },
    {
     "data": {
      "text/html": [
       "<div>\n",
       "<style scoped>\n",
       "    .dataframe tbody tr th:only-of-type {\n",
       "        vertical-align: middle;\n",
       "    }\n",
       "\n",
       "    .dataframe tbody tr th {\n",
       "        vertical-align: top;\n",
       "    }\n",
       "\n",
       "    .dataframe thead th {\n",
       "        text-align: right;\n",
       "    }\n",
       "</style>\n",
       "<table border=\"1\" class=\"dataframe\">\n",
       "  <thead>\n",
       "    <tr style=\"text-align: right;\">\n",
       "      <th></th>\n",
       "      <th>count</th>\n",
       "      <th>driver_name</th>\n",
       "      <th>driver_rating</th>\n",
       "      <th>end_location</th>\n",
       "      <th>end_location_state</th>\n",
       "      <th>end_zip_code</th>\n",
       "      <th>license_plate</th>\n",
       "      <th>payment_amount</th>\n",
       "      <th>payment_tip_amount</th>\n",
       "      <th>request_time_millis</th>\n",
       "      <th>rider_is_premium</th>\n",
       "      <th>rider_name</th>\n",
       "      <th>rider_rating</th>\n",
       "      <th>start_location</th>\n",
       "      <th>start_location_state</th>\n",
       "      <th>start_zip_code</th>\n",
       "      <th>trip_end_time_millis</th>\n",
       "      <th>trip_start_time_millis</th>\n",
       "      <th>trip_wait_time_millis</th>\n",
       "    </tr>\n",
       "  </thead>\n",
       "  <tbody>\n",
       "    <tr>\n",
       "      <th>0</th>\n",
       "      <td>1</td>\n",
       "      <td>Anthony Carroll</td>\n",
       "      <td>3</td>\n",
       "      <td>Ruppach-Goldhausen</td>\n",
       "      <td>Rheinland-Pfalz</td>\n",
       "      <td>56412</td>\n",
       "      <td>BQ-MK-38</td>\n",
       "      <td>1550.38</td>\n",
       "      <td>8.0</td>\n",
       "      <td>1618229533941</td>\n",
       "      <td>0</td>\n",
       "      <td>Sandra Todd</td>\n",
       "      <td>5</td>\n",
       "      <td>Berg</td>\n",
       "      <td>Rheinland-Pfalz</td>\n",
       "      <td>56357</td>\n",
       "      <td>1618290877069</td>\n",
       "      <td>1618230577069</td>\n",
       "      <td>1043128</td>\n",
       "    </tr>\n",
       "    <tr>\n",
       "      <th>1</th>\n",
       "      <td>1</td>\n",
       "      <td>Nichole Gleaves</td>\n",
       "      <td>4</td>\n",
       "      <td>Mühlau</td>\n",
       "      <td>Sachsen</td>\n",
       "      <td>09241</td>\n",
       "      <td>YD-MK-98</td>\n",
       "      <td>237.65</td>\n",
       "      <td>47.0</td>\n",
       "      <td>1618229622016</td>\n",
       "      <td>1</td>\n",
       "      <td>Douglas Aschenbrenner</td>\n",
       "      <td>2</td>\n",
       "      <td>Berg</td>\n",
       "      <td>Rheinland-Pfalz</td>\n",
       "      <td>56357</td>\n",
       "      <td>1618249989350</td>\n",
       "      <td>1618230389350</td>\n",
       "      <td>767334</td>\n",
       "    </tr>\n",
       "  </tbody>\n",
       "</table>\n",
       "</div>"
      ],
      "text/plain": [
       "   count      driver_name  driver_rating        end_location  \\\n",
       "0      1  Anthony Carroll              3  Ruppach-Goldhausen   \n",
       "1      1  Nichole Gleaves              4              Mühlau   \n",
       "\n",
       "  end_location_state end_zip_code license_plate  payment_amount  \\\n",
       "0    Rheinland-Pfalz        56412      BQ-MK-38         1550.38   \n",
       "1            Sachsen        09241      YD-MK-98          237.65   \n",
       "\n",
       "   payment_tip_amount  request_time_millis  rider_is_premium  \\\n",
       "0                 8.0        1618229533941                 0   \n",
       "1                47.0        1618229622016                 1   \n",
       "\n",
       "              rider_name  rider_rating start_location start_location_state  \\\n",
       "0            Sandra Todd             5           Berg      Rheinland-Pfalz   \n",
       "1  Douglas Aschenbrenner             2           Berg      Rheinland-Pfalz   \n",
       "\n",
       "  start_zip_code  trip_end_time_millis  trip_start_time_millis  \\\n",
       "0          56357         1618290877069           1618230577069   \n",
       "1          56357         1618249989350           1618230389350   \n",
       "\n",
       "   trip_wait_time_millis  \n",
       "0                1043128  \n",
       "1                 767334  "
      ]
     },
     "metadata": {},
     "output_type": "display_data"
    },
    {
     "name": "stdout",
     "output_type": "stream",
     "text": [
      "Metrics of execution of: select * from XX_TABLE WHERE start_location=XX_STARTLOCATION LIMIT 300000\n"
     ]
    },
    {
     "data": {
      "text/html": [
       "<div>\n",
       "<style scoped>\n",
       "    .dataframe tbody tr th:only-of-type {\n",
       "        vertical-align: middle;\n",
       "    }\n",
       "\n",
       "    .dataframe tbody tr th {\n",
       "        vertical-align: top;\n",
       "    }\n",
       "\n",
       "    .dataframe thead th {\n",
       "        text-align: right;\n",
       "    }\n",
       "</style>\n",
       "<table border=\"1\" class=\"dataframe\">\n",
       "  <thead>\n",
       "    <tr style=\"text-align: right;\">\n",
       "      <th></th>\n",
       "      <th>indextype</th>\n",
       "      <th>table</th>\n",
       "      <th>numDocsScanned</th>\n",
       "      <th>numEntriesScannedInFilter</th>\n",
       "      <th>numEntriesScannedPostFilter</th>\n",
       "      <th>totalDocs</th>\n",
       "      <th>timeUsedMs</th>\n",
       "      <th>minConsumingFreshnessTimeMs</th>\n",
       "      <th>exceptions</th>\n",
       "    </tr>\n",
       "  </thead>\n",
       "  <tbody>\n",
       "    <tr>\n",
       "      <th>0</th>\n",
       "      <td>Default Index (Dictionary-encoded forward index with bit compression) for each column</td>\n",
       "      <td>trips_default_index</td>\n",
       "      <td>286</td>\n",
       "      <td>308641</td>\n",
       "      <td>5434</td>\n",
       "      <td>308641</td>\n",
       "      <td>36</td>\n",
       "      <td>1618093100532</td>\n",
       "      <td>[]</td>\n",
       "    </tr>\n",
       "    <tr>\n",
       "      <th>1</th>\n",
       "      <td>Sorted forward index with run-length encoding on start location</td>\n",
       "      <td>trips_sortedForwardIndex</td>\n",
       "      <td>286</td>\n",
       "      <td>0</td>\n",
       "      <td>5434</td>\n",
       "      <td>308641</td>\n",
       "      <td>38</td>\n",
       "      <td>1618093096985</td>\n",
       "      <td>[]</td>\n",
       "    </tr>\n",
       "  </tbody>\n",
       "</table>\n",
       "</div>"
      ],
      "text/plain": [
       "                                                                               indextype  \\\n",
       "0  Default Index (Dictionary-encoded forward index with bit compression) for each column   \n",
       "1                        Sorted forward index with run-length encoding on start location   \n",
       "\n",
       "                      table numDocsScanned numEntriesScannedInFilter  \\\n",
       "0       trips_default_index            286                    308641   \n",
       "1  trips_sortedForwardIndex            286                         0   \n",
       "\n",
       "  numEntriesScannedPostFilter totalDocs timeUsedMs  \\\n",
       "0                        5434    308641         36   \n",
       "1                        5434    308641         38   \n",
       "\n",
       "  minConsumingFreshnessTimeMs exceptions  \n",
       "0               1618093100532         []  \n",
       "1               1618093096985         []  "
      ]
     },
     "metadata": {},
     "output_type": "display_data"
    }
   ],
   "source": [
    "executeSQLStatement(\"select * from XX_TABLE WHERE start_location=XX_STARTLOCATION LIMIT 300000\", [['trips_default_index', 'Default Index (Dictionary-encoded forward index with bit compression) for each column'],['trips_sortedForwardIndex', 'Sorted forward index with run-length encoding on start location']])"
   ]
  },
  {
   "cell_type": "markdown",
   "id": "encouraging-chair",
   "metadata": {},
   "source": [
    "The sorted forward index on column start_location of table trips_sortedForwardIndex benefits from data locality. Because of this, numEntriesScannedInFilter is less than for the column with default index.\n",
    "Query executions can be faster when using the sorted forward index on column start_location."
   ]
  },
  {
   "cell_type": "markdown",
   "id": "productive-terminology",
   "metadata": {},
   "source": [
    "#### Default Index (Dictionary-encoded forward index with bit compression) vs Inverted index (Bitmap + Sorted)"
   ]
  },
  {
   "cell_type": "code",
   "execution_count": 10,
   "id": "entitled-maryland",
   "metadata": {},
   "outputs": [
    {
     "name": "stdout",
     "output_type": "stream",
     "text": [
      "Top two result records of: select driver_name, rider_name from trips_default_index WHERE start_location='Berg' LIMIT 300000\n"
     ]
    },
    {
     "data": {
      "text/html": [
       "<div>\n",
       "<style scoped>\n",
       "    .dataframe tbody tr th:only-of-type {\n",
       "        vertical-align: middle;\n",
       "    }\n",
       "\n",
       "    .dataframe tbody tr th {\n",
       "        vertical-align: top;\n",
       "    }\n",
       "\n",
       "    .dataframe thead th {\n",
       "        text-align: right;\n",
       "    }\n",
       "</style>\n",
       "<table border=\"1\" class=\"dataframe\">\n",
       "  <thead>\n",
       "    <tr style=\"text-align: right;\">\n",
       "      <th></th>\n",
       "      <th>driver_name</th>\n",
       "      <th>rider_name</th>\n",
       "    </tr>\n",
       "  </thead>\n",
       "  <tbody>\n",
       "    <tr>\n",
       "      <th>0</th>\n",
       "      <td>Anthony Carroll</td>\n",
       "      <td>Sandra Todd</td>\n",
       "    </tr>\n",
       "    <tr>\n",
       "      <th>1</th>\n",
       "      <td>Nichole Gleaves</td>\n",
       "      <td>Douglas Aschenbrenner</td>\n",
       "    </tr>\n",
       "  </tbody>\n",
       "</table>\n",
       "</div>"
      ],
      "text/plain": [
       "       driver_name             rider_name\n",
       "0  Anthony Carroll            Sandra Todd\n",
       "1  Nichole Gleaves  Douglas Aschenbrenner"
      ]
     },
     "metadata": {},
     "output_type": "display_data"
    },
    {
     "name": "stdout",
     "output_type": "stream",
     "text": [
      "Metrics of execution of: select driver_name, rider_name from XX_TABLE WHERE start_location=XX_STARTLOCATION LIMIT 300000\n"
     ]
    },
    {
     "data": {
      "text/html": [
       "<div>\n",
       "<style scoped>\n",
       "    .dataframe tbody tr th:only-of-type {\n",
       "        vertical-align: middle;\n",
       "    }\n",
       "\n",
       "    .dataframe tbody tr th {\n",
       "        vertical-align: top;\n",
       "    }\n",
       "\n",
       "    .dataframe thead th {\n",
       "        text-align: right;\n",
       "    }\n",
       "</style>\n",
       "<table border=\"1\" class=\"dataframe\">\n",
       "  <thead>\n",
       "    <tr style=\"text-align: right;\">\n",
       "      <th></th>\n",
       "      <th>indextype</th>\n",
       "      <th>table</th>\n",
       "      <th>numDocsScanned</th>\n",
       "      <th>numEntriesScannedInFilter</th>\n",
       "      <th>numEntriesScannedPostFilter</th>\n",
       "      <th>totalDocs</th>\n",
       "      <th>timeUsedMs</th>\n",
       "      <th>minConsumingFreshnessTimeMs</th>\n",
       "      <th>exceptions</th>\n",
       "    </tr>\n",
       "  </thead>\n",
       "  <tbody>\n",
       "    <tr>\n",
       "      <th>0</th>\n",
       "      <td>Default Index (Dictionary-encoded forward index with bit compression) for each column</td>\n",
       "      <td>trips_default_index</td>\n",
       "      <td>286</td>\n",
       "      <td>308641</td>\n",
       "      <td>572</td>\n",
       "      <td>308641</td>\n",
       "      <td>14</td>\n",
       "      <td>1618093100532</td>\n",
       "      <td>[]</td>\n",
       "    </tr>\n",
       "    <tr>\n",
       "      <th>1</th>\n",
       "      <td>Bitmap inverted index on start_location</td>\n",
       "      <td>trips_bitmapInvertedIndex_startLocation</td>\n",
       "      <td>286</td>\n",
       "      <td>0</td>\n",
       "      <td>572</td>\n",
       "      <td>308641</td>\n",
       "      <td>18</td>\n",
       "      <td>1618093102957</td>\n",
       "      <td>[]</td>\n",
       "    </tr>\n",
       "    <tr>\n",
       "      <th>2</th>\n",
       "      <td>Sorted inverted index on start_location</td>\n",
       "      <td>trips_sortedInvertedIndex_startLocation</td>\n",
       "      <td>286</td>\n",
       "      <td>0</td>\n",
       "      <td>572</td>\n",
       "      <td>308641</td>\n",
       "      <td>22</td>\n",
       "      <td>1618093094299</td>\n",
       "      <td>[]</td>\n",
       "    </tr>\n",
       "  </tbody>\n",
       "</table>\n",
       "</div>"
      ],
      "text/plain": [
       "                                                                               indextype  \\\n",
       "0  Default Index (Dictionary-encoded forward index with bit compression) for each column   \n",
       "1                                                Bitmap inverted index on start_location   \n",
       "2                                                Sorted inverted index on start_location   \n",
       "\n",
       "                                     table numDocsScanned  \\\n",
       "0                      trips_default_index            286   \n",
       "1  trips_bitmapInvertedIndex_startLocation            286   \n",
       "2  trips_sortedInvertedIndex_startLocation            286   \n",
       "\n",
       "  numEntriesScannedInFilter numEntriesScannedPostFilter totalDocs timeUsedMs  \\\n",
       "0                    308641                         572    308641         14   \n",
       "1                         0                         572    308641         18   \n",
       "2                         0                         572    308641         22   \n",
       "\n",
       "  minConsumingFreshnessTimeMs exceptions  \n",
       "0               1618093100532         []  \n",
       "1               1618093102957         []  \n",
       "2               1618093094299         []  "
      ]
     },
     "metadata": {},
     "output_type": "display_data"
    }
   ],
   "source": [
    "executeSQLStatement(\"select driver_name, rider_name from XX_TABLE WHERE start_location=XX_STARTLOCATION LIMIT 300000\", [['trips_default_index', 'Default Index (Dictionary-encoded forward index with bit compression) for each column'],['trips_bitmapInvertedIndex_startLocation', 'Bitmap inverted index on start_location'],['trips_sortedInvertedIndex_startLocation','Sorted inverted index on start_location']])"
   ]
  },
  {
   "cell_type": "markdown",
   "id": "african-practitioner",
   "metadata": {},
   "source": [
    "An inverted index can improve the query performance. In this case, no entries have to be scanned in filter and the query runtime is faster compared to using the dictionary encoded index.\n",
    "By using the sorted inverted index, the performance can benefit from data locality. "
   ]
  },
  {
   "cell_type": "markdown",
   "id": "opposite-ensemble",
   "metadata": {},
   "source": [
    "#### Text Search Support"
   ]
  },
  {
   "cell_type": "markdown",
   "id": "framed-flash",
   "metadata": {},
   "source": [
    "A query searching for all driver name, which contain a specfic first name, will only be executed successful on table trips_textIndex, as it has an index defined on column driver_name. The same query execution on other tables will fail, the metrics table only displays the executions without an exception."
   ]
  },
  {
   "cell_type": "code",
   "execution_count": 11,
   "id": "fixed-commitment",
   "metadata": {},
   "outputs": [
    {
     "name": "stdout",
     "output_type": "stream",
     "text": [
      "Top two result records of: select * from trips_textIndex WHERE TEXT_MATCH ('driver_name','Anthony') LIMIT 50000\n"
     ]
    },
    {
     "data": {
      "text/html": [
       "<div>\n",
       "<style scoped>\n",
       "    .dataframe tbody tr th:only-of-type {\n",
       "        vertical-align: middle;\n",
       "    }\n",
       "\n",
       "    .dataframe tbody tr th {\n",
       "        vertical-align: top;\n",
       "    }\n",
       "\n",
       "    .dataframe thead th {\n",
       "        text-align: right;\n",
       "    }\n",
       "</style>\n",
       "<table border=\"1\" class=\"dataframe\">\n",
       "  <thead>\n",
       "    <tr style=\"text-align: right;\">\n",
       "      <th></th>\n",
       "      <th>count</th>\n",
       "      <th>driver_name</th>\n",
       "      <th>driver_rating</th>\n",
       "      <th>end_location</th>\n",
       "      <th>end_location_state</th>\n",
       "      <th>end_zip_code</th>\n",
       "      <th>license_plate</th>\n",
       "      <th>payment_amount</th>\n",
       "      <th>payment_tip_amount</th>\n",
       "      <th>request_time_millis</th>\n",
       "      <th>rider_is_premium</th>\n",
       "      <th>rider_name</th>\n",
       "      <th>rider_rating</th>\n",
       "      <th>start_location</th>\n",
       "      <th>start_location_state</th>\n",
       "      <th>start_zip_code</th>\n",
       "      <th>trip_end_time_millis</th>\n",
       "      <th>trip_start_time_millis</th>\n",
       "      <th>trip_wait_time_millis</th>\n",
       "    </tr>\n",
       "  </thead>\n",
       "  <tbody>\n",
       "    <tr>\n",
       "      <th>0</th>\n",
       "      <td>1</td>\n",
       "      <td>Anthony Johnson</td>\n",
       "      <td>3</td>\n",
       "      <td>Trebur</td>\n",
       "      <td>Hessen</td>\n",
       "      <td>65468</td>\n",
       "      <td>UN-GC-45</td>\n",
       "      <td>174.0</td>\n",
       "      <td>48.0</td>\n",
       "      <td>1618069674004</td>\n",
       "      <td>1</td>\n",
       "      <td>Donald Mikels</td>\n",
       "      <td>5</td>\n",
       "      <td>Bühnsdorf</td>\n",
       "      <td>Schleswig-Holstein</td>\n",
       "      <td>23845</td>\n",
       "      <td>1618079460466</td>\n",
       "      <td>1618071108466</td>\n",
       "      <td>1434462</td>\n",
       "    </tr>\n",
       "    <tr>\n",
       "      <th>1</th>\n",
       "      <td>1</td>\n",
       "      <td>David Anthony</td>\n",
       "      <td>3</td>\n",
       "      <td>Horhausen</td>\n",
       "      <td>Rheinland-Pfalz</td>\n",
       "      <td>56379</td>\n",
       "      <td>SB-SR-92</td>\n",
       "      <td>1326.0</td>\n",
       "      <td>11.0</td>\n",
       "      <td>1618069702969</td>\n",
       "      <td>0</td>\n",
       "      <td>Deborah Haig</td>\n",
       "      <td>0</td>\n",
       "      <td>Zwiesel</td>\n",
       "      <td>Bayern</td>\n",
       "      <td>94227</td>\n",
       "      <td>1618137749081</td>\n",
       "      <td>1618069749081</td>\n",
       "      <td>46112</td>\n",
       "    </tr>\n",
       "  </tbody>\n",
       "</table>\n",
       "</div>"
      ],
      "text/plain": [
       "   count      driver_name  driver_rating end_location end_location_state  \\\n",
       "0      1  Anthony Johnson              3       Trebur             Hessen   \n",
       "1      1    David Anthony              3    Horhausen    Rheinland-Pfalz   \n",
       "\n",
       "  end_zip_code license_plate  payment_amount  payment_tip_amount  \\\n",
       "0        65468      UN-GC-45           174.0                48.0   \n",
       "1        56379      SB-SR-92          1326.0                11.0   \n",
       "\n",
       "   request_time_millis  rider_is_premium     rider_name  rider_rating  \\\n",
       "0        1618069674004                 1  Donald Mikels             5   \n",
       "1        1618069702969                 0   Deborah Haig             0   \n",
       "\n",
       "  start_location start_location_state start_zip_code  trip_end_time_millis  \\\n",
       "0      Bühnsdorf   Schleswig-Holstein          23845         1618079460466   \n",
       "1        Zwiesel               Bayern          94227         1618137749081   \n",
       "\n",
       "   trip_start_time_millis  trip_wait_time_millis  \n",
       "0           1618071108466                1434462  \n",
       "1           1618069749081                  46112  "
      ]
     },
     "metadata": {},
     "output_type": "display_data"
    },
    {
     "name": "stdout",
     "output_type": "stream",
     "text": [
      "Metrics of execution of: select * from XX_TABLE WHERE TEXT_MATCH ('driver_name',XX_DRIVERNAME) LIMIT 50000\n"
     ]
    },
    {
     "data": {
      "text/html": [
       "<div>\n",
       "<style scoped>\n",
       "    .dataframe tbody tr th:only-of-type {\n",
       "        vertical-align: middle;\n",
       "    }\n",
       "\n",
       "    .dataframe tbody tr th {\n",
       "        vertical-align: top;\n",
       "    }\n",
       "\n",
       "    .dataframe thead th {\n",
       "        text-align: right;\n",
       "    }\n",
       "</style>\n",
       "<table border=\"1\" class=\"dataframe\">\n",
       "  <thead>\n",
       "    <tr style=\"text-align: right;\">\n",
       "      <th></th>\n",
       "      <th>indextype</th>\n",
       "      <th>table</th>\n",
       "      <th>numDocsScanned</th>\n",
       "      <th>numEntriesScannedInFilter</th>\n",
       "      <th>numEntriesScannedPostFilter</th>\n",
       "      <th>totalDocs</th>\n",
       "      <th>timeUsedMs</th>\n",
       "      <th>minConsumingFreshnessTimeMs</th>\n",
       "      <th>exceptions</th>\n",
       "    </tr>\n",
       "  </thead>\n",
       "  <tbody>\n",
       "    <tr>\n",
       "      <th>0</th>\n",
       "      <td>Text Index</td>\n",
       "      <td>trips_textIndex</td>\n",
       "      <td>1251</td>\n",
       "      <td>0</td>\n",
       "      <td>23769</td>\n",
       "      <td>308641</td>\n",
       "      <td>79</td>\n",
       "      <td>1618093107522</td>\n",
       "      <td>[]</td>\n",
       "    </tr>\n",
       "  </tbody>\n",
       "</table>\n",
       "</div>"
      ],
      "text/plain": [
       "    indextype            table numDocsScanned numEntriesScannedInFilter  \\\n",
       "0  Text Index  trips_textIndex           1251                         0   \n",
       "\n",
       "  numEntriesScannedPostFilter totalDocs timeUsedMs  \\\n",
       "0                       23769    308641         79   \n",
       "\n",
       "  minConsumingFreshnessTimeMs exceptions  \n",
       "0               1618093107522         []  "
      ]
     },
     "metadata": {},
     "output_type": "display_data"
    }
   ],
   "source": [
    "executeSQLStatement(\"select * from XX_TABLE WHERE TEXT_MATCH ('driver_name',XX_DRIVERNAME) LIMIT 50000\", [['trips_textIndex','Text Index']])"
   ]
  },
  {
   "cell_type": "markdown",
   "id": "integrated-colleague",
   "metadata": {},
   "source": [
    "#### Star-Tree Index\n",
    "The Start-Tree index utilizes pre-aggregation of results and is built on multiple columns. This index can improve the performance for specific queries, because the number of values to be processed is reduced by the pre-aggregation. Although usage of a Star-Tree index has the advantage of decreased query runtime, the table size is increased.\n",
    "For table trips_starTreeIndex, a Star-Tree Index is built on the dimensions rider_is_premium, start_location_state and end_location. The sum of payment_amount is pre-aggregated and materialized based on the configured dimensions."
   ]
  },
  {
   "cell_type": "code",
   "execution_count": 12,
   "id": "threaded-mitchell",
   "metadata": {},
   "outputs": [
    {
     "name": "stdout",
     "output_type": "stream",
     "text": [
      "Top two result records of: SELECT SUM(payment_amount) FROM trips_default_index\n"
     ]
    },
    {
     "data": {
      "text/html": [
       "<div>\n",
       "<style scoped>\n",
       "    .dataframe tbody tr th:only-of-type {\n",
       "        vertical-align: middle;\n",
       "    }\n",
       "\n",
       "    .dataframe tbody tr th {\n",
       "        vertical-align: top;\n",
       "    }\n",
       "\n",
       "    .dataframe thead th {\n",
       "        text-align: right;\n",
       "    }\n",
       "</style>\n",
       "<table border=\"1\" class=\"dataframe\">\n",
       "  <thead>\n",
       "    <tr style=\"text-align: right;\">\n",
       "      <th></th>\n",
       "      <th>sum(payment_amount)</th>\n",
       "    </tr>\n",
       "  </thead>\n",
       "  <tbody>\n",
       "    <tr>\n",
       "      <th>0</th>\n",
       "      <td>2.171594e+08</td>\n",
       "    </tr>\n",
       "  </tbody>\n",
       "</table>\n",
       "</div>"
      ],
      "text/plain": [
       "   sum(payment_amount)\n",
       "0         2.171594e+08"
      ]
     },
     "metadata": {},
     "output_type": "display_data"
    },
    {
     "name": "stdout",
     "output_type": "stream",
     "text": [
      "Metrics of execution of: SELECT SUM(payment_amount) FROM XX_TABLE\n"
     ]
    },
    {
     "data": {
      "text/html": [
       "<div>\n",
       "<style scoped>\n",
       "    .dataframe tbody tr th:only-of-type {\n",
       "        vertical-align: middle;\n",
       "    }\n",
       "\n",
       "    .dataframe tbody tr th {\n",
       "        vertical-align: top;\n",
       "    }\n",
       "\n",
       "    .dataframe thead th {\n",
       "        text-align: right;\n",
       "    }\n",
       "</style>\n",
       "<table border=\"1\" class=\"dataframe\">\n",
       "  <thead>\n",
       "    <tr style=\"text-align: right;\">\n",
       "      <th></th>\n",
       "      <th>indextype</th>\n",
       "      <th>table</th>\n",
       "      <th>numDocsScanned</th>\n",
       "      <th>numEntriesScannedInFilter</th>\n",
       "      <th>numEntriesScannedPostFilter</th>\n",
       "      <th>totalDocs</th>\n",
       "      <th>timeUsedMs</th>\n",
       "      <th>minConsumingFreshnessTimeMs</th>\n",
       "      <th>exceptions</th>\n",
       "    </tr>\n",
       "  </thead>\n",
       "  <tbody>\n",
       "    <tr>\n",
       "      <th>0</th>\n",
       "      <td>Default Index (Dictionary-encoded forward index with bit compression) for each column</td>\n",
       "      <td>trips_default_index</td>\n",
       "      <td>308641</td>\n",
       "      <td>0</td>\n",
       "      <td>308641</td>\n",
       "      <td>308641</td>\n",
       "      <td>21</td>\n",
       "      <td>1618093100532</td>\n",
       "      <td>[]</td>\n",
       "    </tr>\n",
       "    <tr>\n",
       "      <th>1</th>\n",
       "      <td>Start Tree 1</td>\n",
       "      <td>trips_starTreeIndex</td>\n",
       "      <td>8656</td>\n",
       "      <td>0</td>\n",
       "      <td>8656</td>\n",
       "      <td>308641</td>\n",
       "      <td>4</td>\n",
       "      <td>1618093108224</td>\n",
       "      <td>[]</td>\n",
       "    </tr>\n",
       "  </tbody>\n",
       "</table>\n",
       "</div>"
      ],
      "text/plain": [
       "                                                                               indextype  \\\n",
       "0  Default Index (Dictionary-encoded forward index with bit compression) for each column   \n",
       "1                                                                           Start Tree 1   \n",
       "\n",
       "                 table numDocsScanned numEntriesScannedInFilter  \\\n",
       "0  trips_default_index         308641                         0   \n",
       "1  trips_starTreeIndex           8656                         0   \n",
       "\n",
       "  numEntriesScannedPostFilter totalDocs timeUsedMs  \\\n",
       "0                      308641    308641         21   \n",
       "1                        8656    308641          4   \n",
       "\n",
       "  minConsumingFreshnessTimeMs exceptions  \n",
       "0               1618093100532         []  \n",
       "1               1618093108224         []  "
      ]
     },
     "metadata": {},
     "output_type": "display_data"
    }
   ],
   "source": [
    "executeSQLStatement(\"SELECT SUM(payment_amount) FROM XX_TABLE\",[[\"trips_default_index\",\"Default Index (Dictionary-encoded forward index with bit compression) for each column\"],[\"trips_starTreeIndex\", \"Start Tree 1\"]] )"
   ]
  },
  {
   "cell_type": "markdown",
   "id": "bearing-kelly",
   "metadata": {},
   "source": [
    "When selecting the Star-Node without grouping by any dimension, Pinot doesn't need to access all documents. Instead, only the Star-Node of each segment is required. The reason, why numDocsScanned is unequal the number of segments is, that one segment isn't completed yet. Pinot accesses each segment and each records of the segment which still has the status IN_PROGRESS."
   ]
  },
  {
   "cell_type": "code",
   "execution_count": 13,
   "id": "early-falls",
   "metadata": {},
   "outputs": [
    {
     "name": "stdout",
     "output_type": "stream",
     "text": [
      "The table with the Star Tree Index consists of : 16 segments\n"
     ]
    }
   ],
   "source": [
    "print(\"The table with the Star Tree Index consists of : \" + str(len(requests.get('http://pinot-controller.pinot:9000/segments/trips_starTreeIndex').json()[0]['REALTIME'])) + \" segments\")"
   ]
  },
  {
   "cell_type": "markdown",
   "id": "occupational-bleeding",
   "metadata": {},
   "source": [
    "Filter on the dimension rider_is_premium, which build the first node of the Star Tree Index, halves the number of numDocsScanned. This is because rider_is_premiumn is assigned randomly in our data generation, so there is a fifty percent chance that a rider is not premium and less documents of the not finished segment need to be scanned."
   ]
  },
  {
   "cell_type": "code",
   "execution_count": 14,
   "id": "killing-sierra",
   "metadata": {},
   "outputs": [
    {
     "name": "stdout",
     "output_type": "stream",
     "text": [
      "Top two result records of: SELECT SUM(payment_amount) FROM trips_default_index WHERE rider_is_premium = 0\n"
     ]
    },
    {
     "data": {
      "text/html": [
       "<div>\n",
       "<style scoped>\n",
       "    .dataframe tbody tr th:only-of-type {\n",
       "        vertical-align: middle;\n",
       "    }\n",
       "\n",
       "    .dataframe tbody tr th {\n",
       "        vertical-align: top;\n",
       "    }\n",
       "\n",
       "    .dataframe thead th {\n",
       "        text-align: right;\n",
       "    }\n",
       "</style>\n",
       "<table border=\"1\" class=\"dataframe\">\n",
       "  <thead>\n",
       "    <tr style=\"text-align: right;\">\n",
       "      <th></th>\n",
       "      <th>sum(payment_amount)</th>\n",
       "    </tr>\n",
       "  </thead>\n",
       "  <tbody>\n",
       "    <tr>\n",
       "      <th>0</th>\n",
       "      <td>1.085814e+08</td>\n",
       "    </tr>\n",
       "  </tbody>\n",
       "</table>\n",
       "</div>"
      ],
      "text/plain": [
       "   sum(payment_amount)\n",
       "0         1.085814e+08"
      ]
     },
     "metadata": {},
     "output_type": "display_data"
    },
    {
     "name": "stdout",
     "output_type": "stream",
     "text": [
      "Metrics of execution of: SELECT SUM(payment_amount) FROM XX_TABLE WHERE rider_is_premium = 0\n"
     ]
    },
    {
     "data": {
      "text/html": [
       "<div>\n",
       "<style scoped>\n",
       "    .dataframe tbody tr th:only-of-type {\n",
       "        vertical-align: middle;\n",
       "    }\n",
       "\n",
       "    .dataframe tbody tr th {\n",
       "        vertical-align: top;\n",
       "    }\n",
       "\n",
       "    .dataframe thead th {\n",
       "        text-align: right;\n",
       "    }\n",
       "</style>\n",
       "<table border=\"1\" class=\"dataframe\">\n",
       "  <thead>\n",
       "    <tr style=\"text-align: right;\">\n",
       "      <th></th>\n",
       "      <th>indextype</th>\n",
       "      <th>table</th>\n",
       "      <th>numDocsScanned</th>\n",
       "      <th>numEntriesScannedInFilter</th>\n",
       "      <th>numEntriesScannedPostFilter</th>\n",
       "      <th>totalDocs</th>\n",
       "      <th>timeUsedMs</th>\n",
       "      <th>minConsumingFreshnessTimeMs</th>\n",
       "      <th>exceptions</th>\n",
       "    </tr>\n",
       "  </thead>\n",
       "  <tbody>\n",
       "    <tr>\n",
       "      <th>0</th>\n",
       "      <td>Default Index (Dictionary-encoded forward index with bit compression) for each column</td>\n",
       "      <td>trips_default_index</td>\n",
       "      <td>154448</td>\n",
       "      <td>308641</td>\n",
       "      <td>154448</td>\n",
       "      <td>308641</td>\n",
       "      <td>17</td>\n",
       "      <td>1618093100532</td>\n",
       "      <td>[]</td>\n",
       "    </tr>\n",
       "    <tr>\n",
       "      <th>1</th>\n",
       "      <td>Start Tree 1</td>\n",
       "      <td>trips_starTreeIndex</td>\n",
       "      <td>4377</td>\n",
       "      <td>8641</td>\n",
       "      <td>4377</td>\n",
       "      <td>308641</td>\n",
       "      <td>5</td>\n",
       "      <td>1618093108224</td>\n",
       "      <td>[]</td>\n",
       "    </tr>\n",
       "  </tbody>\n",
       "</table>\n",
       "</div>"
      ],
      "text/plain": [
       "                                                                               indextype  \\\n",
       "0  Default Index (Dictionary-encoded forward index with bit compression) for each column   \n",
       "1                                                                           Start Tree 1   \n",
       "\n",
       "                 table numDocsScanned numEntriesScannedInFilter  \\\n",
       "0  trips_default_index         154448                    308641   \n",
       "1  trips_starTreeIndex           4377                      8641   \n",
       "\n",
       "  numEntriesScannedPostFilter totalDocs timeUsedMs  \\\n",
       "0                      154448    308641         17   \n",
       "1                        4377    308641          5   \n",
       "\n",
       "  minConsumingFreshnessTimeMs exceptions  \n",
       "0               1618093100532         []  \n",
       "1               1618093108224         []  "
      ]
     },
     "metadata": {},
     "output_type": "display_data"
    }
   ],
   "source": [
    "executeSQLStatement(\"SELECT SUM(payment_amount) FROM XX_TABLE WHERE rider_is_premium = 0\",[[\"trips_default_index\",\"Default Index (Dictionary-encoded forward index with bit compression) for each column\"],[\"trips_starTreeIndex\", \"Start Tree 1\"]])"
   ]
  },
  {
   "cell_type": "markdown",
   "id": "distant-massachusetts",
   "metadata": {},
   "source": [
    "##### Trace Details \n",
    "The trace details of the query execution display how much time was spent for which operator execution. We extract the operator details in the following. The query executed on trips_default_index requires a lot of Aggregation Operators, as no data is preaggregated like it is the case for the table trips_starTreeIndex."
   ]
  },
  {
   "cell_type": "code",
   "execution_count": 15,
   "id": "possible-black",
   "metadata": {},
   "outputs": [
    {
     "name": "stdout",
     "output_type": "stream",
     "text": [
      "\n",
      "Get Trace Details for trips_starTreeIndex\n",
      "\n",
      "query: SELECT SUM(payment_amount) FROM trips_starTreeIndex WHERE rider_is_premium = 0\n",
      "['{\"AggregationOnlyCombineOperator Time\":1}', '{\"InstanceResponseOperator Time\":1}]}', '{\"AggregationOperator Time\":1}']\n",
      "\n",
      "Get Trace Details for trips_default_index\n",
      "\n",
      "query: SELECT SUM(payment_amount) FROM trips_default_index WHERE rider_is_premium = 0\n",
      "['{\"AggregationOnlyCombineOperator Time\":15}', '{\"InstanceResponseOperator Time\":15}]}', '{\"AggregationOperator Time\":1}', '{\"DocIdSetOperator Time\":1}', '{\"ProjectionOperator Time\":1}', '{\"TransformOperator Time\":1}', '{\"AggregationOperator Time\":1}', '{\"DocIdSetOperator Time\":1}', '{\"ProjectionOperator Time\":1}', '{\"TransformOperator Time\":1}', '{\"AggregationOperator Time\":1}', '{\"DocIdSetOperator Time\":1}', '{\"ProjectionOperator Time\":1}', '{\"TransformOperator Time\":1}', '{\"AggregationOperator Time\":1}', '{\"DocIdSetOperator Time\":1}', '{\"ProjectionOperator Time\":1}', '{\"TransformOperator Time\":1}', '{\"AggregationOperator Time\":1}', '{\"DocIdSetOperator Time\":1}', '{\"ProjectionOperator Time\":1}', '{\"TransformOperator Time\":1}', '{\"AggregationOperator Time\":1}', '{\"DocIdSetOperator Time\":1}', '{\"ProjectionOperator Time\":1}', '{\"TransformOperator Time\":1}', '{\"AggregationOperator Time\":1}', '{\"DocIdSetOperator Time\":1}', '{\"ProjectionOperator Time\":1}', '{\"TransformOperator Time\":1}', '{\"AggregationOperator Time\":1}', '{\"DocIdSetOperator Time\":1}', '{\"ProjectionOperator Time\":1}', '{\"TransformOperator Time\":1}', '{\"AggregationOperator Time\":1}', '{\"DocIdSetOperator Time\":1}', '{\"ProjectionOperator Time\":1}', '{\"TransformOperator Time\":1}', '{\"AggregationOperator Time\":1}', '{\"DocIdSetOperator Time\":1}', '{\"ProjectionOperator Time\":1}', '{\"TransformOperator Time\":1}', '{\"AggregationOperator Time\":1}', '{\"DocIdSetOperator Time\":1}', '{\"ProjectionOperator Time\":1}', '{\"TransformOperator Time\":1}', '{\"AggregationOperator Time\":1}', '{\"DocIdSetOperator Time\":1}', '{\"ProjectionOperator Time\":1}', '{\"TransformOperator Time\":1}', '{\"AggregationOperator Time\":1}', '{\"DocIdSetOperator Time\":1}', '{\"ProjectionOperator Time\":1}', '{\"TransformOperator Time\":1}', '{\"AggregationOperator Time\":1}', '{\"DocIdSetOperator Time\":1}', '{\"ProjectionOperator Time\":1}', '{\"TransformOperator Time\":1}', '{\"AggregationOperator Time\":1}']\n"
     ]
    }
   ],
   "source": [
    "def query_sql(query):\n",
    "    print(\"query: \" + query)\n",
    "    return requests.get('http://pinot-broker.pinot:8099/query/sql', params={\n",
    "        \"sql\" : query,\n",
    "        \"trace\": \"true\"\n",
    "    }).json()\n",
    "def getTraceDetails(sql):\n",
    "    response = query_sql(sql)\n",
    "    test = (response['traceInfo']['pinot-server-0.pinot-server-headless.pinot.svc.cluster.local'])[7:-3]\n",
    "    string_tracedetails = test.split(',')\n",
    "    # display only trace details with time > 0\n",
    "    tracedetails_time = []\n",
    "    for x in string_tracedetails:\n",
    "        if \"Time\" in x:\n",
    "            if \":0\" in x:\n",
    "                pass\n",
    "            else:\n",
    "                tracedetails_time.append(x)\n",
    "    print(tracedetails_time)\n",
    "\n",
    "print(\"\\nGet Trace Details for trips_starTreeIndex\\n\")\n",
    "getTraceDetails(\"SELECT SUM(payment_amount) FROM trips_starTreeIndex WHERE rider_is_premium = 0\")\n",
    "print(\"\\nGet Trace Details for trips_default_index\\n\")\n",
    "getTraceDetails(\"SELECT SUM(payment_amount) FROM trips_default_index WHERE rider_is_premium = 0\")"
   ]
  },
  {
   "cell_type": "markdown",
   "id": "endless-hollow",
   "metadata": {},
   "source": [
    "### Indexes - Comparison with other database technologies\n",
    "Two categories of indexes we demonstrated for Apache Pinot are Forward Indexes and Inverted Indexes.\n",
    "Forward Indexes are most often used in traditional databases.\n",
    "Search Engines most often rely on the inverted index, like Eleasticsearch for example. Inverted Index are especially useful for Column Store Databases.\n",
    "We saw, that there is a special index to do a full-text search for records containing a specific string.\n",
    "\n",
    "In general, Apache Pinot introduced following new indexing techniques: Raw value forward index and the Star-Tree Index.\n",
    "The raw value forward index doesn't include dictionaries - when aggregating a large number of values, it can take advantage of value locality to scan for scanning.\n",
    "\n",
    "The Star-Tree Index is an important and special concept for Pinot, because it is utilizes pre-aggregation for group-by queries to achieve low query latencies. \n",
    "During our research, we haven't seen similiar concepts for other databases.\n",
    "Star-Tree Indexes bring great benefits, if there is the requirement to return data e.g. per user level - like it is the case for the \"Who viewed my Profile\" application at LinkedIn."
   ]
  },
  {
   "cell_type": "markdown",
   "id": "square-highway",
   "metadata": {},
   "source": [
    "### Maintenance - Table Deletion"
   ]
  },
  {
   "cell_type": "code",
   "execution_count": 16,
   "id": "nominated-curve",
   "metadata": {},
   "outputs": [
    {
     "name": "stdout",
     "output_type": "stream",
     "text": [
      "{'status': 'Tables: [trips_default_index_REALTIME] deleted'}\n",
      "{'status': 'Tables: [trips_rawForwardIndex_REALTIME] deleted'}\n",
      "{'status': 'Tables: [trips_sortedForwardIndex_REALTIME] deleted'}\n",
      "{'status': 'Tables: [trips_bitmapInvertedIndex_startLocation_REALTIME] deleted'}\n",
      "{'status': 'Tables: [trips_sortedInvertedIndex_startLocation_REALTIME] deleted'}\n",
      "{'status': 'Tables: [trips_starTreeIndex_REALTIME] deleted'}\n",
      "{'status': 'Tables: [trips_textIndex_REALTIME] deleted'}\n"
     ]
    }
   ],
   "source": [
    "## Delete Tables\n",
    "for table in table_list:\n",
    "    string = \"http://pinot-controller.pinot:9000/tables/\" + table[0]\n",
    "    response = requests.delete(string)\n",
    "    print(response.json())\n",
    "    table_list = []"
   ]
  },
  {
   "cell_type": "markdown",
   "id": "unusual-throw",
   "metadata": {},
   "source": [
    "# Closing Remarks\n",
    "__TBD__:\n",
    "Compared to known databases, complex set up and configurations.\n",
    "The several different components ensure the flexible scale up of the cluster and the high availability, as the system would continue to server queries also if one node goes down. This is a big advantage, but the different also add more complexitiy to the whole landscape. \n",
    "\n",
    "We experienced the advantages of Pinot, e.g. the possibility to dynamically change configurations and to quickly create new tables consuming data from the Kafka topic. "
   ]
  },
  {
   "cell_type": "code",
   "execution_count": null,
   "id": "marked-injury",
   "metadata": {},
   "outputs": [],
   "source": []
  }
 ],
 "metadata": {
  "kernelspec": {
   "display_name": "Python 3",
   "language": "python",
   "name": "python3"
  },
  "language_info": {
   "codemirror_mode": {
    "name": "ipython",
    "version": 3
   },
   "file_extension": ".py",
   "mimetype": "text/x-python",
   "name": "python",
   "nbconvert_exporter": "python",
   "pygments_lexer": "ipython3",
   "version": "3.8.8"
  }
 },
 "nbformat": 4,
 "nbformat_minor": 5
}
