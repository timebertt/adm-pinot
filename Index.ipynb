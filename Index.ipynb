{
 "cells": [
  {
   "cell_type": "markdown",
   "id": "broadband-village",
   "metadata": {},
   "source": [
    "# Indexing"
   ]
  },
  {
   "cell_type": "markdown",
   "id": "binary-terrorism",
   "metadata": {},
   "source": [
    "## Table Creation with Different Index Configurations"
   ]
  },
  {
   "cell_type": "code",
   "execution_count": 1,
   "id": "finite-immunology",
   "metadata": {},
   "outputs": [],
   "source": [
    "import pandas as pd\n",
    "import json\n",
    "import requests\n",
    "import copy\n",
    "import time"
   ]
  },
  {
   "cell_type": "markdown",
   "id": "geological-preserve",
   "metadata": {},
   "source": [
    "To demonstrate the different indexing options and mechanisms, that Pinot offers, we will create some tables with different index configurations, describe their key properties and compare query performance.\n",
    "The index configurations are applied to the `tableIndexConfig`-section the table configuration.\n",
    "\n",
    "All tables in the following examples are real-time tables and consume data from the same Kafka topic (`trips`). Therefore, all of them will contain the same data records. To ensure, that the consumption of the tables has finished before executing queries, we are monitoring the timestamp when streaming data was ingested the last time to the table. Parameter `minConsumingFreshnessTimeMs` describes when the last ingestion took place. We defined: if there hasn't been any new data consumption in the last 10 seconds, the before generated data records of the Kafka topic have been consumed by the table and there are enough data records to proceed.\n",
    "(Remark: We are only checking the last updated time stamp for one specific table and assume, that there is no high time deviation for the different tables.)\n",
    "\n",
    "XXX use helper func and adapt description"
   ]
  },
  {
   "cell_type": "code",
   "execution_count": 2,
   "id": "external-penetration",
   "metadata": {},
   "outputs": [
    {
     "name": "stdout",
     "output_type": "stream",
     "text": [
      "<Response [200]>\n",
      "{\"status\":\"Table trips_default_index_REALTIME succesfully added\"}\n",
      "<Response [200]>\n",
      "{\"status\":\"Table trips_rawForwardIndex_REALTIME succesfully added\"}\n",
      "<Response [200]>\n",
      "{\"status\":\"Table trips_sortedForwardIndex_REALTIME succesfully added\"}\n",
      "<Response [200]>\n",
      "{\"status\":\"Table trips_bitmapInvertedIndex_startLocation_REALTIME succesfully added\"}\n",
      "<Response [200]>\n",
      "{\"status\":\"Table trips_sortedInvertedIndex_startLocation_REALTIME succesfully added\"}\n",
      "<Response [200]>\n",
      "{\"status\":\"Table trips_starTreeIndex_REALTIME succesfully added\"}\n",
      "<Response [200]>\n",
      "{\"status\":\"Table trips_textIndex_REALTIME succesfully added\"}\n"
     ]
    }
   ],
   "source": [
    "# Array to collect details of created tables\n",
    "table_list = []\n",
    "\n",
    "json_tableConfig = {\n",
    "  \"tableName\": \"variable_tableName\",\n",
    "  \"tableType\": \"REALTIME\",\n",
    "  \"segmentsConfig\": {\n",
    "    \"timeColumnName\": \"trip_start_time_millis\",\n",
    "    \"timeType\": \"MILLISECONDS\",\n",
    "    \"retentionTimeUnit\": \"DAYS\",\n",
    "    \"retentionTimeValue\": \"60\",\n",
    "    \"schemaName\": \"trips\",\n",
    "    \"replication\": \"1\",\n",
    "    \"replicasPerPartition\": \"1\"\n",
    "  },\n",
    "  \"tenants\": {},\n",
    "  \"tableIndexConfig\": {\n",
    "    \"loadMode\": \"MMAP\",\n",
    "    \"streamConfigs\": {\n",
    "      \"streamType\": \"kafka\",\n",
    "      \"stream.kafka.consumer.type\": \"simple\",\n",
    "      \"stream.kafka.topic.name\": \"trips\",\n",
    "      \"stream.kafka.decoder.class.name\": \"org.apache.pinot.plugin.stream.kafka.KafkaJSONMessageDecoder\",\n",
    "      \"stream.kafka.consumer.factory.class.name\": \"org.apache.pinot.plugin.stream.kafka20.KafkaConsumerFactory\",\n",
    "      \"stream.kafka.zk.broker.url\": \"pinot-kafka-zookeeper:2181\",\n",
    "      \"stream.kafka.broker.list\": \"pinot-kafka:9092\",\n",
    "      \"realtime.segment.flush.threshold.time\": \"12h\",\n",
    "      \"realtime.segment.flush.threshold.size\": \"20000\",\n",
    "      \"stream.kafka.consumer.prop.auto.offset.reset\": \"smallest\"\n",
    "    }\n",
    "  },\n",
    "  \"metadata\": {\n",
    "    \"customConfigs\": {}\n",
    "  }\n",
    "} \n",
    "\n",
    "# helper function\n",
    "def createTable(newTable_name, index_text, tableconfig_json):\n",
    "    # Input: Name of new table, index description, table configuration in json structure\n",
    "    response = requests.post('http://pinot-controller.pinot:9000/tables', json=tableconfig_json)\n",
    "    print(response)\n",
    "    print(response.text)\n",
    "    table_list.append([newTable_name, index_text])\n",
    "\n",
    "\n",
    "execution_start_time = int(round(time.time() * 1000))\n",
    "\n",
    "# Create a new table with default index for each column (no configuration required)\n",
    "newTable_defaultIndex = copy.deepcopy(json_tableConfig)\n",
    "newTable_defaultIndex[\"tableName\"] = \"trips_default_index\"\n",
    "createTable(newTable_defaultIndex[\"tableName\"], 'Default Index (Dictionary-encoded forward index with bit compression) for each column', newTable_defaultIndex)\n",
    "\n",
    "# Create a new table with raw value forward index\n",
    "newTable_rawForwardIndex = copy.deepcopy(json_tableConfig)\n",
    "newTable_rawForwardIndex[\"tableName\"] = \"trips_rawForwardIndex\"\n",
    "newTable_rawForwardIndex[\"tableIndexConfig\"][\"noDictionaryColumns\"] = [\"start_location\"]\n",
    "createTable(newTable_rawForwardIndex[\"tableName\"], 'Raw value forward index on start_location', newTable_rawForwardIndex)\n",
    "\n",
    "# Create a new table with sorted forward index with run-length encoding\n",
    "newTable_sortedForwardIndex = copy.deepcopy(json_tableConfig)\n",
    "newTable_sortedForwardIndex[\"tableName\"] = \"trips_sortedForwardIndex\"\n",
    "newTable_sortedForwardIndex[\"tableIndexConfig\"][\"sortedColumn\"] = [\"start_location\"]\n",
    "createTable(newTable_sortedForwardIndex[\"tableName\"], 'Sorted forward index with run-length encoding on start location', newTable_sortedForwardIndex)\n",
    "\n",
    "# Create a new table with bitmap inverted index\n",
    "newTable_bitmapInvertedIndex = copy.deepcopy(json_tableConfig)\n",
    "newTable_bitmapInvertedIndex[\"tableName\"] = \"trips_bitmapInvertedIndex_startLocation\"\n",
    "newTable_bitmapInvertedIndex[\"tableIndexConfig\"][\"invertedIndexColumns\"] = [\"start_location\"]\n",
    "createTable(newTable_bitmapInvertedIndex[\"tableName\"], 'Bitmap inverted index on start_location', newTable_bitmapInvertedIndex)\n",
    "\n",
    "# Create a new table with sorted inverted index\n",
    "newTable_sortedInvertedIndex = copy.deepcopy(json_tableConfig)\n",
    "newTable_sortedInvertedIndex[\"tableName\"] = \"trips_sortedInvertedIndex_startLocation\"\n",
    "newTable_sortedInvertedIndex[\"tableIndexConfig\"][\"invertedIndexColumns\"] = [\"start_location\"]\n",
    "newTable_sortedInvertedIndex[\"tableIndexConfig\"][\"sortedColumn\"] = [\"start_location\"]\n",
    "createTable(newTable_sortedInvertedIndex[\"tableName\"], 'Sorted inverted index on start_location', newTable_sortedInvertedIndex)\n",
    "\n",
    "# Create a new table with star tree index\n",
    "newTable_starTree = copy.deepcopy(json_tableConfig)\n",
    "newTable_starTree[\"tableName\"] = \"trips_starTreeIndex\"\n",
    "newTable_starTree[\"tableIndexConfig\"][\"starTreeIndexConfigs\"] = [{\n",
    "    \"dimensionsSplitOrder\": [\n",
    "      \"rider_is_premium\",\n",
    "      \"start_location_state\",\n",
    "      \"end_location\"\n",
    "    ],\n",
    "    \"functionColumnPairs\": [\n",
    "      \"SUM__payment_amount\",\n",
    "    ],\n",
    "    \"maxLeafRecords\": 1\n",
    "  }]\n",
    "createTable(newTable_starTree[\"tableName\"], 'Star Tree', newTable_starTree)\n",
    "\n",
    "# Create a new table with text index\n",
    "newTable_textIndex = copy.deepcopy(json_tableConfig)\n",
    "newTable_textIndex[\"tableName\"] = \"trips_textIndex\"\n",
    "newTable_textIndex[\"fieldConfigList\"]= [\n",
    "  {\n",
    "     \"name\":\"driver_name\",\n",
    "     \"encodingType\":\"RAW\",\n",
    "     \"indexType\":\"TEXT\"\n",
    "  },\n",
    "  {\n",
    "     \"name\":\"rider_name\",\n",
    "     \"encodingType\":\"RAW\",\n",
    "     \"indexType\":\"TEXT\"\n",
    "  }\n",
    "]\n",
    "newTable_textIndex[\"tableIndexConfig\"][\"noDictionaryColumns\"] = [\n",
    "     \"driver_name\",\n",
    "     \"rider_name\"\n",
    " ]\n",
    "createTable(newTable_textIndex[\"tableName\"], 'Text Index', newTable_textIndex)"
   ]
  },
  {
   "cell_type": "markdown",
   "id": "english-collapse",
   "metadata": {},
   "source": [
    "Let's wait for all the tables to finish loading our sample data:\n",
    "\n",
    "XXX use helper funcs"
   ]
  },
  {
   "cell_type": "code",
   "execution_count": 3,
   "id": "functioning-borough",
   "metadata": {},
   "outputs": [
    {
     "name": "stdout",
     "output_type": "stream",
     "text": [
      "\n",
      "--Consumption of generated data for trips_starTreeIndex finished--\n"
     ]
    }
   ],
   "source": [
    "# Wait for tables to finish data consumption from Kafka Topic\n",
    "tableConsuming = True\n",
    "while tableConsuming:\n",
    "    response = requests.post('http://pinot-broker.pinot:8099/query/sql', json={\n",
    "            \"sql\" : \"SELECT * FROM trips_starTreeIndex\"\n",
    "        })\n",
    "    response_json=response.json()\n",
    "    if response_json['minConsumingFreshnessTimeMs']>0 and response_json['minConsumingFreshnessTimeMs']<(int(round(time.time() * 1000)) - 10000 ) or response_json['minConsumingFreshnessTimeMs']>9000000036854775807:\n",
    "        tableConsuming = False;\n",
    "        print(\"\")\n",
    "        print(\"--Consumption of generated data for trips_starTreeIndex finished--\")"
   ]
  },
  {
   "cell_type": "code",
   "execution_count": 4,
   "id": "fresh-bracket",
   "metadata": {},
   "outputs": [
    {
     "name": "stdout",
     "output_type": "stream",
     "text": [
      "Using 'Pforzheim' as start location and 'Ellen' as driver name for upcoming queries.\n"
     ]
    }
   ],
   "source": [
    "# Read first start location and first driver name to use it as variables in upcoming queries\n",
    "response_json = requests.post('http://pinot-broker.pinot:8099/query/sql', json={\n",
    "    \"sql\": \"SELECT start_location, driver_name FROM \" + newTable_defaultIndex[\"tableName\"] \n",
    "}).json()\n",
    "\n",
    "startLocation = response_json['resultTable']['rows'][0][0]\n",
    "# Read the first name of the driver name\n",
    "driverName = (response_json['resultTable']['rows'][0][1]).split()[0]       \n",
    "\n",
    "print(f\"Using '{startLocation}' as start location and '{driverName}' as driver name for upcoming queries.\")"
   ]
  },
  {
   "cell_type": "markdown",
   "id": "level-omaha",
   "metadata": {},
   "source": [
    "### Table Size\n",
    "\n",
    "Although all tables contain the same amount of records and also the same record values, the table size differs.\n",
    "This is because of the different indexes used. E.g. a text index on two columns consumes much more space compared to the raw forward index. The Star-Tree index is allocating the most disk space, as Pinot materializes pre-aggregations for calculations on defined metric columns.\n",
    "\n",
    "XXX use DataFrame?"
   ]
  },
  {
   "cell_type": "code",
   "execution_count": 5,
   "id": "meaningful-semester",
   "metadata": {},
   "outputs": [
    {
     "name": "stdout",
     "output_type": "stream",
     "text": [
      "tableName: trips_default_index_REALTIME\n",
      "Index Description: Default Index (Dictionary-encoded forward index with bit compression) for each column\n",
      "reportedSizeInMB: 22.090063095092773\n",
      " \n",
      "tableName: trips_rawForwardIndex_REALTIME\n",
      "Index Description: Raw value forward index on start_location\n",
      "reportedSizeInMB: 24.462448120117188\n",
      " \n",
      "tableName: trips_sortedForwardIndex_REALTIME\n",
      "Index Description: Sorted forward index with run-length encoding on start location\n",
      "reportedSizeInMB: 20.088777542114258\n",
      " \n",
      "tableName: trips_bitmapInvertedIndex_startLocation_REALTIME\n",
      "Index Description: Bitmap inverted index on start_location\n",
      "reportedSizeInMB: 22.93588161468506\n",
      " \n",
      "tableName: trips_sortedInvertedIndex_startLocation_REALTIME\n",
      "Index Description: Sorted inverted index on start_location\n",
      "reportedSizeInMB: 20.08920669555664\n",
      " \n",
      "tableName: trips_starTreeIndex_REALTIME\n",
      "Index Description: Star Tree\n",
      "reportedSizeInMB: 39.382994651794434\n",
      " \n",
      "tableName: trips_textIndex_REALTIME\n",
      "Index Description: Text Index\n",
      "reportedSizeInMB: 36.18574619293213\n",
      " \n"
     ]
    }
   ],
   "source": [
    "for table in table_list:\n",
    "    url_getsize = 'http://pinot-controller.pinot:9000/tables/' + table[0] + '_REALTIME/size?detailed=false'\n",
    "    response = (requests.get(url_getsize)).json()\n",
    "    print('tableName: ' + response['tableName'])\n",
    "    print('Index Description: ' + table[1])\n",
    "    v_size=response['reportedSizeInBytes']/1024/1024\n",
    "    print('reportedSizeInMB: '+ str(v_size))\n",
    "    print(\" \")"
   ]
  },
  {
   "cell_type": "markdown",
   "id": "judicial-cleveland",
   "metadata": {},
   "source": [
    "## Index options in Apache Pinot\n",
    "\n",
    "Pinot uses the MYSQL_ANSI dialect. Executing Joins or nested Subqueries is not supported. \n",
    "For accessing multiple tables in queries, the query engine Presto is recommended. In this report, we will focus on the functionality Pinot offers.\n",
    "Pinot doesn't support data definition language. As already done, tables are created using the REST API.\n",
    "\n",
    "(XXX remove as already described earlier?)\n",
    "\n",
    "The function `executeSQLStatement` takes a query string and an array containing table names and index descriptions as input parameters. It executes the query on all tables which are defined in the array `table_list`. If `specific_tables_array` is empty, the query will be executed on all tables which have been created for this chapter. The top two records of the result data set are displayed once to get an insight into the result. Additionally, the function will create a `DataFrame` listing query execution statistics for each table. Metrics of one query execution will only be appended to the `DataFrame` if no exception occurs."
   ]
  },
  {
   "cell_type": "code",
   "execution_count": 8,
   "id": "printable-winter",
   "metadata": {},
   "outputs": [],
   "source": [
    "def executeSQLStatement(sql_statement_with_variable, specific_tables_array):\n",
    "    pd.set_option('display.max_colwidth', None)\n",
    "    df_metrics = pd.DataFrame(columns=['indextype','table', 'numDocsScanned',\n",
    "       'numEntriesScannedInFilter', 'numEntriesScannedPostFilter',\n",
    "       'totalDocs', 'timeUsedMs',\n",
    "       'minConsumingFreshnessTimeMs',\n",
    "       'exceptions'])\n",
    "    b_resultRecordsNotShown = True;\n",
    "    if not specific_tables_array:\n",
    "        table_list_statement = table_list\n",
    "    else:\n",
    "        table_list_statement = specific_tables_array \n",
    "    for table in table_list_statement:\n",
    "    \n",
    "        sql_statement = sql_statement_with_variable.replace(\"XX_TABLE\",table[0])\n",
    "        sql_statement = sql_statement.replace(\"XX_STARTLOCATION\",\"'\"+startLocation+\"'\")\n",
    "        sql_statement = sql_statement.replace(\"XX_DRIVERNAME\",\"'\"+driverName+\"'\") \n",
    "        response = requests.post('http://pinot-broker.pinot:8099/query/sql', json={\n",
    "            \"sql\" : sql_statement\n",
    "        })\n",
    "        response_json=response.json()\n",
    "        d = {'indextype': table[1], 'table': table[0],'numDocsScanned': [response_json['numDocsScanned']],'numDocsScanned': [response_json['numDocsScanned']],'numEntriesScannedInFilter': [response_json['numEntriesScannedInFilter']], 'numEntriesScannedPostFilter':[response_json['numEntriesScannedPostFilter']],'totalDocs':[response_json['totalDocs']],'timeUsedMs':[response_json['timeUsedMs']],'minConsumingFreshnessTimeMs':[response_json['minConsumingFreshnessTimeMs']],'exceptions':[response_json['exceptions']]}\n",
    "        df_metrics_new = pd.DataFrame(data=d)\n",
    "        if not response_json['exceptions']:\n",
    "             df_metrics = df_metrics.append(df_metrics_new,ignore_index=True)\n",
    "       \n",
    "\n",
    "        if b_resultRecordsNotShown:\n",
    "            try:\n",
    "                if not response_json['exceptions']:\n",
    "                    columnNames = response_json['resultTable']['dataSchema']['columnNames']\n",
    "                    rows = response_json['resultTable']['rows']\n",
    "\n",
    "                    result_dataframe = pd.DataFrame(columns=columnNames,data=rows)\n",
    "                    print(\"Top two result records of: \" + sql_statement )\n",
    "                    display(result_dataframe.head(2))\n",
    "                    b_resultRecordsNotShown = False\n",
    "            except:\n",
    "                pass\n",
    "\n",
    "    print(\"Metrics of execution of: \" + sql_statement_with_variable)\n",
    "    display(df_metrics)"
   ]
  },
  {
   "cell_type": "markdown",
   "id": "difficult-individual",
   "metadata": {},
   "source": [
    "### Metrics\n",
    "\n",
    "The main metrics of a query execution we will check are:\n",
    "- __timeUsedMs__: Total time between broker receiving the query request request and sending the response back to the client.\n",
    "- __numDocScanned__: Number of documents/records scanned while query processing. (Includes records scanned in the filter phase as well as after applying the filter.)\n",
    "- __numEntriesScannedInFilter__: It is an indicator of the latency contributed by the lookup phase. If this number is high, applying an index on the selection criteria might improve performance, especially if the selection criteria is highly selective.\n",
    "- __numEntriesScannedPostFilter__: High number is an indicator for low selectivity. Instead of regular indices, a star-tree index could help."
   ]
  },
  {
   "cell_type": "markdown",
   "id": "lesbian-visitor",
   "metadata": {},
   "source": [
    "### Index Types\n",
    "\n",
    "For the tables create above, we configured the following index types:\n",
    "\n",
    "- Forward Index\n",
    "    - __Default Index: Dictionary-encoded forward index with bit compression__: \n",
    "    Apache Pinot will use this index by default for each column if no other index is configured in the table configuration. An id is assigned to each distinct value of the column, afterwards a dictionary is built matching an id to the value. In the forward index, only the bit-compressed id is persisted instead of the values. This compression improves space efficiency of the storage, if there are only a few distinct values.\n",
    "    \n",
    "    XXX replace image\n",
    "    <img src=\"images/RawValueForwardIndex.png\" width=\"30%\" height=\"30%\">\n",
    "\n",
    "    \n",
    "    - __Raw Value Forward Index__: A raw value forward index is configured as a `noDictionaryColumn` in the table configuration. Instead of dictionary ids, the raw values will be stored in columns. Because of that, no dictionary lookup is required and due to the locality of values the performance of scanning large number of values is improved. \n",
    "    - __Sorted forward index with run-length encoding__: The sorted forward index is applied on top of the dictionary-encoding. For each dictionary id, a start and end document id is stored. Only one sorted column can be configured per table.\n",
    "   \n",
    "- Inverted Index: Inverted Indexes reduce the number of records which need be processed by identifying the ones which contain the search term. The inverted index is created by selecting all distinct values of a given column. For each value, a list of document ids which contain the value will be stored. If we search e.g. for \"Hessen\" as a state, we can look up the inverted index for \"Hessen\" and identify the documents in which that value appears. \n",
    "    - __Bitmap inverted index__: A map from each value to a bitmap is maintained for the column which is enabled as bitmap inverted index (e.g. \"Thüringen\" -> `Doc5, Doc1`). If a column is used frequently for filtering, an inverted index will improve the performance. \n",
    "    - __Sorted inverted index__: A sorted index can benefit from data locality, but can only be applied to one column.\n",
    "    \n",
    "- __Star-Tree Index__: This index is built on multiple columns and pre-aggregates results per configured dimension hierarchy level, so that less values need to be processed. This can significantly improve query performance for hierarchical data (e.g. groups of users, workspaces, or states of locations in the `trips` example), on the other hand pre-aggregation requires also more disk space (table size can easily grow about twice of the size as the other tables).\n",
    "- __Text Index__: Text Indexes in Pinot allow to do aribtrary search on `STRING` columns (full text search)."
   ]
  },
  {
   "cell_type": "markdown",
   "id": "monthly-saskatchewan",
   "metadata": {},
   "source": [
    "#### Default Index (Dictionary-encoded forward index with bit compression) vs Raw value forward index"
   ]
  },
  {
   "cell_type": "code",
   "execution_count": 19,
   "id": "generous-incidence",
   "metadata": {
    "tags": []
   },
   "outputs": [
    {
     "name": "stdout",
     "output_type": "stream",
     "text": [
      "Top two result records of: select count, driver_name, driver_rating, end_location, end_location_state from trips_default_index WHERE start_location='Pforzheim' LIMIT 10000\n"
     ]
    },
    {
     "data": {
      "text/html": [
       "<div>\n",
       "<style scoped>\n",
       "    .dataframe tbody tr th:only-of-type {\n",
       "        vertical-align: middle;\n",
       "    }\n",
       "\n",
       "    .dataframe tbody tr th {\n",
       "        vertical-align: top;\n",
       "    }\n",
       "\n",
       "    .dataframe thead th {\n",
       "        text-align: right;\n",
       "    }\n",
       "</style>\n",
       "<table border=\"1\" class=\"dataframe\">\n",
       "  <thead>\n",
       "    <tr style=\"text-align: right;\">\n",
       "      <th></th>\n",
       "      <th>count</th>\n",
       "      <th>driver_name</th>\n",
       "      <th>driver_rating</th>\n",
       "      <th>end_location</th>\n",
       "      <th>end_location_state</th>\n",
       "    </tr>\n",
       "  </thead>\n",
       "  <tbody>\n",
       "    <tr>\n",
       "      <th>0</th>\n",
       "      <td>1</td>\n",
       "      <td>Ellen Mars</td>\n",
       "      <td>0</td>\n",
       "      <td>Lauben</td>\n",
       "      <td>Bayern</td>\n",
       "    </tr>\n",
       "    <tr>\n",
       "      <th>1</th>\n",
       "      <td>1</td>\n",
       "      <td>Ronnie Renwick</td>\n",
       "      <td>5</td>\n",
       "      <td>Vitzenburg</td>\n",
       "      <td>Sachsen-Anhalt</td>\n",
       "    </tr>\n",
       "  </tbody>\n",
       "</table>\n",
       "</div>"
      ],
      "text/plain": [
       "   count     driver_name  driver_rating end_location end_location_state\n",
       "0      1      Ellen Mars              0       Lauben             Bayern\n",
       "1      1  Ronnie Renwick              5   Vitzenburg     Sachsen-Anhalt"
      ]
     },
     "metadata": {},
     "output_type": "display_data"
    },
    {
     "name": "stdout",
     "output_type": "stream",
     "text": [
      "Metrics of execution of: select count, driver_name, driver_rating, end_location, end_location_state from XX_TABLE WHERE start_location=XX_STARTLOCATION LIMIT 10000\n"
     ]
    },
    {
     "data": {
      "text/html": [
       "<div>\n",
       "<style scoped>\n",
       "    .dataframe tbody tr th:only-of-type {\n",
       "        vertical-align: middle;\n",
       "    }\n",
       "\n",
       "    .dataframe tbody tr th {\n",
       "        vertical-align: top;\n",
       "    }\n",
       "\n",
       "    .dataframe thead th {\n",
       "        text-align: right;\n",
       "    }\n",
       "</style>\n",
       "<table border=\"1\" class=\"dataframe\">\n",
       "  <thead>\n",
       "    <tr style=\"text-align: right;\">\n",
       "      <th></th>\n",
       "      <th>indextype</th>\n",
       "      <th>table</th>\n",
       "      <th>numDocsScanned</th>\n",
       "      <th>numEntriesScannedInFilter</th>\n",
       "      <th>numEntriesScannedPostFilter</th>\n",
       "      <th>totalDocs</th>\n",
       "      <th>timeUsedMs</th>\n",
       "      <th>minConsumingFreshnessTimeMs</th>\n",
       "      <th>exceptions</th>\n",
       "    </tr>\n",
       "  </thead>\n",
       "  <tbody>\n",
       "    <tr>\n",
       "      <th>0</th>\n",
       "      <td>Default Index (Dictionary-encoded forward index with bit compression) for each column</td>\n",
       "      <td>trips_default_index</td>\n",
       "      <td>310</td>\n",
       "      <td>315170</td>\n",
       "      <td>1550</td>\n",
       "      <td>315170</td>\n",
       "      <td>17</td>\n",
       "      <td>1618138752061</td>\n",
       "      <td>[]</td>\n",
       "    </tr>\n",
       "    <tr>\n",
       "      <th>1</th>\n",
       "      <td>Raw value forward index on start_location</td>\n",
       "      <td>trips_rawForwardIndex</td>\n",
       "      <td>310</td>\n",
       "      <td>315170</td>\n",
       "      <td>1550</td>\n",
       "      <td>315170</td>\n",
       "      <td>57</td>\n",
       "      <td>1618138750380</td>\n",
       "      <td>[]</td>\n",
       "    </tr>\n",
       "  </tbody>\n",
       "</table>\n",
       "</div>"
      ],
      "text/plain": [
       "                                                                               indextype  \\\n",
       "0  Default Index (Dictionary-encoded forward index with bit compression) for each column   \n",
       "1                                              Raw value forward index on start_location   \n",
       "\n",
       "                   table numDocsScanned numEntriesScannedInFilter  \\\n",
       "0    trips_default_index            310                    315170   \n",
       "1  trips_rawForwardIndex            310                    315170   \n",
       "\n",
       "  numEntriesScannedPostFilter totalDocs timeUsedMs  \\\n",
       "0                        1550    315170         17   \n",
       "1                        1550    315170         57   \n",
       "\n",
       "  minConsumingFreshnessTimeMs exceptions  \n",
       "0               1618138752061         []  \n",
       "1               1618138750380         []  "
      ]
     },
     "metadata": {},
     "output_type": "display_data"
    }
   ],
   "source": [
    "executeSQLStatement(\"select count, driver_name, driver_rating, end_location, end_location_state from XX_TABLE WHERE start_location=XX_STARTLOCATION LIMIT 10000\",[['trips_default_index', 'Default Index (Dictionary-encoded forward index with bit compression) for each column'],['trips_rawForwardIndex', 'Raw value forward index on start_location']])"
   ]
  },
  {
   "cell_type": "markdown",
   "id": "impaired-cable",
   "metadata": {},
   "source": [
    "The query execution on table `trips_rawForwardIndex` takes more time. The main difference between the two index types is, that the index on column `start_location` of `trips_default_index` creates a dictionary. This dictionary provides compression when values of the columns occurr repeatedly. \n",
    "A dictionary index can't provide this advantage over the other index, if the column values have a high cardinality."
   ]
  },
  {
   "cell_type": "markdown",
   "id": "injured-leave",
   "metadata": {},
   "source": [
    "#### Default Index (Dictionary-encoded forward index with bit compression) vs Sorted forward index with run-length encoding"
   ]
  },
  {
   "cell_type": "code",
   "execution_count": 27,
   "id": "internal-bahamas",
   "metadata": {},
   "outputs": [
    {
     "name": "stdout",
     "output_type": "stream",
     "text": [
      "Top two result records of: select * from trips_default_index WHERE start_location='Pforzheim' LIMIT 10000\n"
     ]
    },
    {
     "data": {
      "text/html": [
       "<div>\n",
       "<style scoped>\n",
       "    .dataframe tbody tr th:only-of-type {\n",
       "        vertical-align: middle;\n",
       "    }\n",
       "\n",
       "    .dataframe tbody tr th {\n",
       "        vertical-align: top;\n",
       "    }\n",
       "\n",
       "    .dataframe thead th {\n",
       "        text-align: right;\n",
       "    }\n",
       "</style>\n",
       "<table border=\"1\" class=\"dataframe\">\n",
       "  <thead>\n",
       "    <tr style=\"text-align: right;\">\n",
       "      <th></th>\n",
       "      <th>count</th>\n",
       "      <th>driver_name</th>\n",
       "      <th>driver_rating</th>\n",
       "      <th>end_location</th>\n",
       "      <th>end_location_state</th>\n",
       "      <th>end_zip_code</th>\n",
       "      <th>license_plate</th>\n",
       "      <th>payment_amount</th>\n",
       "      <th>payment_tip_amount</th>\n",
       "      <th>request_time_millis</th>\n",
       "      <th>rider_is_premium</th>\n",
       "      <th>rider_name</th>\n",
       "      <th>rider_rating</th>\n",
       "      <th>start_location</th>\n",
       "      <th>start_location_state</th>\n",
       "      <th>start_zip_code</th>\n",
       "      <th>trip_end_time_millis</th>\n",
       "      <th>trip_start_time_millis</th>\n",
       "      <th>trip_wait_time_millis</th>\n",
       "    </tr>\n",
       "  </thead>\n",
       "  <tbody>\n",
       "    <tr>\n",
       "      <th>0</th>\n",
       "      <td>1</td>\n",
       "      <td>Ellen Mars</td>\n",
       "      <td>0</td>\n",
       "      <td>Lauben</td>\n",
       "      <td>Bayern</td>\n",
       "      <td>87761</td>\n",
       "      <td>KL-KT-11</td>\n",
       "      <td>282.90</td>\n",
       "      <td>17.0</td>\n",
       "      <td>1618049533984</td>\n",
       "      <td>0</td>\n",
       "      <td>Carolyn Merritt</td>\n",
       "      <td>4</td>\n",
       "      <td>Pforzheim</td>\n",
       "      <td>Baden-Württemberg</td>\n",
       "      <td>75172</td>\n",
       "      <td>1618069278992</td>\n",
       "      <td>1618050878992</td>\n",
       "      <td>1345008</td>\n",
       "    </tr>\n",
       "    <tr>\n",
       "      <th>1</th>\n",
       "      <td>1</td>\n",
       "      <td>Ronnie Renwick</td>\n",
       "      <td>5</td>\n",
       "      <td>Vitzenburg</td>\n",
       "      <td>Sachsen-Anhalt</td>\n",
       "      <td>06268</td>\n",
       "      <td>YA-QE-61</td>\n",
       "      <td>123.22</td>\n",
       "      <td>19.0</td>\n",
       "      <td>1618050353979</td>\n",
       "      <td>0</td>\n",
       "      <td>Andrea Patterson</td>\n",
       "      <td>4</td>\n",
       "      <td>Pforzheim</td>\n",
       "      <td>Baden-Württemberg</td>\n",
       "      <td>75172</td>\n",
       "      <td>1618060313830</td>\n",
       "      <td>1618051350565</td>\n",
       "      <td>996586</td>\n",
       "    </tr>\n",
       "  </tbody>\n",
       "</table>\n",
       "</div>"
      ],
      "text/plain": [
       "   count     driver_name  driver_rating end_location end_location_state  \\\n",
       "0      1      Ellen Mars              0       Lauben             Bayern   \n",
       "1      1  Ronnie Renwick              5   Vitzenburg     Sachsen-Anhalt   \n",
       "\n",
       "  end_zip_code license_plate  payment_amount  payment_tip_amount  \\\n",
       "0        87761      KL-KT-11          282.90                17.0   \n",
       "1        06268      YA-QE-61          123.22                19.0   \n",
       "\n",
       "   request_time_millis  rider_is_premium        rider_name  rider_rating  \\\n",
       "0        1618049533984                 0   Carolyn Merritt             4   \n",
       "1        1618050353979                 0  Andrea Patterson             4   \n",
       "\n",
       "  start_location start_location_state start_zip_code  trip_end_time_millis  \\\n",
       "0      Pforzheim    Baden-Württemberg          75172         1618069278992   \n",
       "1      Pforzheim    Baden-Württemberg          75172         1618060313830   \n",
       "\n",
       "   trip_start_time_millis  trip_wait_time_millis  \n",
       "0           1618050878992                1345008  \n",
       "1           1618051350565                 996586  "
      ]
     },
     "metadata": {},
     "output_type": "display_data"
    },
    {
     "name": "stdout",
     "output_type": "stream",
     "text": [
      "Metrics of execution of: select * from XX_TABLE WHERE start_location=XX_STARTLOCATION LIMIT 10000\n"
     ]
    },
    {
     "data": {
      "text/html": [
       "<div>\n",
       "<style scoped>\n",
       "    .dataframe tbody tr th:only-of-type {\n",
       "        vertical-align: middle;\n",
       "    }\n",
       "\n",
       "    .dataframe tbody tr th {\n",
       "        vertical-align: top;\n",
       "    }\n",
       "\n",
       "    .dataframe thead th {\n",
       "        text-align: right;\n",
       "    }\n",
       "</style>\n",
       "<table border=\"1\" class=\"dataframe\">\n",
       "  <thead>\n",
       "    <tr style=\"text-align: right;\">\n",
       "      <th></th>\n",
       "      <th>indextype</th>\n",
       "      <th>table</th>\n",
       "      <th>numDocsScanned</th>\n",
       "      <th>numEntriesScannedInFilter</th>\n",
       "      <th>numEntriesScannedPostFilter</th>\n",
       "      <th>totalDocs</th>\n",
       "      <th>timeUsedMs</th>\n",
       "      <th>minConsumingFreshnessTimeMs</th>\n",
       "      <th>exceptions</th>\n",
       "    </tr>\n",
       "  </thead>\n",
       "  <tbody>\n",
       "    <tr>\n",
       "      <th>0</th>\n",
       "      <td>Default Index (Dictionary-encoded forward index with bit compression) for each column</td>\n",
       "      <td>trips_default_index</td>\n",
       "      <td>310</td>\n",
       "      <td>315170</td>\n",
       "      <td>5890</td>\n",
       "      <td>315170</td>\n",
       "      <td>20</td>\n",
       "      <td>1618138752061</td>\n",
       "      <td>[]</td>\n",
       "    </tr>\n",
       "    <tr>\n",
       "      <th>1</th>\n",
       "      <td>Sorted forward index with run-length encoding on start location</td>\n",
       "      <td>trips_sortedForwardIndex</td>\n",
       "      <td>310</td>\n",
       "      <td>0</td>\n",
       "      <td>5890</td>\n",
       "      <td>315170</td>\n",
       "      <td>16</td>\n",
       "      <td>1618138746535</td>\n",
       "      <td>[]</td>\n",
       "    </tr>\n",
       "  </tbody>\n",
       "</table>\n",
       "</div>"
      ],
      "text/plain": [
       "                                                                               indextype  \\\n",
       "0  Default Index (Dictionary-encoded forward index with bit compression) for each column   \n",
       "1                        Sorted forward index with run-length encoding on start location   \n",
       "\n",
       "                      table numDocsScanned numEntriesScannedInFilter  \\\n",
       "0       trips_default_index            310                    315170   \n",
       "1  trips_sortedForwardIndex            310                         0   \n",
       "\n",
       "  numEntriesScannedPostFilter totalDocs timeUsedMs  \\\n",
       "0                        5890    315170         20   \n",
       "1                        5890    315170         16   \n",
       "\n",
       "  minConsumingFreshnessTimeMs exceptions  \n",
       "0               1618138752061         []  \n",
       "1               1618138746535         []  "
      ]
     },
     "metadata": {},
     "output_type": "display_data"
    }
   ],
   "source": [
    "executeSQLStatement(\"select * from XX_TABLE WHERE start_location=XX_STARTLOCATION LIMIT 10000\", [['trips_default_index', 'Default Index (Dictionary-encoded forward index with bit compression) for each column'],['trips_sortedForwardIndex', 'Sorted forward index with run-length encoding on start location']])"
   ]
  },
  {
   "cell_type": "markdown",
   "id": "impossible-combat",
   "metadata": {},
   "source": [
    "The sorted forward index on column `start_location` of table `trips_sortedForwardIndex` benefits from data locality. Because of this, `numEntriesScannedInFilter` is less than for the column with default index.\n",
    "Thus, query executions can be faster when using the sorted forward index on column `start_location`."
   ]
  },
  {
   "cell_type": "markdown",
   "id": "computational-tokyo",
   "metadata": {},
   "source": [
    "#### Default Index (Dictionary-encoded forward index with bit compression) vs Inverted index (Bitmap + Sorted)"
   ]
  },
  {
   "cell_type": "code",
   "execution_count": 28,
   "id": "innocent-boulder",
   "metadata": {},
   "outputs": [
    {
     "name": "stdout",
     "output_type": "stream",
     "text": [
      "Top two result records of: select driver_name, rider_name from trips_default_index WHERE start_location='Pforzheim' LIMIT 10000\n"
     ]
    },
    {
     "data": {
      "text/html": [
       "<div>\n",
       "<style scoped>\n",
       "    .dataframe tbody tr th:only-of-type {\n",
       "        vertical-align: middle;\n",
       "    }\n",
       "\n",
       "    .dataframe tbody tr th {\n",
       "        vertical-align: top;\n",
       "    }\n",
       "\n",
       "    .dataframe thead th {\n",
       "        text-align: right;\n",
       "    }\n",
       "</style>\n",
       "<table border=\"1\" class=\"dataframe\">\n",
       "  <thead>\n",
       "    <tr style=\"text-align: right;\">\n",
       "      <th></th>\n",
       "      <th>driver_name</th>\n",
       "      <th>rider_name</th>\n",
       "    </tr>\n",
       "  </thead>\n",
       "  <tbody>\n",
       "    <tr>\n",
       "      <th>0</th>\n",
       "      <td>Ellen Mars</td>\n",
       "      <td>Carolyn Merritt</td>\n",
       "    </tr>\n",
       "    <tr>\n",
       "      <th>1</th>\n",
       "      <td>Ronnie Renwick</td>\n",
       "      <td>Andrea Patterson</td>\n",
       "    </tr>\n",
       "  </tbody>\n",
       "</table>\n",
       "</div>"
      ],
      "text/plain": [
       "      driver_name        rider_name\n",
       "0      Ellen Mars   Carolyn Merritt\n",
       "1  Ronnie Renwick  Andrea Patterson"
      ]
     },
     "metadata": {},
     "output_type": "display_data"
    },
    {
     "name": "stdout",
     "output_type": "stream",
     "text": [
      "Metrics of execution of: select driver_name, rider_name from XX_TABLE WHERE start_location=XX_STARTLOCATION LIMIT 10000\n"
     ]
    },
    {
     "data": {
      "text/html": [
       "<div>\n",
       "<style scoped>\n",
       "    .dataframe tbody tr th:only-of-type {\n",
       "        vertical-align: middle;\n",
       "    }\n",
       "\n",
       "    .dataframe tbody tr th {\n",
       "        vertical-align: top;\n",
       "    }\n",
       "\n",
       "    .dataframe thead th {\n",
       "        text-align: right;\n",
       "    }\n",
       "</style>\n",
       "<table border=\"1\" class=\"dataframe\">\n",
       "  <thead>\n",
       "    <tr style=\"text-align: right;\">\n",
       "      <th></th>\n",
       "      <th>indextype</th>\n",
       "      <th>table</th>\n",
       "      <th>numDocsScanned</th>\n",
       "      <th>numEntriesScannedInFilter</th>\n",
       "      <th>numEntriesScannedPostFilter</th>\n",
       "      <th>totalDocs</th>\n",
       "      <th>timeUsedMs</th>\n",
       "      <th>minConsumingFreshnessTimeMs</th>\n",
       "      <th>exceptions</th>\n",
       "    </tr>\n",
       "  </thead>\n",
       "  <tbody>\n",
       "    <tr>\n",
       "      <th>0</th>\n",
       "      <td>Default Index (Dictionary-encoded forward index with bit compression) for each column</td>\n",
       "      <td>trips_default_index</td>\n",
       "      <td>310</td>\n",
       "      <td>315170</td>\n",
       "      <td>620</td>\n",
       "      <td>315170</td>\n",
       "      <td>31</td>\n",
       "      <td>1618138752061</td>\n",
       "      <td>[]</td>\n",
       "    </tr>\n",
       "    <tr>\n",
       "      <th>1</th>\n",
       "      <td>Bitmap inverted index on start_location</td>\n",
       "      <td>trips_bitmapInvertedIndex_startLocation</td>\n",
       "      <td>310</td>\n",
       "      <td>0</td>\n",
       "      <td>620</td>\n",
       "      <td>315170</td>\n",
       "      <td>5</td>\n",
       "      <td>1618138752594</td>\n",
       "      <td>[]</td>\n",
       "    </tr>\n",
       "    <tr>\n",
       "      <th>2</th>\n",
       "      <td>Sorted inverted index on start_location</td>\n",
       "      <td>trips_sortedInvertedIndex_startLocation</td>\n",
       "      <td>310</td>\n",
       "      <td>0</td>\n",
       "      <td>620</td>\n",
       "      <td>315170</td>\n",
       "      <td>13</td>\n",
       "      <td>1618138744079</td>\n",
       "      <td>[]</td>\n",
       "    </tr>\n",
       "  </tbody>\n",
       "</table>\n",
       "</div>"
      ],
      "text/plain": [
       "                                                                               indextype  \\\n",
       "0  Default Index (Dictionary-encoded forward index with bit compression) for each column   \n",
       "1                                                Bitmap inverted index on start_location   \n",
       "2                                                Sorted inverted index on start_location   \n",
       "\n",
       "                                     table numDocsScanned  \\\n",
       "0                      trips_default_index            310   \n",
       "1  trips_bitmapInvertedIndex_startLocation            310   \n",
       "2  trips_sortedInvertedIndex_startLocation            310   \n",
       "\n",
       "  numEntriesScannedInFilter numEntriesScannedPostFilter totalDocs timeUsedMs  \\\n",
       "0                    315170                         620    315170         31   \n",
       "1                         0                         620    315170          5   \n",
       "2                         0                         620    315170         13   \n",
       "\n",
       "  minConsumingFreshnessTimeMs exceptions  \n",
       "0               1618138752061         []  \n",
       "1               1618138752594         []  \n",
       "2               1618138744079         []  "
      ]
     },
     "metadata": {},
     "output_type": "display_data"
    }
   ],
   "source": [
    "executeSQLStatement(\"select driver_name, rider_name from XX_TABLE WHERE start_location=XX_STARTLOCATION LIMIT 10000\", [['trips_default_index', 'Default Index (Dictionary-encoded forward index with bit compression) for each column'],['trips_bitmapInvertedIndex_startLocation', 'Bitmap inverted index on start_location'],['trips_sortedInvertedIndex_startLocation','Sorted inverted index on start_location']])"
   ]
  },
  {
   "cell_type": "markdown",
   "id": "gentle-walker",
   "metadata": {},
   "source": [
    "As we can see, an inverted index can improve the query performance. In this case, no entries have to be scanned in the filtering phase and the query execution time is faster compared to using the dictionary encoded index.\n",
    "By using the sorted inverted index, the performance can benefit from data locality. "
   ]
  },
  {
   "cell_type": "markdown",
   "id": "committed-enclosure",
   "metadata": {},
   "source": [
    "#### Text Index"
   ]
  },
  {
   "cell_type": "markdown",
   "id": "unknown-indie",
   "metadata": {},
   "source": [
    "A query searching selecting drivers by first name can only be executed successfully on table `trips_textIndex`, as it has a text index defined on column `driver_name`. The same query execution on other tables will fail, the metrics table only displays the executions without an exception."
   ]
  },
  {
   "cell_type": "code",
   "execution_count": 30,
   "id": "impressive-replacement",
   "metadata": {},
   "outputs": [
    {
     "name": "stdout",
     "output_type": "stream",
     "text": [
      "Top two result records of: select * from trips_textIndex WHERE TEXT_MATCH ('driver_name','Ellen') LIMIT 10000\n"
     ]
    },
    {
     "data": {
      "text/html": [
       "<div>\n",
       "<style scoped>\n",
       "    .dataframe tbody tr th:only-of-type {\n",
       "        vertical-align: middle;\n",
       "    }\n",
       "\n",
       "    .dataframe tbody tr th {\n",
       "        vertical-align: top;\n",
       "    }\n",
       "\n",
       "    .dataframe thead th {\n",
       "        text-align: right;\n",
       "    }\n",
       "</style>\n",
       "<table border=\"1\" class=\"dataframe\">\n",
       "  <thead>\n",
       "    <tr style=\"text-align: right;\">\n",
       "      <th></th>\n",
       "      <th>count</th>\n",
       "      <th>driver_name</th>\n",
       "      <th>driver_rating</th>\n",
       "      <th>end_location</th>\n",
       "      <th>end_location_state</th>\n",
       "      <th>end_zip_code</th>\n",
       "      <th>license_plate</th>\n",
       "      <th>payment_amount</th>\n",
       "      <th>payment_tip_amount</th>\n",
       "      <th>request_time_millis</th>\n",
       "      <th>rider_is_premium</th>\n",
       "      <th>rider_name</th>\n",
       "      <th>rider_rating</th>\n",
       "      <th>start_location</th>\n",
       "      <th>start_location_state</th>\n",
       "      <th>start_zip_code</th>\n",
       "      <th>trip_end_time_millis</th>\n",
       "      <th>trip_start_time_millis</th>\n",
       "      <th>trip_wait_time_millis</th>\n",
       "    </tr>\n",
       "  </thead>\n",
       "  <tbody>\n",
       "    <tr>\n",
       "      <th>0</th>\n",
       "      <td>1</td>\n",
       "      <td>Ellen Mcdaniels</td>\n",
       "      <td>4</td>\n",
       "      <td>Saffig</td>\n",
       "      <td>Rheinland-Pfalz</td>\n",
       "      <td>56648</td>\n",
       "      <td>AG-SM-55</td>\n",
       "      <td>392.80</td>\n",
       "      <td>5.0</td>\n",
       "      <td>1618330000991</td>\n",
       "      <td>0</td>\n",
       "      <td>Michelle Zymowski</td>\n",
       "      <td>1</td>\n",
       "      <td>Wertach</td>\n",
       "      <td>Bayern</td>\n",
       "      <td>87497</td>\n",
       "      <td>1618361499662</td>\n",
       "      <td>1618330489136</td>\n",
       "      <td>488145</td>\n",
       "    </tr>\n",
       "    <tr>\n",
       "      <th>1</th>\n",
       "      <td>1</td>\n",
       "      <td>Ellen Mars</td>\n",
       "      <td>5</td>\n",
       "      <td>Negernbötel</td>\n",
       "      <td>Schleswig-Holstein</td>\n",
       "      <td>23795</td>\n",
       "      <td>GJ-HE-79</td>\n",
       "      <td>26.24</td>\n",
       "      <td>24.0</td>\n",
       "      <td>1618330026999</td>\n",
       "      <td>0</td>\n",
       "      <td>Maurice Schultz</td>\n",
       "      <td>2</td>\n",
       "      <td>Hagen</td>\n",
       "      <td>Nordrhein-Westfalen</td>\n",
       "      <td>58135</td>\n",
       "      <td>1618333671378</td>\n",
       "      <td>1618331412554</td>\n",
       "      <td>1385555</td>\n",
       "    </tr>\n",
       "  </tbody>\n",
       "</table>\n",
       "</div>"
      ],
      "text/plain": [
       "   count      driver_name  driver_rating end_location  end_location_state  \\\n",
       "0      1  Ellen Mcdaniels              4       Saffig     Rheinland-Pfalz   \n",
       "1      1       Ellen Mars              5  Negernbötel  Schleswig-Holstein   \n",
       "\n",
       "  end_zip_code license_plate  payment_amount  payment_tip_amount  \\\n",
       "0        56648      AG-SM-55          392.80                 5.0   \n",
       "1        23795      GJ-HE-79           26.24                24.0   \n",
       "\n",
       "   request_time_millis  rider_is_premium         rider_name  rider_rating  \\\n",
       "0        1618330000991                 0  Michelle Zymowski             1   \n",
       "1        1618330026999                 0    Maurice Schultz             2   \n",
       "\n",
       "  start_location start_location_state start_zip_code  trip_end_time_millis  \\\n",
       "0        Wertach               Bayern          87497         1618361499662   \n",
       "1          Hagen  Nordrhein-Westfalen          58135         1618333671378   \n",
       "\n",
       "   trip_start_time_millis  trip_wait_time_millis  \n",
       "0           1618330489136                 488145  \n",
       "1           1618331412554                1385555  "
      ]
     },
     "metadata": {},
     "output_type": "display_data"
    },
    {
     "name": "stdout",
     "output_type": "stream",
     "text": [
      "Metrics of execution of: select * from XX_TABLE WHERE TEXT_MATCH ('driver_name',XX_DRIVERNAME) LIMIT 10000\n"
     ]
    },
    {
     "data": {
      "text/html": [
       "<div>\n",
       "<style scoped>\n",
       "    .dataframe tbody tr th:only-of-type {\n",
       "        vertical-align: middle;\n",
       "    }\n",
       "\n",
       "    .dataframe tbody tr th {\n",
       "        vertical-align: top;\n",
       "    }\n",
       "\n",
       "    .dataframe thead th {\n",
       "        text-align: right;\n",
       "    }\n",
       "</style>\n",
       "<table border=\"1\" class=\"dataframe\">\n",
       "  <thead>\n",
       "    <tr style=\"text-align: right;\">\n",
       "      <th></th>\n",
       "      <th>indextype</th>\n",
       "      <th>table</th>\n",
       "      <th>numDocsScanned</th>\n",
       "      <th>numEntriesScannedInFilter</th>\n",
       "      <th>numEntriesScannedPostFilter</th>\n",
       "      <th>totalDocs</th>\n",
       "      <th>timeUsedMs</th>\n",
       "      <th>minConsumingFreshnessTimeMs</th>\n",
       "      <th>exceptions</th>\n",
       "    </tr>\n",
       "  </thead>\n",
       "  <tbody>\n",
       "    <tr>\n",
       "      <th>0</th>\n",
       "      <td>Text Index</td>\n",
       "      <td>trips_textIndex</td>\n",
       "      <td>905</td>\n",
       "      <td>0</td>\n",
       "      <td>17195</td>\n",
       "      <td>315170</td>\n",
       "      <td>32</td>\n",
       "      <td>1618138758025</td>\n",
       "      <td>[]</td>\n",
       "    </tr>\n",
       "  </tbody>\n",
       "</table>\n",
       "</div>"
      ],
      "text/plain": [
       "    indextype            table numDocsScanned numEntriesScannedInFilter  \\\n",
       "0  Text Index  trips_textIndex            905                         0   \n",
       "\n",
       "  numEntriesScannedPostFilter totalDocs timeUsedMs  \\\n",
       "0                       17195    315170         32   \n",
       "\n",
       "  minConsumingFreshnessTimeMs exceptions  \n",
       "0               1618138758025         []  "
      ]
     },
     "metadata": {},
     "output_type": "display_data"
    }
   ],
   "source": [
    "executeSQLStatement(\"select * from XX_TABLE WHERE TEXT_MATCH ('driver_name',XX_DRIVERNAME) LIMIT 10000\", [['trips_textIndex','Text Index']])"
   ]
  },
  {
   "cell_type": "markdown",
   "id": "desirable-sauce",
   "metadata": {},
   "source": [
    "#### Star-Tree Index\n",
    "\n",
    "The Start-Tree index utilizes pre-aggregation of results and is built on multiple columns. This index can improve the performance for specific queries, because the number of values to be processed is reduced by the pre-aggregation. Although usage of a Star-Tree index has the advantage of decreased query runtime, the table size on disk is significantly increased.\n",
    "For table `trips_starTreeIndex`, a Star-Tree index is built on the dimensions `rider_is_premium`, `start_location_state` and `end_location`. The sum of `payment_amount` is pre-aggregated and materialized based on the configured dimensions."
   ]
  },
  {
   "cell_type": "code",
   "execution_count": 31,
   "id": "thermal-valentine",
   "metadata": {},
   "outputs": [
    {
     "name": "stdout",
     "output_type": "stream",
     "text": [
      "Top two result records of: SELECT SUM(payment_amount) FROM trips_default_index\n"
     ]
    },
    {
     "data": {
      "text/html": [
       "<div>\n",
       "<style scoped>\n",
       "    .dataframe tbody tr th:only-of-type {\n",
       "        vertical-align: middle;\n",
       "    }\n",
       "\n",
       "    .dataframe tbody tr th {\n",
       "        vertical-align: top;\n",
       "    }\n",
       "\n",
       "    .dataframe thead th {\n",
       "        text-align: right;\n",
       "    }\n",
       "</style>\n",
       "<table border=\"1\" class=\"dataframe\">\n",
       "  <thead>\n",
       "    <tr style=\"text-align: right;\">\n",
       "      <th></th>\n",
       "      <th>sum(payment_amount)</th>\n",
       "    </tr>\n",
       "  </thead>\n",
       "  <tbody>\n",
       "    <tr>\n",
       "      <th>0</th>\n",
       "      <td>2.216951e+08</td>\n",
       "    </tr>\n",
       "  </tbody>\n",
       "</table>\n",
       "</div>"
      ],
      "text/plain": [
       "   sum(payment_amount)\n",
       "0         2.216951e+08"
      ]
     },
     "metadata": {},
     "output_type": "display_data"
    },
    {
     "name": "stdout",
     "output_type": "stream",
     "text": [
      "Metrics of execution of: SELECT SUM(payment_amount) FROM XX_TABLE\n"
     ]
    },
    {
     "data": {
      "text/html": [
       "<div>\n",
       "<style scoped>\n",
       "    .dataframe tbody tr th:only-of-type {\n",
       "        vertical-align: middle;\n",
       "    }\n",
       "\n",
       "    .dataframe tbody tr th {\n",
       "        vertical-align: top;\n",
       "    }\n",
       "\n",
       "    .dataframe thead th {\n",
       "        text-align: right;\n",
       "    }\n",
       "</style>\n",
       "<table border=\"1\" class=\"dataframe\">\n",
       "  <thead>\n",
       "    <tr style=\"text-align: right;\">\n",
       "      <th></th>\n",
       "      <th>indextype</th>\n",
       "      <th>table</th>\n",
       "      <th>numDocsScanned</th>\n",
       "      <th>numEntriesScannedInFilter</th>\n",
       "      <th>numEntriesScannedPostFilter</th>\n",
       "      <th>totalDocs</th>\n",
       "      <th>timeUsedMs</th>\n",
       "      <th>minConsumingFreshnessTimeMs</th>\n",
       "      <th>exceptions</th>\n",
       "    </tr>\n",
       "  </thead>\n",
       "  <tbody>\n",
       "    <tr>\n",
       "      <th>0</th>\n",
       "      <td>Default Index (Dictionary-encoded forward index with bit compression) for each column</td>\n",
       "      <td>trips_default_index</td>\n",
       "      <td>315170</td>\n",
       "      <td>0</td>\n",
       "      <td>315170</td>\n",
       "      <td>315170</td>\n",
       "      <td>15</td>\n",
       "      <td>1618138752061</td>\n",
       "      <td>[]</td>\n",
       "    </tr>\n",
       "    <tr>\n",
       "      <th>1</th>\n",
       "      <td>Start Tree 1</td>\n",
       "      <td>trips_starTreeIndex</td>\n",
       "      <td>15185</td>\n",
       "      <td>0</td>\n",
       "      <td>15185</td>\n",
       "      <td>315170</td>\n",
       "      <td>10</td>\n",
       "      <td>1618138757485</td>\n",
       "      <td>[]</td>\n",
       "    </tr>\n",
       "  </tbody>\n",
       "</table>\n",
       "</div>"
      ],
      "text/plain": [
       "                                                                               indextype  \\\n",
       "0  Default Index (Dictionary-encoded forward index with bit compression) for each column   \n",
       "1                                                                           Start Tree 1   \n",
       "\n",
       "                 table numDocsScanned numEntriesScannedInFilter  \\\n",
       "0  trips_default_index         315170                         0   \n",
       "1  trips_starTreeIndex          15185                         0   \n",
       "\n",
       "  numEntriesScannedPostFilter totalDocs timeUsedMs  \\\n",
       "0                      315170    315170         15   \n",
       "1                       15185    315170         10   \n",
       "\n",
       "  minConsumingFreshnessTimeMs exceptions  \n",
       "0               1618138752061         []  \n",
       "1               1618138757485         []  "
      ]
     },
     "metadata": {},
     "output_type": "display_data"
    }
   ],
   "source": [
    "executeSQLStatement(\"SELECT SUM(payment_amount) FROM XX_TABLE\",[[\"trips_default_index\",\"Default Index (Dictionary-encoded forward index with bit compression) for each column\"],[\"trips_starTreeIndex\", \"Start Tree 1\"]] )"
   ]
  },
  {
   "cell_type": "markdown",
   "id": "opposed-inspector",
   "metadata": {},
   "source": [
    "When selecting the Star-Node without grouping by any dimension, Pinot doesn't need to access all documents. Instead, only the Star-Node of each segment is required. The reason, why `numDocsScanned` is not equal to the number of segments is, that there is always one segment that isn't completed yet. Pinot accesses each record of the consuming segment (status `IN_PROGRESS`)."
   ]
  },
  {
   "cell_type": "code",
   "execution_count": 34,
   "id": "peaceful-excess",
   "metadata": {},
   "outputs": [
    {
     "name": "stdout",
     "output_type": "stream",
     "text": [
      "The table with the Star Tree Index consists of 16 segments\n"
     ]
    }
   ],
   "source": [
    "print(\"The table with the Star Tree Index consists of \" + str(len(requests.get('http://pinot-controller.pinot:9000/segments/trips_starTreeIndex').json()[0]['REALTIME'])) + \" segments\")"
   ]
  },
  {
   "cell_type": "markdown",
   "id": "compressed-percentage",
   "metadata": {},
   "source": [
    "Filtering on the dimension `rider_is_premium`, which builds the first node of the Star-Tree index, halves the number of `numDocsScanned`. This is because `rider_is_premiumn` is assigned randomly in our data generation, so there is a fifty percent chance that a rider is not premium and less documents of the consuming segment need to be scanned."
   ]
  },
  {
   "cell_type": "code",
   "execution_count": 35,
   "id": "super-privacy",
   "metadata": {},
   "outputs": [
    {
     "name": "stdout",
     "output_type": "stream",
     "text": [
      "Top two result records of: SELECT SUM(payment_amount) FROM trips_default_index WHERE rider_is_premium = 0\n"
     ]
    },
    {
     "data": {
      "text/html": [
       "<div>\n",
       "<style scoped>\n",
       "    .dataframe tbody tr th:only-of-type {\n",
       "        vertical-align: middle;\n",
       "    }\n",
       "\n",
       "    .dataframe tbody tr th {\n",
       "        vertical-align: top;\n",
       "    }\n",
       "\n",
       "    .dataframe thead th {\n",
       "        text-align: right;\n",
       "    }\n",
       "</style>\n",
       "<table border=\"1\" class=\"dataframe\">\n",
       "  <thead>\n",
       "    <tr style=\"text-align: right;\">\n",
       "      <th></th>\n",
       "      <th>sum(payment_amount)</th>\n",
       "    </tr>\n",
       "  </thead>\n",
       "  <tbody>\n",
       "    <tr>\n",
       "      <th>0</th>\n",
       "      <td>1.108403e+08</td>\n",
       "    </tr>\n",
       "  </tbody>\n",
       "</table>\n",
       "</div>"
      ],
      "text/plain": [
       "   sum(payment_amount)\n",
       "0         1.108403e+08"
      ]
     },
     "metadata": {},
     "output_type": "display_data"
    },
    {
     "name": "stdout",
     "output_type": "stream",
     "text": [
      "Metrics of execution of: SELECT SUM(payment_amount) FROM XX_TABLE WHERE rider_is_premium = 0\n"
     ]
    },
    {
     "data": {
      "text/html": [
       "<div>\n",
       "<style scoped>\n",
       "    .dataframe tbody tr th:only-of-type {\n",
       "        vertical-align: middle;\n",
       "    }\n",
       "\n",
       "    .dataframe tbody tr th {\n",
       "        vertical-align: top;\n",
       "    }\n",
       "\n",
       "    .dataframe thead th {\n",
       "        text-align: right;\n",
       "    }\n",
       "</style>\n",
       "<table border=\"1\" class=\"dataframe\">\n",
       "  <thead>\n",
       "    <tr style=\"text-align: right;\">\n",
       "      <th></th>\n",
       "      <th>indextype</th>\n",
       "      <th>table</th>\n",
       "      <th>numDocsScanned</th>\n",
       "      <th>numEntriesScannedInFilter</th>\n",
       "      <th>numEntriesScannedPostFilter</th>\n",
       "      <th>totalDocs</th>\n",
       "      <th>timeUsedMs</th>\n",
       "      <th>minConsumingFreshnessTimeMs</th>\n",
       "      <th>exceptions</th>\n",
       "    </tr>\n",
       "  </thead>\n",
       "  <tbody>\n",
       "    <tr>\n",
       "      <th>0</th>\n",
       "      <td>Default Index (Dictionary-encoded forward index with bit compression) for each column</td>\n",
       "      <td>trips_default_index</td>\n",
       "      <td>157713</td>\n",
       "      <td>315170</td>\n",
       "      <td>157713</td>\n",
       "      <td>315170</td>\n",
       "      <td>17</td>\n",
       "      <td>1618138752061</td>\n",
       "      <td>[]</td>\n",
       "    </tr>\n",
       "    <tr>\n",
       "      <th>1</th>\n",
       "      <td>Start Tree 1</td>\n",
       "      <td>trips_starTreeIndex</td>\n",
       "      <td>7642</td>\n",
       "      <td>15170</td>\n",
       "      <td>7642</td>\n",
       "      <td>315170</td>\n",
       "      <td>4</td>\n",
       "      <td>1618138757485</td>\n",
       "      <td>[]</td>\n",
       "    </tr>\n",
       "  </tbody>\n",
       "</table>\n",
       "</div>"
      ],
      "text/plain": [
       "                                                                               indextype  \\\n",
       "0  Default Index (Dictionary-encoded forward index with bit compression) for each column   \n",
       "1                                                                           Start Tree 1   \n",
       "\n",
       "                 table numDocsScanned numEntriesScannedInFilter  \\\n",
       "0  trips_default_index         157713                    315170   \n",
       "1  trips_starTreeIndex           7642                     15170   \n",
       "\n",
       "  numEntriesScannedPostFilter totalDocs timeUsedMs  \\\n",
       "0                      157713    315170         17   \n",
       "1                        7642    315170          4   \n",
       "\n",
       "  minConsumingFreshnessTimeMs exceptions  \n",
       "0               1618138752061         []  \n",
       "1               1618138757485         []  "
      ]
     },
     "metadata": {},
     "output_type": "display_data"
    }
   ],
   "source": [
    "executeSQLStatement(\"SELECT SUM(payment_amount) FROM XX_TABLE WHERE rider_is_premium = 0\",[[\"trips_default_index\",\"Default Index (Dictionary-encoded forward index with bit compression) for each column\"],[\"trips_starTreeIndex\", \"Start Tree 1\"]])"
   ]
  },
  {
   "cell_type": "markdown",
   "id": "expensive-virginia",
   "metadata": {},
   "source": [
    "##### Trace Details\n",
    "\n",
    "The trace details of the query execution display how much time was spent for which operator execution. We extract the operator details of the following query. The query executed on `trips_default_index` requires a lot of Aggregation Operators, as no data is pre-aggregated like it is the case for the table `trips_starTreeIndex`.\n",
    "\n",
    "XXX use helper funcs  \n",
    "XXX use DataFrame?"
   ]
  },
  {
   "cell_type": "code",
   "execution_count": 40,
   "id": "substantial-madonna",
   "metadata": {},
   "outputs": [
    {
     "name": "stdout",
     "output_type": "stream",
     "text": [
      "\n",
      "Get Trace Details for trips_starTreeIndex\n",
      "\n",
      "query: SELECT SUM(payment_amount) FROM trips_starTreeIndex WHERE rider_is_premium = 0\n",
      "['{\"AggregationOnlyCombineOperator Time\":1}', '{\"InstanceResponseOperator Time\":1}]}', '{\"DocIdSetOperator Time\":1}', '{\"ProjectionOperator Time\":1}', '{\"TransformOperator Time\":1}', '{\"AggregationOperator Time\":1}']\n",
      "\n",
      "Get Trace Details for trips_default_index\n",
      "\n",
      "query: SELECT SUM(payment_amount) FROM trips_default_index WHERE rider_is_premium = 0\n",
      "['{\"AggregationOnlyCombineOperator Time\":19}', '{\"InstanceResponseOperator Time\":19}]}', '{\"AggregationOperator Time\":1}', '{\"AggregationOperator Time\":1}', '{\"AggregationOperator Time\":1}', '{\"AggregationOperator Time\":1}', '{\"DocIdSetOperator Time\":1}', '{\"ProjectionOperator Time\":1}', '{\"TransformOperator Time\":1}', '{\"AggregationOperator Time\":1}', '{\"DocIdSetOperator Time\":1}', '{\"ProjectionOperator Time\":1}', '{\"TransformOperator Time\":1}', '{\"AggregationOperator Time\":1}', '{\"DocIdSetOperator Time\":1}', '{\"ProjectionOperator Time\":1}', '{\"TransformOperator Time\":1}', '{\"AggregationOperator Time\":2}', '{\"DocIdSetOperator Time\":1}', '{\"ProjectionOperator Time\":1}', '{\"TransformOperator Time\":1}', '{\"AggregationOperator Time\":1}', '{\"DocIdSetOperator Time\":1}', '{\"ProjectionOperator Time\":1}', '{\"TransformOperator Time\":1}', '{\"AggregationOperator Time\":1}', '{\"DocIdSetOperator Time\":1}', '{\"ProjectionOperator Time\":1}', '{\"TransformOperator Time\":1}', '{\"AggregationOperator Time\":2}', '{\"AggregationOperator Time\":1}', '{\"DocIdSetOperator Time\":1}', '{\"ProjectionOperator Time\":1}', '{\"TransformOperator Time\":1}', '{\"AggregationOperator Time\":1}', '{\"DocIdSetOperator Time\":1}', '{\"ProjectionOperator Time\":1}', '{\"TransformOperator Time\":1}', '{\"AggregationOperator Time\":1}', '{\"AggregationOperator Time\":1}', '{\"DocIdSetOperator Time\":1}', '{\"ProjectionOperator Time\":1}', '{\"TransformOperator Time\":1}', '{\"AggregationOperator Time\":2}']\n"
     ]
    }
   ],
   "source": [
    "def query_sql(query):\n",
    "    print(\"query: \" + query)\n",
    "    return requests.get('http://pinot-broker.pinot:8099/query/sql', params={\n",
    "        \"sql\" : query,\n",
    "        \"trace\": \"true\"\n",
    "    }).json()\n",
    "\n",
    "def getTraceDetails(sql):\n",
    "    response = query_sql(sql)\n",
    "    test = (response['traceInfo']['pinot-server-0.pinot-server-headless.pinot.svc.cluster.local'])[7:-3]\n",
    "    string_tracedetails = test.split(',')\n",
    "    # display only trace details with time > 0\n",
    "    tracedetails_time = []\n",
    "    for x in string_tracedetails:\n",
    "        if \"Time\" in x:\n",
    "            if \":0\" in x:\n",
    "                pass\n",
    "            else:\n",
    "                tracedetails_time.append(x)\n",
    "    return tracedetails_time\n",
    "\n",
    "print(\"\\nGet Trace Details for trips_starTreeIndex\\n\")\n",
    "print(getTraceDetails(\"SELECT SUM(payment_amount) FROM trips_starTreeIndex WHERE rider_is_premium = 0\"))\n",
    "\n",
    "print(\"\\nGet Trace Details for trips_default_index\\n\")\n",
    "print(getTraceDetails(\"SELECT SUM(payment_amount) FROM trips_default_index WHERE rider_is_premium = 0\"))"
   ]
  },
  {
   "cell_type": "markdown",
   "id": "spare-things",
   "metadata": {},
   "source": [
    "### Indexes - Comparison with other database technologies\n",
    "\n",
    "Two categories of the indexing options demonstrated above, that can also be found in traditional databases, are Forward Indexes and Inverted Indexes.\n",
    "Forward Indexes are frequently used in traditional database technologies as well to improve storage efficiency.\n",
    "Search Engines most often rely on a inverted index, like for example EleasticSearch.\n",
    "We saw, that there is a special index to do a fulltext search for records containing a specific string.\n",
    "\n",
    "We also demonstrated two other indexing techniques, that are typically not offered by traditional database systems: raw value forward index and Star-Tree index.\n",
    "The raw value forward index doesn't include dictionaries - when aggregating a large number of values, it can take advantage of data locality for scanning.\n",
    "\n",
    "The Star-Tree Index is an important and special concept for Pinot, because it is utilizes pre-aggregation for group-by queries to achieve low query latencies. It is specifically designed for the analytical use cases which Pinot was built for and makes it a a key differenciator of Pinot.\n",
    "E.g. Star-Tree Indexes can bring great benefits, if there is the requirement to return data e.g. per user level - like it is the case for the \"Who viewed my Profile\" application at LinkedIn."
   ]
  },
  {
   "cell_type": "markdown",
   "id": "neural-bracket",
   "metadata": {},
   "source": [
    "### Maintenance - Table Deletion"
   ]
  },
  {
   "cell_type": "code",
   "execution_count": 41,
   "id": "smart-gregory",
   "metadata": {},
   "outputs": [],
   "source": [
    "## Delete Tables\n",
    "#for table in table_list:\n",
    "#    string = \"http://pinot-controller.pinot:9000/tables/\" + table[0]\n",
    "#    response = requests.delete(string)\n",
    "#    print(response.json())\n",
    "#    table_list = []"
   ]
  },
  {
   "cell_type": "markdown",
   "id": "driving-romania",
   "metadata": {},
   "source": [
    "# Closing Remarks\n",
    "__TBD__:\n",
    "Compared to known databases, complex set up and configurations.\n",
    "The several different components ensure the flexible scale up of the cluster and the high availability, as the system would continue to server queries also if one node goes down. This is a big advantage, but the different also add more complexitiy to the whole landscape. \n",
    "\n",
    "We experienced the advantages of Pinot, e.g. the possibility to dynamically change configurations and to quickly create new tables consuming data from the Kafka topic. "
   ]
  },
  {
   "cell_type": "code",
   "execution_count": null,
   "id": "daily-technology",
   "metadata": {},
   "outputs": [],
   "source": []
  }
 ],
 "metadata": {
  "kernelspec": {
   "display_name": "Python 3",
   "language": "python",
   "name": "python3"
  },
  "language_info": {
   "codemirror_mode": {
    "name": "ipython",
    "version": 3
   },
   "file_extension": ".py",
   "mimetype": "text/x-python",
   "name": "python",
   "nbconvert_exporter": "python",
   "pygments_lexer": "ipython3",
   "version": "3.8.8"
  }
 },
 "nbformat": 4,
 "nbformat_minor": 5
}
