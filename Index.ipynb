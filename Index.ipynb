{
 "cells": [
  {
   "cell_type": "markdown",
   "id": "annoying-tribune",
   "metadata": {},
   "source": [
    "# Indexes in Apache Pinot\n",
    "## Table Creation "
   ]
  },
  {
   "cell_type": "code",
   "execution_count": 589,
   "id": "aggregate-dover",
   "metadata": {},
   "outputs": [
    {
     "name": "stdout",
     "output_type": "stream",
     "text": [
      "Requirement already satisfied: pandas in /opt/conda/lib/python3.8/site-packages (1.2.3)\n",
      "Requirement already satisfied: python-dateutil>=2.7.3 in /opt/conda/lib/python3.8/site-packages (from pandas) (2.8.1)\n",
      "Requirement already satisfied: pytz>=2017.3 in /opt/conda/lib/python3.8/site-packages (from pandas) (2021.1)\n",
      "Requirement already satisfied: numpy>=1.16.5 in /opt/conda/lib/python3.8/site-packages (from pandas) (1.20.1)\n",
      "Requirement already satisfied: six>=1.5 in /opt/conda/lib/python3.8/site-packages (from python-dateutil>=2.7.3->pandas) (1.15.0)\n"
     ]
    }
   ],
   "source": [
    "!pip install pandas\n",
    "import pandas\n",
    "import json\n",
    "import requests\n",
    "import copy\n",
    "import time"
   ]
  },
  {
   "cell_type": "markdown",
   "id": "mathematical-bottom",
   "metadata": {},
   "source": [
    "To compare tables with different indexes defined, we create multiple tables. The index configurations are applied to the tableIndexConfig-section of the *json_tableConfig* object. \n",
    "\n",
    "The tables are real-time tables and consume data from the same Kafka topic. Therefore, all of them will contain the same data records. To ensure, that the consumption of the tables has finished, we are monitoring when streaming data was ingested the last time to the table. Parameter minConsumingFreshnessTimeMs describes when the last ingestion took place. For the following use case we defined, that if there hasn't been any new data consumption in the last 15 seconds, the before generated data records of the Kafka topic have been consumed and there are enough data records to proceed.\n",
    "(Remark: We are only checking the last updated time stamp for one specific table and assume, that there is no high time deviation for the different tables.)"
   ]
  },
  {
   "cell_type": "code",
   "execution_count": 622,
   "id": "fourth-formula",
   "metadata": {},
   "outputs": [
    {
     "name": "stdout",
     "output_type": "stream",
     "text": [
      "<Response [200]>\n",
      "{\"status\":\"Table trips_default_index_REALTIME succesfully added\"}\n",
      "<Response [200]>\n",
      "{\"status\":\"Table trips_rawForwardIndex_REALTIME succesfully added\"}\n",
      "<Response [200]>\n",
      "{\"status\":\"Table trips_sortedForwardIndex_REALTIME succesfully added\"}\n",
      "<Response [200]>\n",
      "{\"status\":\"Table trips_bitmapInvertedIndex_startLocation_REALTIME succesfully added\"}\n",
      "<Response [200]>\n",
      "{\"status\":\"Table trips_sortedInvertedIndex_startLocation_REALTIME succesfully added\"}\n",
      "<Response [200]>\n",
      "{\"status\":\"Table trips_starTreeIndex_REALTIME succesfully added\"}\n",
      "<Response [200]>\n",
      "{\"status\":\"Table trips_textIndex_REALTIME succesfully added\"}\n",
      "\n",
      "--Consumption of generated data for trips_starTreeIndex finished--\n",
      "Stuttgart Stuttgart-Mitte (start location) and Alexis (driver name) will be used later as query variables.\n"
     ]
    }
   ],
   "source": [
    "table_list = []\n",
    "\n",
    "json_tableConfig = {\n",
    "  \"tableName\": \"variable_tableName\",\n",
    "  \"tableType\": \"REALTIME\",\n",
    "  \"segmentsConfig\": {\n",
    "    \"timeColumnName\": \"trip_start_time_millis\",\n",
    "    \"timeType\": \"MILLISECONDS\",\n",
    "    \"retentionTimeUnit\": \"DAYS\",\n",
    "    \"retentionTimeValue\": \"60\",\n",
    "    \"schemaName\": \"trips\",\n",
    "    \"replication\": \"1\",\n",
    "    \"replicasPerPartition\": \"1\"\n",
    "  },\n",
    "  \"tenants\": {},\n",
    "  \"tableIndexConfig\": {\n",
    "    \"loadMode\": \"MMAP\",\n",
    "    \"streamConfigs\": {\n",
    "      \"streamType\": \"kafka\",\n",
    "      \"stream.kafka.consumer.type\": \"simple\",\n",
    "      \"stream.kafka.topic.name\": \"trips\",\n",
    "      \"stream.kafka.decoder.class.name\": \"org.apache.pinot.plugin.stream.kafka.KafkaJSONMessageDecoder\",\n",
    "      \"stream.kafka.consumer.factory.class.name\": \"org.apache.pinot.plugin.stream.kafka20.KafkaConsumerFactory\",\n",
    "      \"stream.kafka.zk.broker.url\": \"pinot-kafka-zookeeper:2181\",\n",
    "      \"stream.kafka.broker.list\": \"pinot-kafka:9092\",\n",
    "      \"realtime.segment.flush.threshold.time\": \"12h\",\n",
    "      \"realtime.segment.flush.threshold.size\": \"20000\",\n",
    "      \"stream.kafka.consumer.prop.auto.offset.reset\": \"smallest\"\n",
    "    }\n",
    "  },\n",
    "  \"metadata\": {\n",
    "    \"customConfigs\": {}\n",
    "  }\n",
    "} \n",
    "\n",
    "def createTable(newTable_name, index_text, tableconfig_json):\n",
    "    #Input: Name of new table, index description, table configuration in json structure\n",
    "    response = requests.post('http://pinot-controller.pinot:9000/tables', json=tableconfig_json)\n",
    "    print(response)\n",
    "    print(response.text)\n",
    "    table_list.append([newTable_name, index_text])\n",
    "\n",
    "\n",
    "execution_start_time = int(round(time.time() * 1000))\n",
    "\n",
    "# Create a new table with default index for each column (no configuration required)\n",
    "newTable_defaultIndex = copy.deepcopy(json_tableConfig)\n",
    "newTable_defaultIndex[\"tableName\"] = \"trips_default_index\"\n",
    "createTable(newTable_defaultIndex[\"tableName\"], 'Default Index (Dictionary-encoded forward index with bit compression) for each column', newTable_defaultIndex)\n",
    "\n",
    "# Create a new table with raw value forward index\n",
    "newTable_rawForwardIndex = copy.deepcopy(json_tableConfig)\n",
    "newTable_rawForwardIndex[\"tableName\"] = \"trips_rawForwardIndex\"\n",
    "newTable_rawForwardIndex[\"tableIndexConfig\"][\"noDictionaryColumns\"] = [\"start_location\"]\n",
    "createTable(newTable_rawForwardIndex[\"tableName\"], 'Raw value forward index on start_location',newTable_rawForwardIndex)\n",
    "\n",
    "\n",
    "# Create a new table with sorted forward index with run-length encoding\n",
    "newTable_sortedForwardIndex = copy.deepcopy(json_tableConfig)\n",
    "newTable_sortedForwardIndex[\"tableName\"] = \"trips_sortedForwardIndex\"\n",
    "newTable_sortedForwardIndex[\"tableIndexConfig\"][\"sortedColumn\"] = [\"start_location\"]\n",
    "createTable(newTable_sortedForwardIndex[\"tableName\"],'Sorted forward index with run-length encoding on start location',newTable_sortedForwardIndex)\n",
    "\n",
    "\n",
    "# Create a new table with bitmap inverted index\n",
    "newTable_bitmapInvertedIndex2 = copy.deepcopy(json_tableConfig)\n",
    "newTable_bitmapInvertedIndex2[\"tableName\"] = \"trips_bitmapInvertedIndex_startLocation\"\n",
    "newTable_bitmapInvertedIndex2[\"tableIndexConfig\"][\"invertedIndexColumns\"] = [\"start_location\"]\n",
    "createTable(newTable_bitmapInvertedIndex2[\"tableName\"],'Bitmap inverted index on start_location',newTable_bitmapInvertedIndex2)\n",
    "\n",
    "\n",
    "# Create a new table with sorted inverted index\n",
    "newTable_sortedInvertedIndex2 = copy.deepcopy(json_tableConfig)\n",
    "newTable_sortedInvertedIndex2[\"tableName\"] = \"trips_sortedInvertedIndex_startLocation\"\n",
    "newTable_sortedInvertedIndex2[\"tableIndexConfig\"][\"invertedIndexColumns\"] = [\"start_location\"]\n",
    "newTable_sortedInvertedIndex2[\"tableIndexConfig\"][\"sortedColumn\"] = [\"start_location\"]\n",
    "createTable(newTable_sortedInvertedIndex2[\"tableName\"],'Sorted inverted index on start_location',newTable_sortedInvertedIndex2)\n",
    "\n",
    "# Create a new table with star tree  index\n",
    "newTable_starTree1 = copy.deepcopy(json_tableConfig)\n",
    "newTable_starTree1[\"tableName\"] = \"trips_starTreeIndex\"\n",
    "newTable_starTree1[\"tableIndexConfig\"][\"starTreeIndexConfigs\"] = [{\n",
    "    \"dimensionsSplitOrder\": [\n",
    "      \"rider_is_premium\",\n",
    "      \"start_location_state\",\n",
    "      \"end_location\"\n",
    "    ],\n",
    "    \"functionColumnPairs\": [\n",
    "      \"SUM__payment_amount\",\n",
    "    ],\n",
    "    \"maxLeafRecords\": 1\n",
    "  }]\n",
    "createTable(newTable_starTree1[\"tableName\"],'Star Tree 1',newTable_starTree1)\n",
    "\n",
    "newTable_textIndex[\"tableIndexConfig\"][\"noDictionaryColumns\"] = [\n",
    "     \"driver_name\",\n",
    "     \"rider_name\"\n",
    " ]\n",
    "createTable(newTable_textIndex[\"tableName\"],'Text Index',newTable_textIndex)\n",
    "\n",
    "#Wait for tables to consume data for Kafka Topic\n",
    "tableConsuming = True\n",
    "while tableConsuming:\n",
    "    response = requests.post('http://pinot-broker.pinot:8099/query/sql', json={\n",
    "            \"sql\" : \"SELECT * FROM trips_starTreeIndex\"\n",
    "        })\n",
    "    response_json=response.json()\n",
    "    if response_json['minConsumingFreshnessTimeMs']>0 and response_json['minConsumingFreshnessTimeMs']<(int(round(time.time() * 1000)) - 15000 ) or response_json['minConsumingFreshnessTimeMs']>9000000036854775807:\n",
    "        tableConsuming = False;\n",
    "        print(\"\")\n",
    "        print(\"--Consumption of generated data for trips_starTreeIndex finished--\")\n",
    "\n",
    "\n",
    "#Read value for start location and driver name for later queries\n",
    "sql_get_values = \"SELECT start_location, driver_name FROM \" + newTable_defaultIndex[\"tableName\"] \n",
    "response = requests.post('http://pinot-broker.pinot:8099/query/sql', json={\n",
    "            \"sql\" : sql_get_values\n",
    "    })\n",
    "response_json=response.json()\n",
    "startLocation = response_json['resultTable']['rows'][0][0]\n",
    "#Only take the first name of the driver name\n",
    "driverName = (response_json['resultTable']['rows'][0][1]).split()[0]\n",
    "print(\"\"+startLocation + \" (start location) and \" + driverName + \" (driver name) will be used later as query variables.\")"
   ]
  },
  {
   "cell_type": "markdown",
   "id": "adult-retailer",
   "metadata": {},
   "source": [
    "### Table Size\n",
    "Although the tables contain the same amount of records and also the same record values, the table size differs. This is because of the different indexes. E.g. a text index on one column is more space intensive compared to the raw forward index. The Star-Tree Index is allocating much space, as pre-aggregates defined calculations on metric columns."
   ]
  },
  {
   "cell_type": "code",
   "execution_count": 624,
   "id": "provincial-juice",
   "metadata": {},
   "outputs": [
    {
     "name": "stdout",
     "output_type": "stream",
     "text": [
      "tableName: trips_default_index_REALTIME\n",
      "Index Description: Default Index (Dictionary-encoded forward index with bit compression) for each column\n",
      "reportedSizeInMB: 22.090063095092773\n",
      " \n",
      "tableName: trips_rawForwardIndex_REALTIME\n",
      "Index Description: Raw value forward index on start_location\n",
      "reportedSizeInMB: 24.462448120117188\n",
      " \n",
      "tableName: trips_sortedForwardIndex_REALTIME\n",
      "Index Description: Sorted forward index with run-length encoding on start location\n",
      "reportedSizeInMB: 20.088777542114258\n",
      " \n",
      "tableName: trips_bitmapInvertedIndex_startLocation_REALTIME\n",
      "Index Description: Bitmap inverted index on start_location\n",
      "reportedSizeInMB: 22.93588161468506\n",
      " \n",
      "tableName: trips_sortedInvertedIndex_startLocation_REALTIME\n",
      "Index Description: Sorted inverted index on start_location\n",
      "reportedSizeInMB: 20.08920669555664\n",
      " \n",
      "tableName: trips_starTreeIndex_REALTIME\n",
      "Index Description: Star Tree 1\n",
      "reportedSizeInMB: 39.382994651794434\n",
      " \n",
      "tableName: trips_textIndex_REALTIME\n",
      "Index Description: Text Index\n",
      "reportedSizeInMB: 36.18574619293213\n",
      " \n"
     ]
    }
   ],
   "source": [
    "for table in table_list:\n",
    "    url_getsize = 'http://pinot-controller.pinot:9000/tables/' + table[0] + '_REALTIME/size?detailed=false'\n",
    "    response = (requests.get(url_getsize)).json()\n",
    "    print('tableName: ' + response['tableName'])\n",
    "    print('Index Description: ' + table[1])\n",
    "    v_size=response['reportedSizeInBytes']/1024/1024\n",
    "    print('reportedSizeInMB: '+ str(v_size))\n",
    "    print(\" \")"
   ]
  },
  {
   "cell_type": "markdown",
   "id": "loving-novel",
   "metadata": {},
   "source": [
    "## Indexes in Apache Pinot\n",
    "\n",
    "Pinot uses the MYSQL_ANSI dialect. Executing Joins or nested Subqueries is not supported. \n",
    "For accessing multiple tables in queries, the query engine Presto is recommended. In this report, we will focus on the functionality Pinot offers.\n",
    "Pinot doesn't support data definition language. As already done, tables are created using the REST API.\n",
    "\n",
    "Function *executeSQLStatement* takes a query string and an array containing table names and descriptions as input paramter. It executes the query on all tables which are defined in the table_list. If *specific_tables_array* is an empty string, the query will be executed on all tables which have been created for this chapter. The top two records of the result data set are displayed once to get an insight into the result data set. Additionaly, the function will create a dataframe listing execution metrics about the query execution for each table. Metrics of one query execution will only be appended to the dataframe if no exeption occurs. "
   ]
  },
  {
   "cell_type": "code",
   "execution_count": 579,
   "id": "atlantic-assist",
   "metadata": {},
   "outputs": [],
   "source": [
    "def executeSQLStatement(sql_statement_with_variable, specific_tables_array):\n",
    "    pandas.set_option('display.max_colwidth', None)\n",
    "    df_metrics = pandas.DataFrame(columns=['indextype','table', 'numDocsScanned',\n",
    "       'numEntriesScannedInFilter', 'numEntriesScannedPostFilter',\n",
    "       'totalDocs', 'timeUsedMs',\n",
    "       'minConsumingFreshnessTimeMs',\n",
    "       'exceptions'])\n",
    "    b_resultRecordsNotShown = True;\n",
    "    if not specific_tables_array:\n",
    "        table_list_statement = table_list\n",
    "    else:\n",
    "        table_list_statement = specific_tables_array \n",
    "    for table in table_list_statement:\n",
    "    \n",
    "        sql_statement = sql_statement_with_variable.replace(\"XX_TABLE\",table[0])\n",
    "        sql_statement = sql_statement.replace(\"XX_STARTLOCATION\",\"'\"+startLocation+\"'\")\n",
    "        sql_statement = sql_statement.replace(\"XX_DRIVERNAME\",\"'\"+driverName+\"'\") \n",
    "        response = requests.post('http://pinot-broker.pinot:8099/query/sql', json={\n",
    "            \"sql\" : sql_statement\n",
    "        })\n",
    "        response_json=response.json()\n",
    "        d = {'indextype': table[1], 'table': table[0],'numDocsScanned': [response_json['numDocsScanned']],'numDocsScanned': [response_json['numDocsScanned']],'numEntriesScannedInFilter': [response_json['numEntriesScannedInFilter']], 'numEntriesScannedPostFilter':[response_json['numEntriesScannedPostFilter']],'totalDocs':[response_json['totalDocs']],'timeUsedMs':[response_json['timeUsedMs']],'minConsumingFreshnessTimeMs':[response_json['minConsumingFreshnessTimeMs']],'exceptions':[response_json['exceptions']]}\n",
    "        df_metrics_new = pandas.DataFrame(data=d)\n",
    "        if not response_json['exceptions']:\n",
    "             df_metrics = df_metrics.append(df_metrics_new,ignore_index=True)\n",
    "       \n",
    "\n",
    "        if b_resultRecordsNotShown:\n",
    "            try:\n",
    "                if not response_json['exceptions']:\n",
    "                    columnNames = response_json['resultTable']['dataSchema']['columnNames']\n",
    "                    rows = response_json['resultTable']['rows']\n",
    "\n",
    "                    result_dataframe = pandas.DataFrame(columns=columnNames,data=rows)\n",
    "                    print(\"Top two result records of: \" + sql_statement )\n",
    "                    display(result_dataframe.head(2))\n",
    "                    b_resultRecordsNotShown = False\n",
    "            except:\n",
    "                pass\n",
    "\n",
    "    print(\"Metrics of execution of: \" + sql_statement_with_variable)\n",
    "    display(df_metrics)\n"
   ]
  },
  {
   "cell_type": "markdown",
   "id": "difficult-watch",
   "metadata": {},
   "source": [
    "### Metrics\n",
    "The most important metrics of a query execution for our analysis are:\n",
    "- __timeUsedMs__: Total time between broker receiving the query request request and sending the response back to the client.\n",
    "- __numDocScanned__: Number of documents/records scanned while query processing. (Includes records scanned in the filter phase as well as after applying the filter.)\n",
    "- __numEntriesScannedInFilter__: It is an indicator of the latency contributed by the lookup phase. If this number is high, applying an index on the selection criteria might improve performance, especially if the column as high selectivity.\n",
    "- __numEntriesScannedPostFilter__: High number is an indicator for low selectivity. Instead of regular indices, a star-tree index could help.\n",
    "\n",
    "### Index Types\n",
    "The before created tables contain the following Index Types of Apache Pinot:\n",
    "\n",
    "- Forward Index\n",
    "    - __Default Index: Dictionary-encoded forward index with bit compression__: \n",
    "    Apache Pinot will use this index by default for each column if no other index is configured in the table configuration metadata. An id is assigned to each unique value of the column, afterwards a dictionary is build from the id to the value. In the forward index, only the bit-compressed id of is persisted instead of the values. This compression improves space efficiency of the storage, if there are few unique values.\n",
    "    \n",
    "    <img src=\"images/RawValueForwardIndex.png\" width=\"35%\" height=\"35%\">\n",
    "\n",
    "    \n",
    "    - __Raw Value Forward Index__: A raw value forward index is configured as a noDictionaryColumn in the table configuration file. Values instead of dictionary ids will be stored. Because of that, no dictionary lookup is required and due to the locality of values the performance of scanning large number of values is improved. \n",
    "    - __Sorted forward index with run-length encoding__: The sorted forward index is applied on top of the dictionary-encoding. For each dictionary id, a start and end document id is stored. Only one sorted column can be created for each Pinot table.\n",
    "   \n",
    "- Inverted Index: Inverted Indexes reduce the number of records which need be processed by identifying the ones which contain the search term. The inverted index is created by selecting all unique values of the column. For each value, a list of document ids which contain the value will be assigned. If we search e.g. for Hessen as a state, we can look up the inverted index for Hessen and identify the documents for which that value appears. \n",
    "    - __Bitmap inverted index__: A map from each value to a bitmap is maintained for the column which is enabled as bitmap inverted index. If a column is used frequently for filtering, an inverted index will improve the performance. (E.g. Thüringen -> Doc5, Doc1)\n",
    "    - __Sorted inverted index__: A sorted index can benefit from data locality, but can only be applied to one column.\n",
    "    \n",
    "- __Star-Tree Index__: This index is built on multiple columns and pre-aggregates results, so that less values need to be processed. This can improve the query performance, on the other hand the pre-aggregation requires more storage (table size is about twice of the size as the other tables are).\n",
    "- __Text Index__: Text Indexes in Pinot allow to do aribtrary search on STRING columns."
   ]
  },
  {
   "cell_type": "markdown",
   "id": "acting-impossible",
   "metadata": {},
   "source": [
    "#### Default Index (Dictionary-encoded forward index with bit compression) vs Raw value forward index"
   ]
  },
  {
   "cell_type": "code",
   "execution_count": 580,
   "id": "architectural-building",
   "metadata": {
    "tags": []
   },
   "outputs": [
    {
     "name": "stdout",
     "output_type": "stream",
     "text": [
      "Top two result records of: select count, driver_name, driver_rating, end_location, end_location_state from trips_default_index WHERE start_location='Rietz-Neuendorf'\n"
     ]
    },
    {
     "data": {
      "text/html": [
       "<div>\n",
       "<style scoped>\n",
       "    .dataframe tbody tr th:only-of-type {\n",
       "        vertical-align: middle;\n",
       "    }\n",
       "\n",
       "    .dataframe tbody tr th {\n",
       "        vertical-align: top;\n",
       "    }\n",
       "\n",
       "    .dataframe thead th {\n",
       "        text-align: right;\n",
       "    }\n",
       "</style>\n",
       "<table border=\"1\" class=\"dataframe\">\n",
       "  <thead>\n",
       "    <tr style=\"text-align: right;\">\n",
       "      <th></th>\n",
       "      <th>count</th>\n",
       "      <th>driver_name</th>\n",
       "      <th>driver_rating</th>\n",
       "      <th>end_location</th>\n",
       "      <th>end_location_state</th>\n",
       "    </tr>\n",
       "  </thead>\n",
       "  <tbody>\n",
       "    <tr>\n",
       "      <th>0</th>\n",
       "      <td>1</td>\n",
       "      <td>Gloria Hayden</td>\n",
       "      <td>1</td>\n",
       "      <td>Rückersdorf</td>\n",
       "      <td>Bayern</td>\n",
       "    </tr>\n",
       "    <tr>\n",
       "      <th>1</th>\n",
       "      <td>1</td>\n",
       "      <td>Vivian Bryant</td>\n",
       "      <td>4</td>\n",
       "      <td>Hanau</td>\n",
       "      <td>Hessen</td>\n",
       "    </tr>\n",
       "  </tbody>\n",
       "</table>\n",
       "</div>"
      ],
      "text/plain": [
       "   count    driver_name  driver_rating end_location end_location_state\n",
       "0      1  Gloria Hayden              1  Rückersdorf             Bayern\n",
       "1      1  Vivian Bryant              4        Hanau             Hessen"
      ]
     },
     "metadata": {},
     "output_type": "display_data"
    },
    {
     "name": "stdout",
     "output_type": "stream",
     "text": [
      "Metrics of execution of: select count, driver_name, driver_rating, end_location, end_location_state from XX_TABLE WHERE start_location=XX_STARTLOCATION\n"
     ]
    },
    {
     "data": {
      "text/html": [
       "<div>\n",
       "<style scoped>\n",
       "    .dataframe tbody tr th:only-of-type {\n",
       "        vertical-align: middle;\n",
       "    }\n",
       "\n",
       "    .dataframe tbody tr th {\n",
       "        vertical-align: top;\n",
       "    }\n",
       "\n",
       "    .dataframe thead th {\n",
       "        text-align: right;\n",
       "    }\n",
       "</style>\n",
       "<table border=\"1\" class=\"dataframe\">\n",
       "  <thead>\n",
       "    <tr style=\"text-align: right;\">\n",
       "      <th></th>\n",
       "      <th>indextype</th>\n",
       "      <th>table</th>\n",
       "      <th>numDocsScanned</th>\n",
       "      <th>numEntriesScannedInFilter</th>\n",
       "      <th>numEntriesScannedPostFilter</th>\n",
       "      <th>totalDocs</th>\n",
       "      <th>timeUsedMs</th>\n",
       "      <th>minConsumingFreshnessTimeMs</th>\n",
       "      <th>exceptions</th>\n",
       "    </tr>\n",
       "  </thead>\n",
       "  <tbody>\n",
       "    <tr>\n",
       "      <th>0</th>\n",
       "      <td>Default Index (Dictionary-encoded forward index with bit compression) for each column</td>\n",
       "      <td>trips_default_index</td>\n",
       "      <td>10</td>\n",
       "      <td>11441</td>\n",
       "      <td>50</td>\n",
       "      <td>308637</td>\n",
       "      <td>6</td>\n",
       "      <td>1618057229495</td>\n",
       "      <td>[]</td>\n",
       "    </tr>\n",
       "    <tr>\n",
       "      <th>1</th>\n",
       "      <td>Raw value forward index on start_location</td>\n",
       "      <td>trips_rawForwardIndex</td>\n",
       "      <td>10</td>\n",
       "      <td>7766</td>\n",
       "      <td>50</td>\n",
       "      <td>308637</td>\n",
       "      <td>11</td>\n",
       "      <td>1618057229492</td>\n",
       "      <td>[]</td>\n",
       "    </tr>\n",
       "  </tbody>\n",
       "</table>\n",
       "</div>"
      ],
      "text/plain": [
       "                                                                               indextype  \\\n",
       "0  Default Index (Dictionary-encoded forward index with bit compression) for each column   \n",
       "1                                              Raw value forward index on start_location   \n",
       "\n",
       "                   table numDocsScanned numEntriesScannedInFilter  \\\n",
       "0    trips_default_index             10                     11441   \n",
       "1  trips_rawForwardIndex             10                      7766   \n",
       "\n",
       "  numEntriesScannedPostFilter totalDocs timeUsedMs  \\\n",
       "0                          50    308637          6   \n",
       "1                          50    308637         11   \n",
       "\n",
       "  minConsumingFreshnessTimeMs exceptions  \n",
       "0               1618057229495         []  \n",
       "1               1618057229492         []  "
      ]
     },
     "metadata": {},
     "output_type": "display_data"
    }
   ],
   "source": [
    "executeSQLStatement(\"select count, driver_name, driver_rating, end_location, end_location_state from XX_TABLE WHERE start_location=XX_STARTLOCATION\",[['trips_default_index', 'Default Index (Dictionary-encoded forward index with bit compression) for each column'],['trips_rawForwardIndex', 'Raw value forward index on start_location']])"
   ]
  },
  {
   "cell_type": "markdown",
   "id": "tested-accessory",
   "metadata": {},
   "source": [
    "The query execution on table __trips_rawForwardIndex (1)__ takes more time. This is because more entries need to be scanned in the filter.  For table __trips_default_index__, less records are scanned. The main difference between the two index types is, that the index on column start_location of __trips_default_index (0)__ creates dictionaries. The dictionary provides compression when values of the columns occurr repeatedly. \n",
    "A dictionary index doesn't provide that advantage anymore, if a column consists of lots of unique values."
   ]
  },
  {
   "cell_type": "markdown",
   "id": "stopped-bouquet",
   "metadata": {},
   "source": [
    "#### Default Index (Dictionary-encoded forward index with bit compression) vs Sorted forward index with run-length encoding"
   ]
  },
  {
   "cell_type": "code",
   "execution_count": 581,
   "id": "incredible-scope",
   "metadata": {},
   "outputs": [
    {
     "name": "stdout",
     "output_type": "stream",
     "text": [
      "Top two result records of: select * from trips_default_index WHERE start_location='Rietz-Neuendorf'\n"
     ]
    },
    {
     "data": {
      "text/html": [
       "<div>\n",
       "<style scoped>\n",
       "    .dataframe tbody tr th:only-of-type {\n",
       "        vertical-align: middle;\n",
       "    }\n",
       "\n",
       "    .dataframe tbody tr th {\n",
       "        vertical-align: top;\n",
       "    }\n",
       "\n",
       "    .dataframe thead th {\n",
       "        text-align: right;\n",
       "    }\n",
       "</style>\n",
       "<table border=\"1\" class=\"dataframe\">\n",
       "  <thead>\n",
       "    <tr style=\"text-align: right;\">\n",
       "      <th></th>\n",
       "      <th>count</th>\n",
       "      <th>driver_name</th>\n",
       "      <th>driver_rating</th>\n",
       "      <th>end_location</th>\n",
       "      <th>end_location_state</th>\n",
       "      <th>end_zip_code</th>\n",
       "      <th>license_plate</th>\n",
       "      <th>payment_amount</th>\n",
       "      <th>payment_tip_amount</th>\n",
       "      <th>request_time_millis</th>\n",
       "      <th>rider_is_premium</th>\n",
       "      <th>rider_name</th>\n",
       "      <th>rider_rating</th>\n",
       "      <th>start_location</th>\n",
       "      <th>start_location_state</th>\n",
       "      <th>start_zip_code</th>\n",
       "      <th>trip_end_time_millis</th>\n",
       "      <th>trip_start_time_millis</th>\n",
       "      <th>trip_wait_time_millis</th>\n",
       "    </tr>\n",
       "  </thead>\n",
       "  <tbody>\n",
       "    <tr>\n",
       "      <th>0</th>\n",
       "      <td>1</td>\n",
       "      <td>Gloria Hayden</td>\n",
       "      <td>1</td>\n",
       "      <td>Rückersdorf</td>\n",
       "      <td>Bayern</td>\n",
       "      <td>90607</td>\n",
       "      <td>EC-AK-00</td>\n",
       "      <td>33.35</td>\n",
       "      <td>13.0</td>\n",
       "      <td>1618269534009</td>\n",
       "      <td>0</td>\n",
       "      <td>Darryl Prieto</td>\n",
       "      <td>4</td>\n",
       "      <td>Rietz-Neuendorf</td>\n",
       "      <td>Brandenburg</td>\n",
       "      <td>15848</td>\n",
       "      <td>1618271937469</td>\n",
       "      <td>1618269929777</td>\n",
       "      <td>395768</td>\n",
       "    </tr>\n",
       "    <tr>\n",
       "      <th>1</th>\n",
       "      <td>1</td>\n",
       "      <td>Vivian Bryant</td>\n",
       "      <td>4</td>\n",
       "      <td>Hanau</td>\n",
       "      <td>Hessen</td>\n",
       "      <td>63450</td>\n",
       "      <td>ZQ-NE-67</td>\n",
       "      <td>345.80</td>\n",
       "      <td>16.0</td>\n",
       "      <td>1618271419019</td>\n",
       "      <td>0</td>\n",
       "      <td>Lawanda Ramsey</td>\n",
       "      <td>0</td>\n",
       "      <td>Rietz-Neuendorf</td>\n",
       "      <td>Brandenburg</td>\n",
       "      <td>15848</td>\n",
       "      <td>1618296034464</td>\n",
       "      <td>1618271605893</td>\n",
       "      <td>186874</td>\n",
       "    </tr>\n",
       "  </tbody>\n",
       "</table>\n",
       "</div>"
      ],
      "text/plain": [
       "   count    driver_name  driver_rating end_location end_location_state  \\\n",
       "0      1  Gloria Hayden              1  Rückersdorf             Bayern   \n",
       "1      1  Vivian Bryant              4        Hanau             Hessen   \n",
       "\n",
       "  end_zip_code license_plate  payment_amount  payment_tip_amount  \\\n",
       "0        90607      EC-AK-00           33.35                13.0   \n",
       "1        63450      ZQ-NE-67          345.80                16.0   \n",
       "\n",
       "   request_time_millis  rider_is_premium      rider_name  rider_rating  \\\n",
       "0        1618269534009                 0   Darryl Prieto             4   \n",
       "1        1618271419019                 0  Lawanda Ramsey             0   \n",
       "\n",
       "    start_location start_location_state start_zip_code  trip_end_time_millis  \\\n",
       "0  Rietz-Neuendorf          Brandenburg          15848         1618271937469   \n",
       "1  Rietz-Neuendorf          Brandenburg          15848         1618296034464   \n",
       "\n",
       "   trip_start_time_millis  trip_wait_time_millis  \n",
       "0           1618269929777                 395768  \n",
       "1           1618271605893                 186874  "
      ]
     },
     "metadata": {},
     "output_type": "display_data"
    },
    {
     "name": "stdout",
     "output_type": "stream",
     "text": [
      "Metrics of execution of: select * from XX_TABLE WHERE start_location=XX_STARTLOCATION\n"
     ]
    },
    {
     "data": {
      "text/html": [
       "<div>\n",
       "<style scoped>\n",
       "    .dataframe tbody tr th:only-of-type {\n",
       "        vertical-align: middle;\n",
       "    }\n",
       "\n",
       "    .dataframe tbody tr th {\n",
       "        vertical-align: top;\n",
       "    }\n",
       "\n",
       "    .dataframe thead th {\n",
       "        text-align: right;\n",
       "    }\n",
       "</style>\n",
       "<table border=\"1\" class=\"dataframe\">\n",
       "  <thead>\n",
       "    <tr style=\"text-align: right;\">\n",
       "      <th></th>\n",
       "      <th>indextype</th>\n",
       "      <th>table</th>\n",
       "      <th>numDocsScanned</th>\n",
       "      <th>numEntriesScannedInFilter</th>\n",
       "      <th>numEntriesScannedPostFilter</th>\n",
       "      <th>totalDocs</th>\n",
       "      <th>timeUsedMs</th>\n",
       "      <th>minConsumingFreshnessTimeMs</th>\n",
       "      <th>exceptions</th>\n",
       "    </tr>\n",
       "  </thead>\n",
       "  <tbody>\n",
       "    <tr>\n",
       "      <th>0</th>\n",
       "      <td>Default Index (Dictionary-encoded forward index with bit compression) for each column</td>\n",
       "      <td>trips_default_index</td>\n",
       "      <td>10</td>\n",
       "      <td>11441</td>\n",
       "      <td>190</td>\n",
       "      <td>308637</td>\n",
       "      <td>12</td>\n",
       "      <td>1618057229495</td>\n",
       "      <td>[]</td>\n",
       "    </tr>\n",
       "    <tr>\n",
       "      <th>1</th>\n",
       "      <td>Sorted forward index with run-length encoding on start location</td>\n",
       "      <td>trips_sortedForwardIndex</td>\n",
       "      <td>10</td>\n",
       "      <td>0</td>\n",
       "      <td>190</td>\n",
       "      <td>308637</td>\n",
       "      <td>14</td>\n",
       "      <td>1618057229510</td>\n",
       "      <td>[]</td>\n",
       "    </tr>\n",
       "  </tbody>\n",
       "</table>\n",
       "</div>"
      ],
      "text/plain": [
       "                                                                               indextype  \\\n",
       "0  Default Index (Dictionary-encoded forward index with bit compression) for each column   \n",
       "1                        Sorted forward index with run-length encoding on start location   \n",
       "\n",
       "                      table numDocsScanned numEntriesScannedInFilter  \\\n",
       "0       trips_default_index             10                     11441   \n",
       "1  trips_sortedForwardIndex             10                         0   \n",
       "\n",
       "  numEntriesScannedPostFilter totalDocs timeUsedMs  \\\n",
       "0                         190    308637         12   \n",
       "1                         190    308637         14   \n",
       "\n",
       "  minConsumingFreshnessTimeMs exceptions  \n",
       "0               1618057229495         []  \n",
       "1               1618057229510         []  "
      ]
     },
     "metadata": {},
     "output_type": "display_data"
    }
   ],
   "source": [
    "executeSQLStatement(\"select * from XX_TABLE WHERE start_location=XX_STARTLOCATION\", [['trips_default_index', 'Default Index (Dictionary-encoded forward index with bit compression) for each column'],['trips_sortedForwardIndex', 'Sorted forward index with run-length encoding on start location']])"
   ]
  },
  {
   "cell_type": "markdown",
   "id": "forty-senate",
   "metadata": {},
   "source": [
    "Comparison of __trips_default_index (0)__ and __trips_sortedInvertedIndex_startLocation (1)__:\n",
    "\n",
    "XXXXXX The sorted forward index on column start_location of table __trips_sortedInvertedIndex_startLocation (1)__ has the advantage of data locality. Because of this, numEntriesScannedInFilter is less than for the column with default index.\n",
    "Query execution time can be faster when using the sorted forward index on column start_location."
   ]
  },
  {
   "cell_type": "markdown",
   "id": "adjusted-arctic",
   "metadata": {},
   "source": [
    "#### Default Index (Dictionary-encoded forward index with bit compression) vs Inverted index (Bitmap + Sorted)"
   ]
  },
  {
   "cell_type": "code",
   "execution_count": 582,
   "id": "decreased-warner",
   "metadata": {},
   "outputs": [
    {
     "name": "stdout",
     "output_type": "stream",
     "text": [
      "Top two result records of: select driver_name, rider_name from trips_default_index WHERE start_location='Rietz-Neuendorf'\n"
     ]
    },
    {
     "data": {
      "text/html": [
       "<div>\n",
       "<style scoped>\n",
       "    .dataframe tbody tr th:only-of-type {\n",
       "        vertical-align: middle;\n",
       "    }\n",
       "\n",
       "    .dataframe tbody tr th {\n",
       "        vertical-align: top;\n",
       "    }\n",
       "\n",
       "    .dataframe thead th {\n",
       "        text-align: right;\n",
       "    }\n",
       "</style>\n",
       "<table border=\"1\" class=\"dataframe\">\n",
       "  <thead>\n",
       "    <tr style=\"text-align: right;\">\n",
       "      <th></th>\n",
       "      <th>driver_name</th>\n",
       "      <th>rider_name</th>\n",
       "    </tr>\n",
       "  </thead>\n",
       "  <tbody>\n",
       "    <tr>\n",
       "      <th>0</th>\n",
       "      <td>Gloria Hayden</td>\n",
       "      <td>Darryl Prieto</td>\n",
       "    </tr>\n",
       "    <tr>\n",
       "      <th>1</th>\n",
       "      <td>Vivian Bryant</td>\n",
       "      <td>Lawanda Ramsey</td>\n",
       "    </tr>\n",
       "  </tbody>\n",
       "</table>\n",
       "</div>"
      ],
      "text/plain": [
       "     driver_name      rider_name\n",
       "0  Gloria Hayden   Darryl Prieto\n",
       "1  Vivian Bryant  Lawanda Ramsey"
      ]
     },
     "metadata": {},
     "output_type": "display_data"
    },
    {
     "name": "stdout",
     "output_type": "stream",
     "text": [
      "Metrics of execution of: select driver_name, rider_name from XX_TABLE WHERE start_location=XX_STARTLOCATION\n"
     ]
    },
    {
     "data": {
      "text/html": [
       "<div>\n",
       "<style scoped>\n",
       "    .dataframe tbody tr th:only-of-type {\n",
       "        vertical-align: middle;\n",
       "    }\n",
       "\n",
       "    .dataframe tbody tr th {\n",
       "        vertical-align: top;\n",
       "    }\n",
       "\n",
       "    .dataframe thead th {\n",
       "        text-align: right;\n",
       "    }\n",
       "</style>\n",
       "<table border=\"1\" class=\"dataframe\">\n",
       "  <thead>\n",
       "    <tr style=\"text-align: right;\">\n",
       "      <th></th>\n",
       "      <th>indextype</th>\n",
       "      <th>table</th>\n",
       "      <th>numDocsScanned</th>\n",
       "      <th>numEntriesScannedInFilter</th>\n",
       "      <th>numEntriesScannedPostFilter</th>\n",
       "      <th>totalDocs</th>\n",
       "      <th>timeUsedMs</th>\n",
       "      <th>minConsumingFreshnessTimeMs</th>\n",
       "      <th>exceptions</th>\n",
       "    </tr>\n",
       "  </thead>\n",
       "  <tbody>\n",
       "    <tr>\n",
       "      <th>0</th>\n",
       "      <td>Default Index (Dictionary-encoded forward index with bit compression) for each column</td>\n",
       "      <td>trips_default_index</td>\n",
       "      <td>10</td>\n",
       "      <td>11441</td>\n",
       "      <td>20</td>\n",
       "      <td>308637</td>\n",
       "      <td>5</td>\n",
       "      <td>1618057229495</td>\n",
       "      <td>[]</td>\n",
       "    </tr>\n",
       "    <tr>\n",
       "      <th>1</th>\n",
       "      <td>Bitmap inverted index on start_location</td>\n",
       "      <td>trips_bitmapInvertedIndex_startLocation</td>\n",
       "      <td>10</td>\n",
       "      <td>0</td>\n",
       "      <td>20</td>\n",
       "      <td>308637</td>\n",
       "      <td>8</td>\n",
       "      <td>1618057229499</td>\n",
       "      <td>[]</td>\n",
       "    </tr>\n",
       "    <tr>\n",
       "      <th>2</th>\n",
       "      <td>Sorted inverted index on start_location</td>\n",
       "      <td>trips_sortedInvertedIndex_startLocation</td>\n",
       "      <td>10</td>\n",
       "      <td>0</td>\n",
       "      <td>20</td>\n",
       "      <td>308637</td>\n",
       "      <td>10</td>\n",
       "      <td>1618057229492</td>\n",
       "      <td>[]</td>\n",
       "    </tr>\n",
       "  </tbody>\n",
       "</table>\n",
       "</div>"
      ],
      "text/plain": [
       "                                                                               indextype  \\\n",
       "0  Default Index (Dictionary-encoded forward index with bit compression) for each column   \n",
       "1                                                Bitmap inverted index on start_location   \n",
       "2                                                Sorted inverted index on start_location   \n",
       "\n",
       "                                     table numDocsScanned  \\\n",
       "0                      trips_default_index             10   \n",
       "1  trips_bitmapInvertedIndex_startLocation             10   \n",
       "2  trips_sortedInvertedIndex_startLocation             10   \n",
       "\n",
       "  numEntriesScannedInFilter numEntriesScannedPostFilter totalDocs timeUsedMs  \\\n",
       "0                     11441                          20    308637          5   \n",
       "1                         0                          20    308637          8   \n",
       "2                         0                          20    308637         10   \n",
       "\n",
       "  minConsumingFreshnessTimeMs exceptions  \n",
       "0               1618057229495         []  \n",
       "1               1618057229499         []  \n",
       "2               1618057229492         []  "
      ]
     },
     "metadata": {},
     "output_type": "display_data"
    }
   ],
   "source": [
    "executeSQLStatement(\"select driver_name, rider_name from XX_TABLE WHERE start_location=XX_STARTLOCATION\", [['trips_default_index', 'Default Index (Dictionary-encoded forward index with bit compression) for each column'],['trips_bitmapInvertedIndex_startLocation', 'Bitmap inverted index on start_location'],['trips_sortedInvertedIndex_startLocation','Sorted inverted index on start_location']])"
   ]
  },
  {
   "cell_type": "markdown",
   "id": "stopped-replacement",
   "metadata": {},
   "source": [
    "Comparison of __trips_default_index (0)__ and __trips_bitmapInvertedIndex_startLocation\t (4)__:\n",
    "\n",
    "Bitmap Inverted Index ( __trips_bitmapInvertedIndex_startLocation (5)__)\n",
    "An inverted index can improve the query performance. In this case, no entries have to be scanned in filter and the query runtime is faster compared to using the dictionary encoded index (0) or a raw value forward index (1).\n",
    "\n",
    "By using the sorted inverted index, the performance can benefit from data locality. \n",
    "When grouping by start_location, query execution on __trips_bitmapInvertedIndex_startLocation__\t and __trips_sortedInvertedIndex_startLocation__\t can perform faster than than trips_default_index."
   ]
  },
  {
   "cell_type": "markdown",
   "id": "senior-montreal",
   "metadata": {},
   "source": [
    "#### Text Search Support"
   ]
  },
  {
   "cell_type": "markdown",
   "id": "moderate-cologne",
   "metadata": {},
   "source": [
    "A query searching for all driver name, which contain a specfic first name, will only run successful on table trips_textIndex, as it has an index defined on column driver_name. The same query execution on other tables will fail, the metrics table only displays the executions without an exception."
   ]
  },
  {
   "cell_type": "code",
   "execution_count": 583,
   "id": "stone-fleece",
   "metadata": {},
   "outputs": [
    {
     "name": "stdout",
     "output_type": "stream",
     "text": [
      "Top two result records of: select * from trips_textIndex WHERE TEXT_MATCH ('driver_name','Gloria') LIMIT 50000\n"
     ]
    },
    {
     "data": {
      "text/html": [
       "<div>\n",
       "<style scoped>\n",
       "    .dataframe tbody tr th:only-of-type {\n",
       "        vertical-align: middle;\n",
       "    }\n",
       "\n",
       "    .dataframe tbody tr th {\n",
       "        vertical-align: top;\n",
       "    }\n",
       "\n",
       "    .dataframe thead th {\n",
       "        text-align: right;\n",
       "    }\n",
       "</style>\n",
       "<table border=\"1\" class=\"dataframe\">\n",
       "  <thead>\n",
       "    <tr style=\"text-align: right;\">\n",
       "      <th></th>\n",
       "      <th>count</th>\n",
       "      <th>driver_name</th>\n",
       "      <th>driver_rating</th>\n",
       "      <th>end_location</th>\n",
       "      <th>end_location_state</th>\n",
       "      <th>end_zip_code</th>\n",
       "      <th>license_plate</th>\n",
       "      <th>payment_amount</th>\n",
       "      <th>payment_tip_amount</th>\n",
       "      <th>request_time_millis</th>\n",
       "      <th>rider_is_premium</th>\n",
       "      <th>rider_name</th>\n",
       "      <th>rider_rating</th>\n",
       "      <th>start_location</th>\n",
       "      <th>start_location_state</th>\n",
       "      <th>start_zip_code</th>\n",
       "      <th>trip_end_time_millis</th>\n",
       "      <th>trip_start_time_millis</th>\n",
       "      <th>trip_wait_time_millis</th>\n",
       "    </tr>\n",
       "  </thead>\n",
       "  <tbody>\n",
       "    <tr>\n",
       "      <th>0</th>\n",
       "      <td>1</td>\n",
       "      <td>Gloria Driver</td>\n",
       "      <td>3</td>\n",
       "      <td>Ehningen</td>\n",
       "      <td>Baden-Württemberg</td>\n",
       "      <td>71139</td>\n",
       "      <td>US-TV-61</td>\n",
       "      <td>1224.45</td>\n",
       "      <td>48.0</td>\n",
       "      <td>1618110080018</td>\n",
       "      <td>0</td>\n",
       "      <td>William Orgill</td>\n",
       "      <td>1</td>\n",
       "      <td>Auhagen Düdinghausen</td>\n",
       "      <td>Niedersachsen</td>\n",
       "      <td>31553</td>\n",
       "      <td>1618167891657</td>\n",
       "      <td>1618113471657</td>\n",
       "      <td>3391639</td>\n",
       "    </tr>\n",
       "    <tr>\n",
       "      <th>1</th>\n",
       "      <td>1</td>\n",
       "      <td>Gloria Hayden</td>\n",
       "      <td>3</td>\n",
       "      <td>Merzig</td>\n",
       "      <td>Saarland</td>\n",
       "      <td>66663</td>\n",
       "      <td>TL-SC-32</td>\n",
       "      <td>1624.86</td>\n",
       "      <td>10.0</td>\n",
       "      <td>1618110366016</td>\n",
       "      <td>1</td>\n",
       "      <td>Valerie Kuznicki</td>\n",
       "      <td>2</td>\n",
       "      <td>Tiefenthal</td>\n",
       "      <td>Rheinland-Pfalz</td>\n",
       "      <td>67311</td>\n",
       "      <td>1618172832462</td>\n",
       "      <td>1618110477745</td>\n",
       "      <td>111729</td>\n",
       "    </tr>\n",
       "  </tbody>\n",
       "</table>\n",
       "</div>"
      ],
      "text/plain": [
       "   count    driver_name  driver_rating end_location end_location_state  \\\n",
       "0      1  Gloria Driver              3     Ehningen  Baden-Württemberg   \n",
       "1      1  Gloria Hayden              3       Merzig           Saarland   \n",
       "\n",
       "  end_zip_code license_plate  payment_amount  payment_tip_amount  \\\n",
       "0        71139      US-TV-61         1224.45                48.0   \n",
       "1        66663      TL-SC-32         1624.86                10.0   \n",
       "\n",
       "   request_time_millis  rider_is_premium        rider_name  rider_rating  \\\n",
       "0        1618110080018                 0    William Orgill             1   \n",
       "1        1618110366016                 1  Valerie Kuznicki             2   \n",
       "\n",
       "         start_location start_location_state start_zip_code  \\\n",
       "0  Auhagen Düdinghausen        Niedersachsen          31553   \n",
       "1            Tiefenthal      Rheinland-Pfalz          67311   \n",
       "\n",
       "   trip_end_time_millis  trip_start_time_millis  trip_wait_time_millis  \n",
       "0         1618167891657           1618113471657                3391639  \n",
       "1         1618172832462           1618110477745                 111729  "
      ]
     },
     "metadata": {},
     "output_type": "display_data"
    },
    {
     "name": "stdout",
     "output_type": "stream",
     "text": [
      "Metrics of execution of: select * from XX_TABLE WHERE TEXT_MATCH ('driver_name',XX_DRIVERNAME) LIMIT 50000\n"
     ]
    },
    {
     "data": {
      "text/html": [
       "<div>\n",
       "<style scoped>\n",
       "    .dataframe tbody tr th:only-of-type {\n",
       "        vertical-align: middle;\n",
       "    }\n",
       "\n",
       "    .dataframe tbody tr th {\n",
       "        vertical-align: top;\n",
       "    }\n",
       "\n",
       "    .dataframe thead th {\n",
       "        text-align: right;\n",
       "    }\n",
       "</style>\n",
       "<table border=\"1\" class=\"dataframe\">\n",
       "  <thead>\n",
       "    <tr style=\"text-align: right;\">\n",
       "      <th></th>\n",
       "      <th>indextype</th>\n",
       "      <th>table</th>\n",
       "      <th>numDocsScanned</th>\n",
       "      <th>numEntriesScannedInFilter</th>\n",
       "      <th>numEntriesScannedPostFilter</th>\n",
       "      <th>totalDocs</th>\n",
       "      <th>timeUsedMs</th>\n",
       "      <th>minConsumingFreshnessTimeMs</th>\n",
       "      <th>exceptions</th>\n",
       "    </tr>\n",
       "  </thead>\n",
       "  <tbody>\n",
       "    <tr>\n",
       "      <th>0</th>\n",
       "      <td>Text Index</td>\n",
       "      <td>trips_textIndex</td>\n",
       "      <td>621</td>\n",
       "      <td>0</td>\n",
       "      <td>11799</td>\n",
       "      <td>308637</td>\n",
       "      <td>132</td>\n",
       "      <td>1618057229497</td>\n",
       "      <td>[]</td>\n",
       "    </tr>\n",
       "  </tbody>\n",
       "</table>\n",
       "</div>"
      ],
      "text/plain": [
       "    indextype            table numDocsScanned numEntriesScannedInFilter  \\\n",
       "0  Text Index  trips_textIndex            621                         0   \n",
       "\n",
       "  numEntriesScannedPostFilter totalDocs timeUsedMs  \\\n",
       "0                       11799    308637        132   \n",
       "\n",
       "  minConsumingFreshnessTimeMs exceptions  \n",
       "0               1618057229497         []  "
      ]
     },
     "metadata": {},
     "output_type": "display_data"
    }
   ],
   "source": [
    "executeSQLStatement(\"select * from XX_TABLE WHERE TEXT_MATCH ('driver_name',XX_DRIVERNAME) LIMIT 50000\", [['trips_textIndex','Text Index']])"
   ]
  },
  {
   "cell_type": "markdown",
   "id": "loving-pennsylvania",
   "metadata": {},
   "source": [
    "#### Star-Tree Index\n",
    "The Start-Tree index is utilizes pre-aggregation of results and is built on multiple columns. This index can improve the performance for specific queries, because the number of values to be processed is reduced by the pre-aggregation. Although usage of a Star-Tree index has the advantage of decreased query runtime, the table size is increased.\n",
    "For table trips_starTreeIndex, a Star-Tree Index is built on the dimensions rider_is_premium, start_location_state and end_location. The sum of payment_amount and is be pre-aggregated and materialized based on this dimensions."
   ]
  },
  {
   "cell_type": "code",
   "execution_count": 584,
   "id": "unavailable-background",
   "metadata": {},
   "outputs": [
    {
     "name": "stdout",
     "output_type": "stream",
     "text": [
      "Top two result records of: SELECT SUM(payment_amount) FROM trips_default_index\n"
     ]
    },
    {
     "data": {
      "text/html": [
       "<div>\n",
       "<style scoped>\n",
       "    .dataframe tbody tr th:only-of-type {\n",
       "        vertical-align: middle;\n",
       "    }\n",
       "\n",
       "    .dataframe tbody tr th {\n",
       "        vertical-align: top;\n",
       "    }\n",
       "\n",
       "    .dataframe thead th {\n",
       "        text-align: right;\n",
       "    }\n",
       "</style>\n",
       "<table border=\"1\" class=\"dataframe\">\n",
       "  <thead>\n",
       "    <tr style=\"text-align: right;\">\n",
       "      <th></th>\n",
       "      <th>sum(payment_amount)</th>\n",
       "    </tr>\n",
       "  </thead>\n",
       "  <tbody>\n",
       "    <tr>\n",
       "      <th>0</th>\n",
       "      <td>2.171565e+08</td>\n",
       "    </tr>\n",
       "  </tbody>\n",
       "</table>\n",
       "</div>"
      ],
      "text/plain": [
       "   sum(payment_amount)\n",
       "0         2.171565e+08"
      ]
     },
     "metadata": {},
     "output_type": "display_data"
    },
    {
     "name": "stdout",
     "output_type": "stream",
     "text": [
      "Metrics of execution of: SELECT SUM(payment_amount) FROM XX_TABLE\n"
     ]
    },
    {
     "data": {
      "text/html": [
       "<div>\n",
       "<style scoped>\n",
       "    .dataframe tbody tr th:only-of-type {\n",
       "        vertical-align: middle;\n",
       "    }\n",
       "\n",
       "    .dataframe tbody tr th {\n",
       "        vertical-align: top;\n",
       "    }\n",
       "\n",
       "    .dataframe thead th {\n",
       "        text-align: right;\n",
       "    }\n",
       "</style>\n",
       "<table border=\"1\" class=\"dataframe\">\n",
       "  <thead>\n",
       "    <tr style=\"text-align: right;\">\n",
       "      <th></th>\n",
       "      <th>indextype</th>\n",
       "      <th>table</th>\n",
       "      <th>numDocsScanned</th>\n",
       "      <th>numEntriesScannedInFilter</th>\n",
       "      <th>numEntriesScannedPostFilter</th>\n",
       "      <th>totalDocs</th>\n",
       "      <th>timeUsedMs</th>\n",
       "      <th>minConsumingFreshnessTimeMs</th>\n",
       "      <th>exceptions</th>\n",
       "    </tr>\n",
       "  </thead>\n",
       "  <tbody>\n",
       "    <tr>\n",
       "      <th>0</th>\n",
       "      <td>Default Index (Dictionary-encoded forward index with bit compression) for each column</td>\n",
       "      <td>trips_default_index</td>\n",
       "      <td>308637</td>\n",
       "      <td>0</td>\n",
       "      <td>308637</td>\n",
       "      <td>308637</td>\n",
       "      <td>17</td>\n",
       "      <td>1618057229495</td>\n",
       "      <td>[]</td>\n",
       "    </tr>\n",
       "    <tr>\n",
       "      <th>1</th>\n",
       "      <td>Start Tree 1</td>\n",
       "      <td>trips_starTreeIndex</td>\n",
       "      <td>8652</td>\n",
       "      <td>0</td>\n",
       "      <td>8652</td>\n",
       "      <td>308637</td>\n",
       "      <td>7</td>\n",
       "      <td>1618057229493</td>\n",
       "      <td>[]</td>\n",
       "    </tr>\n",
       "  </tbody>\n",
       "</table>\n",
       "</div>"
      ],
      "text/plain": [
       "                                                                               indextype  \\\n",
       "0  Default Index (Dictionary-encoded forward index with bit compression) for each column   \n",
       "1                                                                           Start Tree 1   \n",
       "\n",
       "                 table numDocsScanned numEntriesScannedInFilter  \\\n",
       "0  trips_default_index         308637                         0   \n",
       "1  trips_starTreeIndex           8652                         0   \n",
       "\n",
       "  numEntriesScannedPostFilter totalDocs timeUsedMs  \\\n",
       "0                      308637    308637         17   \n",
       "1                        8652    308637          7   \n",
       "\n",
       "  minConsumingFreshnessTimeMs exceptions  \n",
       "0               1618057229495         []  \n",
       "1               1618057229493         []  "
      ]
     },
     "metadata": {},
     "output_type": "display_data"
    }
   ],
   "source": [
    "executeSQLStatement(\"SELECT SUM(payment_amount) FROM XX_TABLE\",[[\"trips_default_index\",\"Default Index (Dictionary-encoded forward index with bit compression) for each column\"],[\"trips_starTreeIndex\", \"Start Tree 1\"]] )"
   ]
  },
  {
   "cell_type": "markdown",
   "id": "living-dependence",
   "metadata": {},
   "source": [
    "When selecting the Star-Node without grouping by any dimension, Pinot doesn't need to access all documents. Instead, only the Star-Node of each segment is required. The reason, why numDocsScanned is unequal the number of segments is, that one segment isn't completed yet. Pinot accesses each segment and each records of the segment which still has the status IN_PROGRESS."
   ]
  },
  {
   "cell_type": "code",
   "execution_count": 585,
   "id": "failing-confidence",
   "metadata": {},
   "outputs": [
    {
     "name": "stdout",
     "output_type": "stream",
     "text": [
      "The table with the Star Tree Index consists of : 16 segments\n"
     ]
    }
   ],
   "source": [
    "print(\"The table with the Star Tree Index consists of : \" + str(len(requests.get('http://pinot-controller.pinot:9000/segments/trips_starTreeIndex').json()[0]['REALTIME'])) + \" segments\")"
   ]
  },
  {
   "cell_type": "markdown",
   "id": "abstract-boost",
   "metadata": {},
   "source": [
    "Filter on the dimension rider_is_premium, which build the first node of the Star Tree Index, halves the number of numDocsScanned. This is because rider_is_premiumn is assigned randomly in our data generation, so there is a fifty percent chance that a rider is not premium and less documents of the not finished segment need to be scanned."
   ]
  },
  {
   "cell_type": "code",
   "execution_count": 586,
   "id": "heated-myrtle",
   "metadata": {},
   "outputs": [
    {
     "name": "stdout",
     "output_type": "stream",
     "text": [
      "Top two result records of: SELECT SUM(payment_amount) FROM trips_default_index WHERE rider_is_premium = 0\n"
     ]
    },
    {
     "data": {
      "text/html": [
       "<div>\n",
       "<style scoped>\n",
       "    .dataframe tbody tr th:only-of-type {\n",
       "        vertical-align: middle;\n",
       "    }\n",
       "\n",
       "    .dataframe tbody tr th {\n",
       "        vertical-align: top;\n",
       "    }\n",
       "\n",
       "    .dataframe thead th {\n",
       "        text-align: right;\n",
       "    }\n",
       "</style>\n",
       "<table border=\"1\" class=\"dataframe\">\n",
       "  <thead>\n",
       "    <tr style=\"text-align: right;\">\n",
       "      <th></th>\n",
       "      <th>sum(payment_amount)</th>\n",
       "    </tr>\n",
       "  </thead>\n",
       "  <tbody>\n",
       "    <tr>\n",
       "      <th>0</th>\n",
       "      <td>1.085799e+08</td>\n",
       "    </tr>\n",
       "  </tbody>\n",
       "</table>\n",
       "</div>"
      ],
      "text/plain": [
       "   sum(payment_amount)\n",
       "0         1.085799e+08"
      ]
     },
     "metadata": {},
     "output_type": "display_data"
    },
    {
     "name": "stdout",
     "output_type": "stream",
     "text": [
      "Metrics of execution of: SELECT SUM(payment_amount) FROM XX_TABLE WHERE rider_is_premium = 0\n"
     ]
    },
    {
     "data": {
      "text/html": [
       "<div>\n",
       "<style scoped>\n",
       "    .dataframe tbody tr th:only-of-type {\n",
       "        vertical-align: middle;\n",
       "    }\n",
       "\n",
       "    .dataframe tbody tr th {\n",
       "        vertical-align: top;\n",
       "    }\n",
       "\n",
       "    .dataframe thead th {\n",
       "        text-align: right;\n",
       "    }\n",
       "</style>\n",
       "<table border=\"1\" class=\"dataframe\">\n",
       "  <thead>\n",
       "    <tr style=\"text-align: right;\">\n",
       "      <th></th>\n",
       "      <th>indextype</th>\n",
       "      <th>table</th>\n",
       "      <th>numDocsScanned</th>\n",
       "      <th>numEntriesScannedInFilter</th>\n",
       "      <th>numEntriesScannedPostFilter</th>\n",
       "      <th>totalDocs</th>\n",
       "      <th>timeUsedMs</th>\n",
       "      <th>minConsumingFreshnessTimeMs</th>\n",
       "      <th>exceptions</th>\n",
       "    </tr>\n",
       "  </thead>\n",
       "  <tbody>\n",
       "    <tr>\n",
       "      <th>0</th>\n",
       "      <td>Default Index (Dictionary-encoded forward index with bit compression) for each column</td>\n",
       "      <td>trips_default_index</td>\n",
       "      <td>154446</td>\n",
       "      <td>308637</td>\n",
       "      <td>154446</td>\n",
       "      <td>308637</td>\n",
       "      <td>20</td>\n",
       "      <td>1618057229495</td>\n",
       "      <td>[]</td>\n",
       "    </tr>\n",
       "    <tr>\n",
       "      <th>1</th>\n",
       "      <td>Start Tree 1</td>\n",
       "      <td>trips_starTreeIndex</td>\n",
       "      <td>4375</td>\n",
       "      <td>8637</td>\n",
       "      <td>4375</td>\n",
       "      <td>308637</td>\n",
       "      <td>11</td>\n",
       "      <td>1618057229493</td>\n",
       "      <td>[]</td>\n",
       "    </tr>\n",
       "  </tbody>\n",
       "</table>\n",
       "</div>"
      ],
      "text/plain": [
       "                                                                               indextype  \\\n",
       "0  Default Index (Dictionary-encoded forward index with bit compression) for each column   \n",
       "1                                                                           Start Tree 1   \n",
       "\n",
       "                 table numDocsScanned numEntriesScannedInFilter  \\\n",
       "0  trips_default_index         154446                    308637   \n",
       "1  trips_starTreeIndex           4375                      8637   \n",
       "\n",
       "  numEntriesScannedPostFilter totalDocs timeUsedMs  \\\n",
       "0                      154446    308637         20   \n",
       "1                        4375    308637         11   \n",
       "\n",
       "  minConsumingFreshnessTimeMs exceptions  \n",
       "0               1618057229495         []  \n",
       "1               1618057229493         []  "
      ]
     },
     "metadata": {},
     "output_type": "display_data"
    }
   ],
   "source": [
    "executeSQLStatement(\"SELECT SUM(payment_amount) FROM XX_TABLE WHERE rider_is_premium = 0\",[[\"trips_default_index\",\"Default Index (Dictionary-encoded forward index with bit compression) for each column\"],[\"trips_starTreeIndex\", \"Start Tree 1\"]])"
   ]
  },
  {
   "cell_type": "markdown",
   "id": "median-parallel",
   "metadata": {},
   "source": [
    "##### Trace Details \n",
    "The trace details of the query execution display how much time was spend for which operator execution. We extract the operator details in the following. The query executed on trips_default_index requires a lot of Aggregation Operators, as no data is preaggregated like it is the case for the table trips_starTreeIndex."
   ]
  },
  {
   "cell_type": "code",
   "execution_count": 587,
   "id": "friendly-picture",
   "metadata": {},
   "outputs": [
    {
     "name": "stdout",
     "output_type": "stream",
     "text": [
      "\n",
      "Get Trace Details for trips_starTreeIndex\n",
      "\n",
      "query: SELECT SUM(payment_amount) FROM trips_starTreeIndex WHERE rider_is_premium = 0\n",
      "['{\"AggregationOnlyCombineOperator Time\":2}', '{\"InstanceResponseOperator Time\":2}]}', '{\"AggregationOperator Time\":1}', '{\"DocIdSetOperator Time\":1}', '{\"ProjectionOperator Time\":1}', '{\"TransformOperator Time\":1}', '{\"AggregationOperator Time\":1}']\n",
      "\n",
      "Get Trace Details for trips_default_index\n",
      "\n",
      "query: SELECT SUM(payment_amount) FROM trips_default_index WHERE rider_is_premium = 0\n",
      "['{\"AggregationOnlyCombineOperator Time\":14}', '{\"InstanceResponseOperator Time\":14}]}', '{\"DocIdSetOperator Time\":1}', '{\"ProjectionOperator Time\":1}', '{\"TransformOperator Time\":1}', '{\"AggregationOperator Time\":1}', '{\"AggregationOperator Time\":1}', '{\"DocIdSetOperator Time\":1}', '{\"ProjectionOperator Time\":1}', '{\"TransformOperator Time\":1}', '{\"AggregationOperator Time\":1}', '{\"DocIdSetOperator Time\":1}', '{\"ProjectionOperator Time\":1}', '{\"TransformOperator Time\":1}', '{\"AggregationOperator Time\":1}', '{\"DocIdSetOperator Time\":1}', '{\"ProjectionOperator Time\":1}', '{\"TransformOperator Time\":1}', '{\"AggregationOperator Time\":1}', '{\"AggregationOperator Time\":1}', '{\"AggregationOperator Time\":1}', '{\"AggregationOperator Time\":1}', '{\"AggregationOperator Time\":1}', '{\"AggregationOperator Time\":1}', '{\"DocIdSetOperator Time\":1}', '{\"ProjectionOperator Time\":1}', '{\"TransformOperator Time\":1}', '{\"AggregationOperator Time\":1}', '{\"DocIdSetOperator Time\":1}', '{\"ProjectionOperator Time\":1}', '{\"TransformOperator Time\":1}', '{\"AggregationOperator Time\":1}', '{\"DocIdSetOperator Time\":1}', '{\"ProjectionOperator Time\":1}', '{\"TransformOperator Time\":1}', '{\"AggregationOperator Time\":1}', '{\"DocIdSetOperator Time\":1}', '{\"ProjectionOperator Time\":1}', '{\"TransformOperator Time\":1}', '{\"AggregationOperator Time\":1}']\n"
     ]
    }
   ],
   "source": [
    "def query_sql(query):\n",
    "    print(\"query: \" + query)\n",
    "    return requests.get('http://pinot-broker.pinot:8099/query/sql', params={\n",
    "        \"sql\" : query,\n",
    "        \"trace\": \"true\"\n",
    "    }).json()\n",
    "def getTraceDetails(sql):\n",
    "    response = query_sql(sql)\n",
    "    test = (response['traceInfo']['pinot-server-0.pinot-server-headless.pinot.svc.cluster.local'])[7:-3]\n",
    "    string_tracedetails = test.split(',')\n",
    "    # display only trace details with time > 0\n",
    "    tracedetails_time = []\n",
    "    for x in string_tracedetails:\n",
    "        if \"Time\" in x:\n",
    "            if \":0\" in x:\n",
    "                pass\n",
    "            else:\n",
    "                tracedetails_time.append(x)\n",
    "    print(tracedetails_time)\n",
    "\n",
    "print(\"\\nGet Trace Details for trips_starTreeIndex\\n\")\n",
    "getTraceDetails(\"SELECT SUM(payment_amount) FROM trips_starTreeIndex WHERE rider_is_premium = 0\")\n",
    "print(\"\\nGet Trace Details for trips_default_index\\n\")\n",
    "getTraceDetails(\"SELECT SUM(payment_amount) FROM trips_default_index WHERE rider_is_premium = 0\")"
   ]
  },
  {
   "cell_type": "markdown",
   "id": "sapphire-engine",
   "metadata": {},
   "source": [
    "### Indexes - Comparison with other database technologies\n",
    "Two main types of indexes in Apache Pinot are Forward Indexes and Inverted Indexes.\n",
    "Forward Indexes are most often used in traditional databases.\n",
    "Search Engines most often rely on the inverted index, one example is Elasticsearch."
   ]
  },
  {
   "cell_type": "markdown",
   "id": "black-survey",
   "metadata": {},
   "source": [
    "### Maintenance - Table Deletion"
   ]
  },
  {
   "cell_type": "code",
   "execution_count": 621,
   "id": "brave-earth",
   "metadata": {},
   "outputs": [
    {
     "name": "stdout",
     "output_type": "stream",
     "text": [
      "{'status': 'Tables: [trips_default_index_REALTIME] deleted'}\n",
      "{'status': 'Tables: [trips_rawForwardIndex_REALTIME] deleted'}\n",
      "{'status': 'Tables: [trips_sortedForwardIndex_REALTIME] deleted'}\n",
      "{'status': 'Tables: [trips_bitmapInvertedIndex_startLocation_REALTIME] deleted'}\n",
      "{'status': 'Tables: [trips_sortedInvertedIndex_startLocation_REALTIME] deleted'}\n",
      "{'status': 'Tables: [trips_starTreeIndex_REALTIME] deleted'}\n",
      "{'status': 'Tables: [trips_textIndex_REALTIME] deleted'}\n"
     ]
    }
   ],
   "source": [
    "## Delete Tables\n",
    "for table in table_list:\n",
    "    string = \"http://pinot-controller.pinot:9000/tables/\" + table[0]\n",
    "    response = requests.delete(string)\n",
    "    print(response.json())\n",
    "    table_list = []"
   ]
  }
 ],
 "metadata": {
  "kernelspec": {
   "display_name": "Python 3",
   "language": "python",
   "name": "python3"
  },
  "language_info": {
   "codemirror_mode": {
    "name": "ipython",
    "version": 3
   },
   "file_extension": ".py",
   "mimetype": "text/x-python",
   "name": "python",
   "nbconvert_exporter": "python",
   "pygments_lexer": "ipython3",
   "version": "3.8.8"
  }
 },
 "nbformat": 4,
 "nbformat_minor": 5
}
