{
 "cells": [
  {
   "cell_type": "markdown",
   "id": "sexual-invitation",
   "metadata": {},
   "source": [
    "## Segmentation in Pinot"
   ]
  },
  {
   "cell_type": "markdown",
   "id": "egyptian-class",
   "metadata": {},
   "source": [
    "Table contents in Pinot are expected to grow infinitely and thus need to be distributed across multiple nodes. The dataset is split into segments, which are comparable to shards/partitions in classical RDBMS. Segmentation is done in a time-based fashion, meaning that rows in a given segment will be timewisely close to each other.\n",
    "Segments store all columns of a table and organize data in columnar orientation for high encoding efficiency and optional pre-aggregation of metrics. In addition to values, segments store indices and other lookup-related data structures like dictionaries. By default values are stored using dictionary encoding, meaning that values are represented as dictionary IDs that reference a corresponding dictionary entry. This way, values can be stored with the minimum number of bits required, which depends on the cardinality of the column. "
   ]
  },
  {
   "cell_type": "code",
   "execution_count": null,
   "id": "informational-crest",
   "metadata": {},
   "outputs": [],
   "source": [
    "# all imports\n",
    "import requests\n",
    "import json\n",
    "import io\n",
    "import re\n",
    "import pandas as pd\n",
    "from kafka import KafkaConsumer"
   ]
  },
  {
   "cell_type": "code",
   "execution_count": null,
   "id": "bored-jordan",
   "metadata": {},
   "outputs": [],
   "source": [
    "# some helpers\n",
    "def server_name_from_instance(instance):\n",
    "    return re.search('pinot-server-[0-9]+', instance).group()\n",
    "\n",
    "def query_sql(query):\n",
    "    print(\"query: \" + query)\n",
    "    return requests.get('http://pinot-broker.pinot:8099/query/sql', params={\n",
    "        \"sql\" : query,\n",
    "        \"trace\": \"true\"\n",
    "    }).json()\n",
    "\n",
    "def query_result_to_dataframe(result):\n",
    "    return pd.DataFrame(columns=result['resultTable']['dataSchema']['columnNames'], data=result['resultTable']['rows'])\n",
    "\n",
    "def extract_query_statistics_from_result(result):\n",
    "    query_statistics_fields = [\"numServersQueried\",\"numServersResponded\",\"numSegmentsQueried\",\"numSegmentsProcessed\",\"numSegmentsMatched\",\"numConsumingSegmentsQueried\",\"numDocsScanned\",\"numEntriesScannedInFilter\",\"numEntriesScannedPostFilter\",\"numGroupsLimitReached\",\"totalDocs\",\"timeUsedMs\"]\n",
    "    return { key: result[key] for key in query_statistics_fields }\n",
    "\n",
    "def extract_query_statistics_from_result_dataframe(result):\n",
    "    return pd.DataFrame({\"value\": extract_query_statistics_from_result(result)})\n",
    "\n",
    "# def extract_segment_trace_from_result(result):\n",
    "#     trace_data = []\n",
    "#     for server, server_trace_json in result[\"traceInfo\"].items():\n",
    "#         server_name = server_name_from_instance(server)\n",
    "#         server_trace = json.loads(server_trace_json)\n",
    "#         for trace_dict in server_trace:\n",
    "#             for segment, segment_trace in trace_dict.items():\n",
    "#                 if re.match('[0-9]+_[0-9]+', segment) != None:\n",
    "#                     trace_data.append({\"segment\":segment, \"server\": server_name})\n",
    "    \n",
    "#     print(trace_data)\n",
    "#     trace_data.sort(key=lambda L: (int(re.search('[0-9]+_([0-9]+)', L[\"segment\"]).group(1)), L))\n",
    "#     return pd.DataFrame(trace_data)\n",
    "\n",
    "ordinal_pattern = re.compile(r'__[0-9]+__([0-9]+)__')\n",
    "def sort_by_ascending_ordinal(segments):\n",
    "    segments.sort(key=lambda L: (int(ordinal_pattern.search(L).group(1)), L))\n",
    "\n",
    "def segment_metadata_for_table(table):\n",
    "    segments = requests.get(f'http://pinot-controller.pinot:9000/segments/{table}').json()\n",
    "    \n",
    "    segment_metadata = {}\n",
    "    for segments_item in segments:\n",
    "        for table_type, type_segments in segments_item.items():\n",
    "            for segment in type_segments:\n",
    "                segment_type_name = f\"{segment}_{table_type}\"\n",
    "                segment_metadata[segment_type_name] = requests.get(f'http://pinot-controller.pinot:9000/segments/{table}/{segment}/metadata').json()\n",
    "    \n",
    "    return segment_metadata\n",
    "\n",
    "def segment_metadata_of_nth_segment(segment_metadata, n, table_type=\"REALTIME\"):\n",
    "    segments_of_type = []\n",
    "    for segment in segment_metadata.keys():\n",
    "        if segment.endswith(\"_\" + table_type):\n",
    "            segments_of_type.append(segment)\n",
    "    \n",
    "    sort_by_ascending_ordinal(segments_of_type)\n",
    "    return segment_metadata[segments_of_type[n]]\n",
    "\n",
    "\n",
    "def start_time_of_nth_segment(segment_metadata, n, table_type=\"REALTIME\"):\n",
    "    return segment_metadata_of_nth_segment(segment_metadata, n, table_type)[\"segment.start.time\"]"
   ]
  },
  {
   "cell_type": "code",
   "execution_count": null,
   "id": "valued-documentation",
   "metadata": {},
   "outputs": [],
   "source": [
    "# consumer = KafkaConsumer(group_id='test', bootstrap_servers=['pinot-kafka.pinot:9092'])\n",
    "# consumer.topics()"
   ]
  },
  {
   "cell_type": "code",
   "execution_count": null,
   "id": "incorrect-poison",
   "metadata": {},
   "outputs": [],
   "source": [
    "# requests.get('http://pinot-controller.pinot:9000/schemas/trips').json()"
   ]
  },
  {
   "cell_type": "code",
   "execution_count": null,
   "id": "beneficial-athletics",
   "metadata": {
    "tags": []
   },
   "outputs": [],
   "source": [
    "table_config = {\n",
    "  \"tableName\": \"\",\n",
    "  \"tableType\": \"REALTIME\",\n",
    "  \"segmentsConfig\": {\n",
    "    \"timeColumnName\": \"trip_start_time_millis\",\n",
    "    \"timeType\": \"MILLISECONDS\",\n",
    "    \"retentionTimeUnit\": \"DAYS\",\n",
    "    \"retentionTimeValue\": \"60\",\n",
    "    \"schemaName\": \"trips\",\n",
    "    \"replication\": \"1\",\n",
    "    \"replicasPerPartition\": \"1\"\n",
    "  },\n",
    "  \"tenants\": {},\n",
    "  \"tableIndexConfig\": {\n",
    "    \"loadMode\": \"MMAP\",\n",
    "    \"invertedIndexColumns\": [\n",
    "        \"rider_name\",\n",
    "        \"driver_name\",\n",
    "        \"start_location\",\n",
    "        \"end_location\"\n",
    "    ],\n",
    "    \"streamConfigs\": {\n",
    "      \"streamType\": \"kafka\",\n",
    "      \"stream.kafka.consumer.type\": \"simple\",\n",
    "      \"stream.kafka.topic.name\": \"trips\",\n",
    "      \"stream.kafka.decoder.class.name\": \"org.apache.pinot.plugin.stream.kafka.KafkaJSONMessageDecoder\",\n",
    "      \"stream.kafka.consumer.factory.class.name\": \"org.apache.pinot.plugin.stream.kafka20.KafkaConsumerFactory\",\n",
    "      \"stream.kafka.zk.broker.url\": \"pinot-kafka-zookeeper:2181\",\n",
    "      \"stream.kafka.broker.list\": \"pinot-kafka:9092\",\n",
    "      \"realtime.segment.flush.threshold.time\": \"12h\",\n",
    "      \"realtime.segment.flush.threshold.size\": \"80000\",\n",
    "      \"stream.kafka.consumer.prop.auto.offset.reset\": \"smallest\"\n",
    "    }\n",
    "  },\n",
    "  \"metadata\": {\n",
    "    \"customConfigs\": {}\n",
    "  }\n",
    "}\n",
    "\n",
    "table_config[\"tableName\"] = \"trips_segmentation_1\"\n",
    "print(requests.post('http://pinot-controller.pinot:9000/tables', json=table_config).json())\n",
    "\n",
    "table_config[\"tableName\"] = \"trips_segmentation_2\"\n",
    "table_config[\"segmentsConfig\"][\"replication\"] = \"3\"\n",
    "table_config[\"segmentsConfig\"][\"replicasPerPartition\"] = \"3\"\n",
    "table_config[\"tableIndexConfig\"][\"streamConfigs\"][\"realtime.segment.flush.threshold.size\"] = \"50000\"\n",
    "print(requests.post('http://pinot-controller.pinot:9000/tables', json=table_config).json())"
   ]
  },
  {
   "cell_type": "code",
   "execution_count": null,
   "id": "voluntary-edgar",
   "metadata": {},
   "outputs": [],
   "source": [
    "# response = requests.get('http://pinot-controller.pinot:9000/segments/trips_segmentation_1').json()\n",
    "# segments_1 = response[0]['REALTIME']\n",
    "# sort_by_ascending_ordinal(segments_1)\n",
    "# pd.DataFrame(segments_1, columns=['trips_segmentation_1'])"
   ]
  },
  {
   "cell_type": "code",
   "execution_count": null,
   "id": "worthy-swimming",
   "metadata": {
    "tags": []
   },
   "outputs": [],
   "source": [
    "# response = requests.get('http://pinot-controller.pinot:9000/segments/trips_segmentation_2').json()\n",
    "# segments_2 = response[0]['REALTIME']\n",
    "# sort_by_ascending_ordinal(segments_2)\n",
    "# pd.DataFrame(segments_2, columns=['trips_segmentation_2'])"
   ]
  },
  {
   "cell_type": "code",
   "execution_count": null,
   "id": "known-portal",
   "metadata": {},
   "outputs": [],
   "source": [
    "segment_metadata_1 = segment_metadata_for_table(\"trips_segmentation_1\")\n",
    "pd.DataFrame(segment_metadata_1)"
   ]
  },
  {
   "cell_type": "code",
   "execution_count": null,
   "id": "compressed-robin",
   "metadata": {},
   "outputs": [],
   "source": [
    "segment_metadata_2 = segment_metadata_for_table(\"trips_segmentation_2\")\n",
    "pd.DataFrame(segment_metadata_2)"
   ]
  },
  {
   "cell_type": "code",
   "execution_count": null,
   "id": "selected-alfred",
   "metadata": {},
   "outputs": [],
   "source": [
    "# get data from first 2 segments\n",
    "query_for_trips_segmentation_1 = f\"select driver_name, sum(count) as trips_count from trips_segmentation_1 where trip_start_time_millis < {start_time_of_nth_segment(segment_metadata_1, 1)} group by driver_name order by trips_count desc limit 5\"\n",
    "\n",
    "query_result = query_sql(query_for_trips_segmentation_1)\n",
    "query_result_to_dataframe(query_result)"
   ]
  },
  {
   "cell_type": "code",
   "execution_count": null,
   "id": "suspended-visibility",
   "metadata": {},
   "outputs": [],
   "source": [
    "extract_query_statistics_from_result_dataframe(query_result)"
   ]
  },
  {
   "cell_type": "code",
   "execution_count": null,
   "id": "caroline-intersection",
   "metadata": {},
   "outputs": [],
   "source": [
    "# get data from first 3 segments\n",
    "query_for_trips_segmentation_2 = f\"select driver_name, sum(count) as trips_count from trips_segmentation_2 where trip_start_time_millis < {start_time_of_nth_segment(segment_metadata_2, 2)} group by driver_name order by trips_count desc limit 5\"\n",
    "\n",
    "query_result = query_sql(query_for_trips_segmentation_2)\n",
    "query_result_to_dataframe(query_result)"
   ]
  },
  {
   "cell_type": "code",
   "execution_count": null,
   "id": "spiritual-virus",
   "metadata": {},
   "outputs": [],
   "source": [
    "extract_query_statistics_from_result_dataframe(query_result)"
   ]
  },
  {
   "cell_type": "markdown",
   "id": "dedicated-arrest",
   "metadata": {},
   "source": [
    "## Query Routing / Processing"
   ]
  },
  {
   "cell_type": "markdown",
   "id": "irish-coral",
   "metadata": {},
   "source": [
    "Brokers are responsible for maintaining routing tables, which contain mappings between segments of a table and servers where they are hosted on. This allows brokers to efficiently scatter received queries across servers."
   ]
  },
  {
   "cell_type": "code",
   "execution_count": null,
   "id": "drawn-product",
   "metadata": {},
   "outputs": [],
   "source": [
    "# some helpers\n",
    "def routing_table_for_query(query):\n",
    "    print(\"query: \" + query)\n",
    "    return requests.get('http://pinot-broker.pinot:8099/debug/routingTable/sql', params={\n",
    "        \"query\" : query\n",
    "    }).json()\n",
    "\n",
    "def routing_table_for_table(table):\n",
    "    return requests.get(f'http://pinot-broker.pinot:8099/debug/routingTable/{table}').json()\n",
    "\n",
    "def external_view_for_table(table):\n",
    "    return requests.get(f'http://pinot-controller.pinot:9000/tables/{table}/externalview').json()\n",
    "\n",
    "def routing_table_for_query_dataframe(query):\n",
    "    rt = routing_table_for_query(query)\n",
    "    rt_data = {}\n",
    "\n",
    "    for server, server_segments in rt.items():\n",
    "        server_name = server_name_from_instance(server)\n",
    "        for s in server_segments:\n",
    "            rt_data[s] = server_name\n",
    "\n",
    "    rt_data_list = []\n",
    "    for segment, server in rt_data.items():\n",
    "        rt_data_list.append({\"segment\": segment, \"server\": server})\n",
    "\n",
    "    rt_data_list.sort(key=lambda L: (int(ordinal_pattern.search(L[\"segment\"]).group(1)), L))\n",
    "    return pd.DataFrame(rt_data_list)\n",
    "\n",
    "def routing_table_for_table_dataframe(table):\n",
    "    rt = routing_table_for_table(table)\n",
    "    rt_data = {}\n",
    "\n",
    "    for table_name_type, table_rt in rt.items():\n",
    "        table_type = re.search('REALTIME|OFFLINE', table_name_type).group()\n",
    "        for server, server_segments in table_rt.items():\n",
    "            server_name = server_name_from_instance(server)\n",
    "            for s in server_segments:\n",
    "                try:\n",
    "                    rt_data[s][table_type] = server_name\n",
    "                except KeyError:\n",
    "                    rt_data[s] = {table_type: server_name}\n",
    "\n",
    "    rt_data_list = []\n",
    "    for segment, type_server in rt_data.items():\n",
    "        segment_data = {\"segment\": segment}\n",
    "        for table_type, server in type_server.items():\n",
    "            segment_data[table_type] = server\n",
    "        rt_data_list.append(segment_data)\n",
    "\n",
    "    rt_data_list.sort(key=lambda L: (int(ordinal_pattern.search(L[\"segment\"]).group(1)), L))\n",
    "    return pd.DataFrame(rt_data_list)\n",
    "\n",
    "def external_view_for_table_dataframe(table):\n",
    "    ev = external_view_for_table(table)\n",
    "    ev_data = {}\n",
    "\n",
    "    for table_type, ev_per_type in ev.items():\n",
    "        if ev_per_type == None:\n",
    "            continue\n",
    "        \n",
    "        for segment, segment_servers in ev_per_type.items():\n",
    "            if not segment in ev_data:\n",
    "                ev_data[segment] = {}\n",
    "            for server, state in segment_servers.items():\n",
    "                server_name = server_name_from_instance(server)\n",
    "                try:\n",
    "                    ev_data[segment][table_type].append(server_name)\n",
    "                except KeyError:\n",
    "                    ev_data[segment][table_type] = [server_name]\n",
    "\n",
    "    return pd.DataFrame(ev_data).transpose()"
   ]
  },
  {
   "cell_type": "code",
   "execution_count": null,
   "id": "hindu-picking",
   "metadata": {},
   "outputs": [],
   "source": [
    "external_view_for_table_dataframe(\"trips_segmentation_1\")"
   ]
  },
  {
   "cell_type": "code",
   "execution_count": null,
   "id": "unnecessary-heath",
   "metadata": {},
   "outputs": [],
   "source": [
    "external_view_for_table_dataframe(\"trips_segmentation_2\")"
   ]
  },
  {
   "cell_type": "code",
   "execution_count": null,
   "id": "stuck-mortgage",
   "metadata": {},
   "outputs": [],
   "source": [
    "routing_table_for_query_dataframe(query_for_trips_segmentation_1.replace(\"trips_segmentation_1\", \"trips_segmentation_1_REALTIME\"))"
   ]
  },
  {
   "cell_type": "code",
   "execution_count": null,
   "id": "incomplete-canada",
   "metadata": {},
   "outputs": [],
   "source": [
    "# routing_table_for_table_dataframe(\"trips_segmentation_1\")"
   ]
  },
  {
   "cell_type": "code",
   "execution_count": null,
   "id": "muslim-experience",
   "metadata": {},
   "outputs": [],
   "source": [
    "routing_table_for_query_dataframe(query_for_trips_segmentation_2.replace(\"trips_segmentation_2\", \"trips_segmentation_2_REALTIME\"))"
   ]
  },
  {
   "cell_type": "code",
   "execution_count": null,
   "id": "statewide-aquarium",
   "metadata": {},
   "outputs": [],
   "source": [
    "# routing_table_for_table_dataframe(\"trips_segmentation_2\")"
   ]
  },
  {
   "cell_type": "code",
   "execution_count": null,
   "id": "hundred-mandate",
   "metadata": {},
   "outputs": [],
   "source": []
  }
 ],
 "metadata": {
  "kernelspec": {
   "display_name": "Python 3",
   "language": "python",
   "name": "python3"
  },
  "language_info": {
   "codemirror_mode": {
    "name": "ipython",
    "version": 3
   },
   "file_extension": ".py",
   "mimetype": "text/x-python",
   "name": "python",
   "nbconvert_exporter": "python",
   "pygments_lexer": "ipython3",
   "version": "3.8.8"
  }
 },
 "nbformat": 4,
 "nbformat_minor": 5
}
