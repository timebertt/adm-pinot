{
 "cells": [
  {
   "cell_type": "markdown",
   "id": "threatened-samoa",
   "metadata": {},
   "source": [
    "# Batch ingestion and Hybrid Tables\n",
    "\n",
    "Segments are transferred as tar archives and can be downloaded from the controller."
   ]
  },
  {
   "cell_type": "code",
   "execution_count": 1,
   "id": "dependent-division",
   "metadata": {},
   "outputs": [],
   "source": [
    "# all imports\n",
    "import os\n",
    "import requests\n",
    "import shutil\n",
    "import fileinput\n",
    "import tarfile\n",
    "import json\n",
    "import io\n",
    "import re\n",
    "import pandas as pd"
   ]
  },
  {
   "cell_type": "code",
   "execution_count": 2,
   "id": "simplified-birmingham",
   "metadata": {},
   "outputs": [],
   "source": [
    "# some helpers\n",
    "def query_sql(query):\n",
    "    return requests.post('http://pinot-broker.pinot:8099/query/sql', json={\n",
    "        \"sql\" : query\n",
    "    }).json()\n",
    "\n",
    "def query_sql_dataframe(query):\n",
    "    result = query_sql(query)\n",
    "    return pd.DataFrame(columns=result['resultTable']['dataSchema']['columnNames'], data=result['resultTable']['rows'])"
   ]
  },
  {
   "cell_type": "code",
   "execution_count": 3,
   "id": "thermal-disabled",
   "metadata": {},
   "outputs": [
    {
     "data": {
      "text/plain": [
       "{'schemaName': 'trips',\n",
       " 'dimensionFieldSpecs': [{'name': 'rider_name',\n",
       "   'dataType': 'STRING',\n",
       "   'defaultNullValue': ''},\n",
       "  {'name': 'driver_name', 'dataType': 'STRING', 'defaultNullValue': ''},\n",
       "  {'name': 'license_plate', 'dataType': 'STRING', 'defaultNullValue': ''},\n",
       "  {'name': 'start_location', 'dataType': 'STRING', 'defaultNullValue': ''},\n",
       "  {'name': 'start_zip_code', 'dataType': 'STRING', 'defaultNullValue': ''},\n",
       "  {'name': 'end_location', 'dataType': 'STRING', 'defaultNullValue': ''},\n",
       "  {'name': 'end_zip_code', 'dataType': 'STRING', 'defaultNullValue': ''},\n",
       "  {'name': 'rider_is_premium', 'dataType': 'INT', 'defaultNullValue': 0}],\n",
       " 'metricFieldSpecs': [{'name': 'count',\n",
       "   'dataType': 'LONG',\n",
       "   'defaultNullValue': 1},\n",
       "  {'name': 'payment_amount', 'dataType': 'FLOAT'},\n",
       "  {'name': 'payment_tip_amount', 'dataType': 'FLOAT'},\n",
       "  {'name': 'trip_wait_time_millis', 'dataType': 'LONG'},\n",
       "  {'name': 'rider_rating', 'dataType': 'INT'},\n",
       "  {'name': 'driver_rating', 'dataType': 'INT'}],\n",
       " 'dateTimeFieldSpecs': [{'name': 'trip_start_time_millis',\n",
       "   'dataType': 'LONG',\n",
       "   'format': '1:MILLISECONDS:EPOCH',\n",
       "   'granularity': '1:MINUTES'},\n",
       "  {'name': 'request_time_millis',\n",
       "   'dataType': 'LONG',\n",
       "   'format': '1:MILLISECONDS:EPOCH',\n",
       "   'granularity': '1:MINUTES'},\n",
       "  {'name': 'trip_end_time_millis',\n",
       "   'dataType': 'LONG',\n",
       "   'format': '1:MILLISECONDS:EPOCH',\n",
       "   'granularity': '1:MINUTES'}]}"
      ]
     },
     "execution_count": 3,
     "metadata": {},
     "output_type": "execute_result"
    }
   ],
   "source": [
    "requests.get('http://pinot-controller.pinot:9000/schemas/trips').json()"
   ]
  },
  {
   "cell_type": "code",
   "execution_count": 4,
   "id": "abstract-cabin",
   "metadata": {},
   "outputs": [
    {
     "name": "stdout",
     "output_type": "stream",
     "text": [
      "{'code': 409, 'error': 'Table trips_hybrid_OFFLINE already exists'}\n",
      "{'status': 'Table trips_hybrid_REALTIME succesfully added'}\n"
     ]
    }
   ],
   "source": [
    "table_config = {\n",
    "  \"tableName\": \"trips_hybrid\",\n",
    "  \"tableType\": \"OFFLINE\",\n",
    "  \"segmentsConfig\": {\n",
    "    \"timeColumnName\": \"trip_start_time_millis\",\n",
    "    \"timeType\": \"MILLISECONDS\",\n",
    "    \"retentionTimeUnit\": \"DAYS\",\n",
    "    \"retentionTimeValue\": \"60\",\n",
    "    \"schemaName\": \"trips\",\n",
    "    \"replication\": \"1\"\n",
    "  },\n",
    "  \"tenants\": {},\n",
    "  \"tableIndexConfig\": {\n",
    "    \"loadMode\": \"MMAP\",\n",
    "    \"invertedIndexColumns\": [\n",
    "        \"rider_name\",\n",
    "        \"driver_name\",\n",
    "        \"start_location\",\n",
    "        \"end_location\"\n",
    "    ]\n",
    "  },\n",
    "  \"metadata\": {\n",
    "    \"customConfigs\": {}\n",
    "  }\n",
    "}\n",
    "\n",
    "# create offline table\n",
    "print(requests.post('http://pinot-controller.pinot:9000/tables', json=table_config).json())\n",
    "\n",
    "# create realtime table\n",
    "table_config[\"tableType\"] = \"REALTIME\"\n",
    "table_config[\"segmentsConfig\"][\"replicasPerPartition\"] = \"1\"\n",
    "table_config[\"tableIndexConfig\"][\"streamConfigs\"] = {\n",
    "  \"streamType\": \"kafka\",\n",
    "  \"stream.kafka.consumer.type\": \"simple\",\n",
    "  \"stream.kafka.topic.name\": \"trips_gendata\",\n",
    "  \"stream.kafka.decoder.class.name\": \"org.apache.pinot.plugin.stream.kafka.KafkaJSONMessageDecoder\",\n",
    "  \"stream.kafka.consumer.factory.class.name\": \"org.apache.pinot.plugin.stream.kafka20.KafkaConsumerFactory\",\n",
    "  \"stream.kafka.zk.broker.url\": \"pinot-kafka-zookeeper:2181\",\n",
    "  \"stream.kafka.broker.list\": \"pinot-kafka:9092\",\n",
    "  \"realtime.segment.flush.threshold.time\": \"12h\",\n",
    "  \"realtime.segment.flush.threshold.size\": \"5000\",\n",
    "  \"stream.kafka.consumer.prop.auto.offset.reset\": \"smallest\"\n",
    "}\n",
    "print(requests.post('http://pinot-controller.pinot:9000/tables', json=table_config).json())"
   ]
  },
  {
   "cell_type": "code",
   "execution_count": 5,
   "id": "arabic-terrace",
   "metadata": {},
   "outputs": [
    {
     "data": {
      "text/html": [
       "<div>\n",
       "<style scoped>\n",
       "    .dataframe tbody tr th:only-of-type {\n",
       "        vertical-align: middle;\n",
       "    }\n",
       "\n",
       "    .dataframe tbody tr th {\n",
       "        vertical-align: top;\n",
       "    }\n",
       "\n",
       "    .dataframe thead th {\n",
       "        text-align: right;\n",
       "    }\n",
       "</style>\n",
       "<table border=\"1\" class=\"dataframe\">\n",
       "  <thead>\n",
       "    <tr style=\"text-align: right;\">\n",
       "      <th></th>\n",
       "      <th>REALTIME</th>\n",
       "    </tr>\n",
       "  </thead>\n",
       "  <tbody>\n",
       "    <tr>\n",
       "      <th>0</th>\n",
       "      <td>trips_hybrid__0__0__20210402T1115Z</td>\n",
       "    </tr>\n",
       "    <tr>\n",
       "      <th>1</th>\n",
       "      <td>trips_hybrid__0__1__20210402T1115Z</td>\n",
       "    </tr>\n",
       "    <tr>\n",
       "      <th>2</th>\n",
       "      <td>trips_hybrid__0__2__20210402T1115Z</td>\n",
       "    </tr>\n",
       "    <tr>\n",
       "      <th>3</th>\n",
       "      <td>trips_hybrid__0__3__20210402T1115Z</td>\n",
       "    </tr>\n",
       "    <tr>\n",
       "      <th>4</th>\n",
       "      <td>trips_hybrid__0__4__20210402T1115Z</td>\n",
       "    </tr>\n",
       "    <tr>\n",
       "      <th>5</th>\n",
       "      <td>trips_hybrid__0__5__20210402T1115Z</td>\n",
       "    </tr>\n",
       "    <tr>\n",
       "      <th>6</th>\n",
       "      <td>trips_hybrid__0__6__20210402T1115Z</td>\n",
       "    </tr>\n",
       "    <tr>\n",
       "      <th>7</th>\n",
       "      <td>trips_hybrid__0__7__20210402T2315Z</td>\n",
       "    </tr>\n",
       "  </tbody>\n",
       "</table>\n",
       "</div>"
      ],
      "text/plain": [
       "                             REALTIME\n",
       "0  trips_hybrid__0__0__20210402T1115Z\n",
       "1  trips_hybrid__0__1__20210402T1115Z\n",
       "2  trips_hybrid__0__2__20210402T1115Z\n",
       "3  trips_hybrid__0__3__20210402T1115Z\n",
       "4  trips_hybrid__0__4__20210402T1115Z\n",
       "5  trips_hybrid__0__5__20210402T1115Z\n",
       "6  trips_hybrid__0__6__20210402T1115Z\n",
       "7  trips_hybrid__0__7__20210402T2315Z"
      ]
     },
     "execution_count": 5,
     "metadata": {},
     "output_type": "execute_result"
    }
   ],
   "source": [
    "# list all segments\n",
    "response = requests.get('http://pinot-controller.pinot:9000/segments/trips_hybrid').json()\n",
    "realtime_segments = []\n",
    "for segments in response:\n",
    "    if \"REALTIME\" in segments:\n",
    "        realtime_segments = segments[\"REALTIME\"]\n",
    "pd.DataFrame(realtime_segments, columns=[\"REALTIME\"])"
   ]
  },
  {
   "cell_type": "code",
   "execution_count": 38,
   "id": "dependent-occasions",
   "metadata": {},
   "outputs": [
    {
     "name": "stdout",
     "output_type": "stream",
     "text": [
      "http://pinot-controller-0.pinot-controller-headless.pinot.svc.cluster.local:9000/segments/trips_hybrid/trips_hybrid__0__1__20210402T1115Z\n"
     ]
    }
   ],
   "source": [
    "# get download URL for first segment\n",
    "segment_name = realtime_segments[0]\n",
    "segment_meta = requests.get(f'http://pinot-controller.pinot:9000/segments/trips_hybrid/{segment_name}/metadata').json()\n",
    "download_url = \"\"\n",
    "if segment_meta[\"segment.realtime.status\"] == \"DONE\":\n",
    "    download_url = segment_meta[\"segment.realtime.download.url\"]\n",
    "print(download_url)"
   ]
  },
  {
   "cell_type": "code",
   "execution_count": 39,
   "id": "applied-turkey",
   "metadata": {},
   "outputs": [],
   "source": [
    "segment_realtime_tar = \"/tmp/trips_segment_realtime.tar.gz\"\n",
    "\n",
    "# cleanup old downloads\n",
    "try:\n",
    "    os.remove(segment_realtime_tar)\n",
    "except OSError:\n",
    "    pass\n",
    "\n",
    "# download segment to local file\n",
    "response = requests.get(download_url, stream=True)\n",
    "with open(segment_realtime_tar, 'wb') as out_file:\n",
    "    shutil.copyfileobj(response.raw, out_file)\n",
    "del response"
   ]
  },
  {
   "cell_type": "code",
   "execution_count": 40,
   "id": "secure-youth",
   "metadata": {},
   "outputs": [],
   "source": [
    "segment_offline_basedir = \"/tmp/trips_segment_realtime\"\n",
    "\n",
    "# cleanup old artifacts\n",
    "shutil.rmtree(segment_offline_basedir, ignore_errors=True)\n",
    "\n",
    "# extract downloaded segment tar\n",
    "with tarfile.open(segment_realtime_tar, 'r:gz') as tar:\n",
    "    tar.extractall(path=segment_offline_basedir)\n",
    "\n",
    "# modify metadata.properties of segment\n",
    "segment_offline_dir = segment_offline_basedir + \"/\" + segment_name\n",
    "metadata_file = segment_offline_dir + \"/v3/metadata.properties\"\n",
    "metadata_contents = None\n",
    "with open(metadata_file, 'r') as file:\n",
    "  metadata_contents = file.read()\n",
    "metadata_contents = metadata_contents.replace('trips_hybrid_REALTIME', 'trips_hybrid_OFFLINE')\n",
    "with open(metadata_file, 'w') as file:\n",
    "  file.write(metadata_contents)\n",
    "del metadata_contents\n",
    "\n",
    "# create new offline segment tar based on realtime segment\n",
    "segment_offline_tar = \"/tmp/trips_segment_offline.tar.gz\"\n",
    "with tarfile.open(segment_offline_tar, 'w:gz') as tar:\n",
    "    tar.add(segment_offline_dir, arcname=segment_name)"
   ]
  },
  {
   "cell_type": "markdown",
   "id": "grave-positive",
   "metadata": {},
   "source": [
    "### Segment URI Push\n",
    "Let controller fetch segment tar from some blob store ([docs](https://docs.pinot.apache.org/basics/data-import/batch-ingestion#segment-uri-push))."
   ]
  },
  {
   "cell_type": "code",
   "execution_count": 41,
   "id": "quarterly-premiere",
   "metadata": {},
   "outputs": [],
   "source": [
    "# response = requests.post('http://pinot-controller.pinot:9000/v2/segments?table=trips_hybrid', headers={\n",
    "#     'UPLOAD_TYPE': 'URI',\n",
    "#     'DOWNLOAD_URI': download_url\n",
    "# })\n",
    "# print(response)\n",
    "# print(response.json())"
   ]
  },
  {
   "cell_type": "markdown",
   "id": "pediatric-cameroon",
   "metadata": {},
   "source": [
    "### Segment Tar Push\n",
    "Push segment tar to controller ([docs](https://docs.pinot.apache.org/basics/data-import/batch-ingestion#segment-tar-push))."
   ]
  },
  {
   "cell_type": "code",
   "execution_count": 42,
   "id": "ultimate-spending",
   "metadata": {},
   "outputs": [
    {
     "name": "stdout",
     "output_type": "stream",
     "text": [
      "<Response [200]>\n",
      "{'status': 'Successfully uploaded segment: trips_hybrid__0__1__20210402T1115Z of table: trips_hybrid_OFFLINE'}\n"
     ]
    }
   ],
   "source": [
    "# POST segment as multipart/form-data for key 'segment'\n",
    "response = requests.post('http://pinot-controller.pinot:9000/v2/segments?table=trips_hybrid', files={\n",
    "    'segment': open(segment_offline_tar, 'rb')\n",
    "})\n",
    "print(response)\n",
    "print(response.json())"
   ]
  },
  {
   "cell_type": "markdown",
   "id": "quarterly-congress",
   "metadata": {},
   "source": [
    "### Show external view for hybrid table"
   ]
  },
  {
   "cell_type": "code",
   "execution_count": 43,
   "id": "loose-portfolio",
   "metadata": {},
   "outputs": [
    {
     "data": {
      "text/html": [
       "<div>\n",
       "<style scoped>\n",
       "    .dataframe tbody tr th:only-of-type {\n",
       "        vertical-align: middle;\n",
       "    }\n",
       "\n",
       "    .dataframe tbody tr th {\n",
       "        vertical-align: top;\n",
       "    }\n",
       "\n",
       "    .dataframe thead th {\n",
       "        text-align: right;\n",
       "    }\n",
       "</style>\n",
       "<table border=\"1\" class=\"dataframe\">\n",
       "  <thead>\n",
       "    <tr style=\"text-align: right;\">\n",
       "      <th></th>\n",
       "      <th>OFFLINE</th>\n",
       "      <th>REALTIME</th>\n",
       "    </tr>\n",
       "  </thead>\n",
       "  <tbody>\n",
       "    <tr>\n",
       "      <th>trips_hybrid__0__0__20210402T1115Z</th>\n",
       "      <td>[pinot-server-0]</td>\n",
       "      <td>[pinot-server-1]</td>\n",
       "    </tr>\n",
       "    <tr>\n",
       "      <th>trips_hybrid__0__1__20210402T1115Z</th>\n",
       "      <td>[pinot-server-1]</td>\n",
       "      <td>[pinot-server-1]</td>\n",
       "    </tr>\n",
       "    <tr>\n",
       "      <th>trips_hybrid__0__2__20210402T1115Z</th>\n",
       "      <td>NaN</td>\n",
       "      <td>[pinot-server-1]</td>\n",
       "    </tr>\n",
       "    <tr>\n",
       "      <th>trips_hybrid__0__3__20210402T1115Z</th>\n",
       "      <td>NaN</td>\n",
       "      <td>[pinot-server-1]</td>\n",
       "    </tr>\n",
       "    <tr>\n",
       "      <th>trips_hybrid__0__4__20210402T1115Z</th>\n",
       "      <td>NaN</td>\n",
       "      <td>[pinot-server-1]</td>\n",
       "    </tr>\n",
       "    <tr>\n",
       "      <th>trips_hybrid__0__5__20210402T1115Z</th>\n",
       "      <td>NaN</td>\n",
       "      <td>[pinot-server-1]</td>\n",
       "    </tr>\n",
       "    <tr>\n",
       "      <th>trips_hybrid__0__6__20210402T1115Z</th>\n",
       "      <td>NaN</td>\n",
       "      <td>[pinot-server-1]</td>\n",
       "    </tr>\n",
       "    <tr>\n",
       "      <th>trips_hybrid__0__7__20210402T2315Z</th>\n",
       "      <td>NaN</td>\n",
       "      <td>[pinot-server-1]</td>\n",
       "    </tr>\n",
       "  </tbody>\n",
       "</table>\n",
       "</div>"
      ],
      "text/plain": [
       "                                             OFFLINE          REALTIME\n",
       "trips_hybrid__0__0__20210402T1115Z  [pinot-server-0]  [pinot-server-1]\n",
       "trips_hybrid__0__1__20210402T1115Z  [pinot-server-1]  [pinot-server-1]\n",
       "trips_hybrid__0__2__20210402T1115Z               NaN  [pinot-server-1]\n",
       "trips_hybrid__0__3__20210402T1115Z               NaN  [pinot-server-1]\n",
       "trips_hybrid__0__4__20210402T1115Z               NaN  [pinot-server-1]\n",
       "trips_hybrid__0__5__20210402T1115Z               NaN  [pinot-server-1]\n",
       "trips_hybrid__0__6__20210402T1115Z               NaN  [pinot-server-1]\n",
       "trips_hybrid__0__7__20210402T2315Z               NaN  [pinot-server-1]"
      ]
     },
     "execution_count": 43,
     "metadata": {},
     "output_type": "execute_result"
    }
   ],
   "source": [
    "externalview = requests.get('http://pinot-controller.pinot:9000/tables/trips_hybrid/externalview').json()\n",
    "externalview_data = {}\n",
    "\n",
    "server_name_regex = re.compile('pinot-server-[0-9]+')\n",
    "\n",
    "for table_type, externalview_per_type in externalview.items():\n",
    "    for segment, segment_servers in externalview_per_type.items():\n",
    "        if not segment in externalview_data:\n",
    "            externalview_data[segment] = {}\n",
    "        for server, state in segment_servers.items():\n",
    "            server_name = server_name_regex.search(server).group()\n",
    "            try:\n",
    "                externalview_data[segment][table_type].append(server_name)\n",
    "            except KeyError:\n",
    "                externalview_data[segment][table_type] = [server_name]\n",
    "\n",
    "pd.DataFrame(externalview_data).transpose()"
   ]
  },
  {
   "cell_type": "markdown",
   "id": "round-virtue",
   "metadata": {},
   "source": [
    "### Example Query: Top 5 drivers"
   ]
  },
  {
   "cell_type": "code",
   "execution_count": 37,
   "id": "familiar-adoption",
   "metadata": {},
   "outputs": [
    {
     "data": {
      "text/html": [
       "<div>\n",
       "<style scoped>\n",
       "    .dataframe tbody tr th:only-of-type {\n",
       "        vertical-align: middle;\n",
       "    }\n",
       "\n",
       "    .dataframe tbody tr th {\n",
       "        vertical-align: top;\n",
       "    }\n",
       "\n",
       "    .dataframe thead th {\n",
       "        text-align: right;\n",
       "    }\n",
       "</style>\n",
       "<table border=\"1\" class=\"dataframe\">\n",
       "  <thead>\n",
       "    <tr style=\"text-align: right;\">\n",
       "      <th></th>\n",
       "      <th>driver_name</th>\n",
       "      <th>trips</th>\n",
       "    </tr>\n",
       "  </thead>\n",
       "  <tbody>\n",
       "    <tr>\n",
       "      <th>0</th>\n",
       "      <td>Jonathan Johnson</td>\n",
       "      <td>2.0</td>\n",
       "    </tr>\n",
       "    <tr>\n",
       "      <th>1</th>\n",
       "      <td>Lorraine Johnson</td>\n",
       "      <td>2.0</td>\n",
       "    </tr>\n",
       "    <tr>\n",
       "      <th>2</th>\n",
       "      <td>James Smith</td>\n",
       "      <td>2.0</td>\n",
       "    </tr>\n",
       "    <tr>\n",
       "      <th>3</th>\n",
       "      <td>Mildred Johnson</td>\n",
       "      <td>2.0</td>\n",
       "    </tr>\n",
       "    <tr>\n",
       "      <th>4</th>\n",
       "      <td>James Davis</td>\n",
       "      <td>2.0</td>\n",
       "    </tr>\n",
       "  </tbody>\n",
       "</table>\n",
       "</div>"
      ],
      "text/plain": [
       "        driver_name  trips\n",
       "0  Jonathan Johnson    2.0\n",
       "1  Lorraine Johnson    2.0\n",
       "2       James Smith    2.0\n",
       "3   Mildred Johnson    2.0\n",
       "4       James Davis    2.0"
      ]
     },
     "execution_count": 37,
     "metadata": {},
     "output_type": "execute_result"
    }
   ],
   "source": [
    "query_sql_dataframe(\"\"\"\n",
    "    SELECT driver_name, sum(count) as trips\n",
    "    FROM trips_hybrid\n",
    "    GROUP BY driver_name\n",
    "    HAVING trips > 1\n",
    "    LIMIT 5\n",
    "    \"\"\")"
   ]
  },
  {
   "cell_type": "code",
   "execution_count": null,
   "id": "normal-player",
   "metadata": {},
   "outputs": [],
   "source": []
  }
 ],
 "metadata": {
  "kernelspec": {
   "display_name": "Python 3",
   "language": "python",
   "name": "python3"
  },
  "language_info": {
   "codemirror_mode": {
    "name": "ipython",
    "version": 3
   },
   "file_extension": ".py",
   "mimetype": "text/x-python",
   "name": "python",
   "nbconvert_exporter": "python",
   "pygments_lexer": "ipython3",
   "version": "3.8.8"
  }
 },
 "nbformat": 4,
 "nbformat_minor": 5
}
