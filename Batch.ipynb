{
 "cells": [
  {
   "cell_type": "markdown",
   "id": "super-equation",
   "metadata": {},
   "source": [
    "# Batch ingestion in Pinot\n",
    "\n",
    "Segments are transferred as tar archives and can be downloaded from the controller."
   ]
  },
  {
   "cell_type": "code",
   "execution_count": 13,
   "id": "nominated-midwest",
   "metadata": {},
   "outputs": [],
   "source": [
    "# all imports\n",
    "import requests\n",
    "import json\n",
    "import io\n",
    "import re\n",
    "import pandas as pd"
   ]
  },
  {
   "cell_type": "code",
   "execution_count": 19,
   "id": "ecological-table",
   "metadata": {},
   "outputs": [],
   "source": [
    "# some helpers\n",
    "def query_sql(query):\n",
    "    return requests.post('http://pinot-broker.pinot:8099/query/sql', json={\n",
    "        \"sql\" : query\n",
    "    }).json()\n",
    "\n",
    "def query_sql_dataframe(query):\n",
    "    result = query_sql(query)\n",
    "    return pd.DataFrame(columns=result['resultTable']['dataSchema']['columnNames'], data=result['resultTable']['rows'])"
   ]
  },
  {
   "cell_type": "code",
   "execution_count": 15,
   "id": "entertaining-grant",
   "metadata": {},
   "outputs": [
    {
     "data": {
      "text/plain": [
       "{'schemaName': 'trips',\n",
       " 'dimensionFieldSpecs': [{'name': 'rider_name',\n",
       "   'dataType': 'STRING',\n",
       "   'defaultNullValue': ''},\n",
       "  {'name': 'driver_name', 'dataType': 'STRING', 'defaultNullValue': ''},\n",
       "  {'name': 'license_plate', 'dataType': 'STRING', 'defaultNullValue': ''},\n",
       "  {'name': 'start_location', 'dataType': 'STRING', 'defaultNullValue': ''},\n",
       "  {'name': 'start_zip_code', 'dataType': 'STRING', 'defaultNullValue': ''},\n",
       "  {'name': 'end_location', 'dataType': 'STRING', 'defaultNullValue': ''},\n",
       "  {'name': 'end_zip_code', 'dataType': 'STRING', 'defaultNullValue': ''},\n",
       "  {'name': 'rider_is_premium', 'dataType': 'INT', 'defaultNullValue': 0}],\n",
       " 'metricFieldSpecs': [{'name': 'count',\n",
       "   'dataType': 'LONG',\n",
       "   'defaultNullValue': 1},\n",
       "  {'name': 'payment_amount', 'dataType': 'FLOAT'},\n",
       "  {'name': 'payment_tip_amount', 'dataType': 'FLOAT'},\n",
       "  {'name': 'trip_wait_time_millis', 'dataType': 'LONG'},\n",
       "  {'name': 'rider_rating', 'dataType': 'INT'},\n",
       "  {'name': 'driver_rating', 'dataType': 'INT'}],\n",
       " 'dateTimeFieldSpecs': [{'name': 'trip_start_time_millis',\n",
       "   'dataType': 'LONG',\n",
       "   'format': '1:MILLISECONDS:EPOCH',\n",
       "   'granularity': '1:MINUTES'},\n",
       "  {'name': 'request_time_millis',\n",
       "   'dataType': 'LONG',\n",
       "   'format': '1:MILLISECONDS:EPOCH',\n",
       "   'granularity': '1:MINUTES'},\n",
       "  {'name': 'trip_end_time_millis',\n",
       "   'dataType': 'LONG',\n",
       "   'format': '1:MILLISECONDS:EPOCH',\n",
       "   'granularity': '1:MINUTES'}]}"
      ]
     },
     "execution_count": 15,
     "metadata": {},
     "output_type": "execute_result"
    }
   ],
   "source": [
    "requests.get('http://pinot-controller.pinot:9000/schemas/trips').json()"
   ]
  },
  {
   "cell_type": "code",
   "execution_count": 16,
   "id": "shaped-cause",
   "metadata": {},
   "outputs": [
    {
     "name": "stdout",
     "output_type": "stream",
     "text": [
      "{'code': 409, 'error': 'Table trips_batch_OFFLINE already exists'}\n"
     ]
    }
   ],
   "source": [
    "table_config = {\n",
    "  \"tableName\": \"trips_batch\",\n",
    "  \"tableType\": \"OFFLINE\",\n",
    "  \"segmentsConfig\": {\n",
    "    \"timeColumnName\": \"trip_start_time_millis\",\n",
    "    \"timeType\": \"MILLISECONDS\",\n",
    "    \"retentionTimeUnit\": \"DAYS\",\n",
    "    \"retentionTimeValue\": \"60\",\n",
    "    \"schemaName\": \"trips\",\n",
    "    \"replication\": \"1\"\n",
    "  },\n",
    "  \"tenants\": {},\n",
    "  \"tableIndexConfig\": {\n",
    "    \"loadMode\": \"MMAP\",\n",
    "    \"invertedIndexColumns\": [\n",
    "        \"rider_name\",\n",
    "        \"driver_name\",\n",
    "        \"start_location\",\n",
    "        \"end_location\"\n",
    "    ]\n",
    "  },\n",
    "  \"metadata\": {\n",
    "    \"customConfigs\": {}\n",
    "  }\n",
    "}\n",
    "\n",
    "print(requests.post('http://pinot-controller.pinot:9000/tables', json=table_config).json())"
   ]
  },
  {
   "cell_type": "code",
   "execution_count": 22,
   "id": "ready-intention",
   "metadata": {},
   "outputs": [
    {
     "name": "stdout",
     "output_type": "stream",
     "text": [
      "<Response [200]>\n",
      "{'status': 'Successfully uploaded segment: trips_batch_1__0__0__20210330T2132Z of table: trips_batch'}\n"
     ]
    }
   ],
   "source": [
    "response = requests.post('http://pinot-controller.pinot:9000/v2/segments?table=trips_batch', headers={\n",
    "    'UPLOAD_TYPE': 'URI',\n",
    "    'DOWNLOAD_URI': 'https://adm-pinot.s3.eu-central-1.amazonaws.com/trips_batch.tar.gz'\n",
    "})\n",
    "print(response)\n",
    "print(response.json())"
   ]
  },
  {
   "cell_type": "markdown",
   "id": "middle-translation",
   "metadata": {},
   "source": [
    "### Example Query: Top 5 drivers"
   ]
  },
  {
   "cell_type": "code",
   "execution_count": 23,
   "id": "periodic-proxy",
   "metadata": {},
   "outputs": [
    {
     "data": {
      "text/html": [
       "<div>\n",
       "<style scoped>\n",
       "    .dataframe tbody tr th:only-of-type {\n",
       "        vertical-align: middle;\n",
       "    }\n",
       "\n",
       "    .dataframe tbody tr th {\n",
       "        vertical-align: top;\n",
       "    }\n",
       "\n",
       "    .dataframe thead th {\n",
       "        text-align: right;\n",
       "    }\n",
       "</style>\n",
       "<table border=\"1\" class=\"dataframe\">\n",
       "  <thead>\n",
       "    <tr style=\"text-align: right;\">\n",
       "      <th></th>\n",
       "      <th>driver_name</th>\n",
       "      <th>trips</th>\n",
       "    </tr>\n",
       "  </thead>\n",
       "  <tbody>\n",
       "    <tr>\n",
       "      <th>0</th>\n",
       "      <td>Jonathan Johnson</td>\n",
       "      <td>2.0</td>\n",
       "    </tr>\n",
       "    <tr>\n",
       "      <th>1</th>\n",
       "      <td>Lorraine Johnson</td>\n",
       "      <td>2.0</td>\n",
       "    </tr>\n",
       "    <tr>\n",
       "      <th>2</th>\n",
       "      <td>James Smith</td>\n",
       "      <td>2.0</td>\n",
       "    </tr>\n",
       "    <tr>\n",
       "      <th>3</th>\n",
       "      <td>Mildred Johnson</td>\n",
       "      <td>2.0</td>\n",
       "    </tr>\n",
       "    <tr>\n",
       "      <th>4</th>\n",
       "      <td>James Davis</td>\n",
       "      <td>2.0</td>\n",
       "    </tr>\n",
       "  </tbody>\n",
       "</table>\n",
       "</div>"
      ],
      "text/plain": [
       "        driver_name  trips\n",
       "0  Jonathan Johnson    2.0\n",
       "1  Lorraine Johnson    2.0\n",
       "2       James Smith    2.0\n",
       "3   Mildred Johnson    2.0\n",
       "4       James Davis    2.0"
      ]
     },
     "execution_count": 23,
     "metadata": {},
     "output_type": "execute_result"
    }
   ],
   "source": [
    "query_sql_dataframe(\"\"\"\n",
    "    SELECT driver_name, sum(count) as trips\n",
    "    FROM trips_batch\n",
    "    GROUP BY driver_name\n",
    "    HAVING trips > 1\n",
    "    LIMIT 5\n",
    "    \"\"\")"
   ]
  },
  {
   "cell_type": "code",
   "execution_count": null,
   "id": "chemical-wallace",
   "metadata": {},
   "outputs": [],
   "source": []
  }
 ],
 "metadata": {
  "kernelspec": {
   "display_name": "Python 3",
   "language": "python",
   "name": "python3"
  },
  "language_info": {
   "codemirror_mode": {
    "name": "ipython",
    "version": 3
   },
   "file_extension": ".py",
   "mimetype": "text/x-python",
   "name": "python",
   "nbconvert_exporter": "python",
   "pygments_lexer": "ipython3",
   "version": "3.8.8"
  }
 },
 "nbformat": 4,
 "nbformat_minor": 5
}
